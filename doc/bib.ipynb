{
 "cells": [
  {
   "cell_type": "code",
   "execution_count": 43,
   "metadata": {},
   "outputs": [
    {
     "name": "stdout",
     "output_type": "stream",
     "text": [
      "book {\n",
      "        title = {Life cycle assessment of Internet of Things(IoT) solution in Södertälje municipality– A smart waste collection system}\n",
      "        author = {Chiew, Yoon Lin and Brunklaus, Birgit}\n",
      "        year = {2021}\n",
      "        month = None\n",
      "    ['ISBN', 'abstractNote', 'accessDate', 'archive', 'archiveLocation', 'callNumber', 'collections', 'count', 'creators', 'date', 'dateAdded', 'dateModified', 'edition', 'extra', 'index', 'itemType', 'key', 'language', 'libraryCatalog', 'numPages', 'numberOfVolumes', 'place', 'publisher', 'relations', 'rights', 'series', 'seriesNumber', 'shortTitle', 'tags', 'title', 'url', 'version', 'volume']\n",
      "}\n",
      "\n",
      "report {\n",
      "        title = {LCA of Dell Servers R6515, R7515, R6525, R7525}\n",
      "        author = {Saraev, Alexandra and Gama, Margarida and Piontek, Felix M. and Negi, Pranav}\n",
      "        year = {24-02-2021}\n",
      "        month = None\n",
      "    ['abstractNote', 'accessDate', 'archive', 'archiveLocation', 'callNumber', 'collections', 'count', 'creators', 'date', 'dateAdded', 'dateModified', 'extra', 'index', 'institution', 'itemType', 'key', 'language', 'libraryCatalog', 'pages', 'place', 'relations', 'reportNumber', 'reportType', 'rights', 'seriesTitle', 'shortTitle', 'tags', 'title', 'url', 'version']\n",
      "}\n",
      "\n",
      "webpage {\n",
      "        title = {How can we reduce the environmental impact of IoT projects?}\n",
      "        author = {Gachet, Anastasia}\n",
      "        year = {2020}\n",
      "        month = 12\n",
      "    ['abstractNote', 'accessDate', 'collections', 'count', 'creators', 'date', 'dateAdded', 'dateModified', 'extra', 'index', 'itemType', 'key', 'language', 'relations', 'rights', 'shortTitle', 'tags', 'title', 'url', 'version', 'websiteTitle', 'websiteType']\n",
      "}\n",
      "\n",
      "report {\n",
      "        title = {Behind the Figures: Understanding the environmental impacts of ICT and taking action}\n",
      "        author = {Bordage, Frederic and de Montenay, Lorraine and Benqassem, Sofia and Delmas-Orgelet, Julie and Domon, Firmin and Prunel, Damien and Vateau, Caroline and Lees Perasso, Etienne}\n",
      "        year = {2021}\n",
      "        month = 12\n",
      "    ['abstractNote', 'accessDate', 'archive', 'archiveLocation', 'callNumber', 'collections', 'count', 'creators', 'date', 'dateAdded', 'dateModified', 'extra', 'index', 'institution', 'itemType', 'key', 'language', 'libraryCatalog', 'pages', 'place', 'relations', 'reportNumber', 'reportType', 'rights', 'seriesTitle', 'shortTitle', 'tags', 'title', 'url', 'version']\n",
      "}\n",
      "\n",
      "report {\n",
      "        title = {Digital technologies in Europe: an environmental life cycle approach}\n",
      "        author = {Benqassem, Sofia and Bordage, Frederic and de Montenay, Lorraine and Delmas-Orgelet, Julie and Domon, Firmin and Lees Perasso, Etienne and Prunel, Damien and Vateau, Caroline}\n",
      "        year = {7 December 2021}\n",
      "        month = None\n",
      "    ['abstractNote', 'accessDate', 'archive', 'archiveLocation', 'callNumber', 'collections', 'count', 'creators', 'date', 'dateAdded', 'dateModified', 'extra', 'index', 'institution', 'itemType', 'key', 'language', 'libraryCatalog', 'pages', 'place', 'relations', 'reportNumber', 'reportType', 'rights', 'seriesTitle', 'shortTitle', 'tags', 'title', 'url', 'version']\n",
      "}\n",
      "\n"
     ]
    }
   ],
   "source": [
    "from pyzotero import zotero\n",
    "from dateutil.parser import parse\n",
    "from collections import namedtuple\n",
    "from datetime import datetime\n",
    "\n",
    "LIBID=10913220\n",
    "API_KEY=\"6RyWDDn8ThFMTIslGibeB5if\"\n",
    "zot = zotero.Zotero(LIBID, \"user\", API_KEY)\n",
    "items = zot.top(limit=5)\n",
    "for item in items:\n",
    "    RefItem = namedtuple(\"RefItem\", item[\"data\"].keys())\n",
    "    meta = RefItem(**item[\"data\"])    \n",
    "    authors = \" and \".join([\n",
    "        f\"{a['lastName']}, {a['firstName']}\" for a in meta.creators\n",
    "    ])\n",
    "    year, month = None, None\n",
    "    try:\n",
    "        dt = datetime.fromisoformat(meta.date)\n",
    "        year = dt.year\n",
    "        month = dt.month\n",
    "    except ValueError:\n",
    "        fmts = [\"%d-%m-%Y\"]\n",
    "        for fmt in fmts:\n",
    "            try:\n",
    "                dt = datetime.strptime(fmt, meta.date)\n",
    "                year = dt.year\n",
    "                month = dt.month\n",
    "                break\n",
    "            except:\n",
    "                pass\n",
    "        else:\n",
    "            year = meta.date\n",
    "    print(\n",
    "        f\"\"\"{meta.itemType} {{\n",
    "        title = {{{meta.title}}}\n",
    "        author = {{{authors}}}\n",
    "        year = {{{year}}}\n",
    "        month = {month}\n",
    "    {[f for f in dir(meta) if not f.startswith('_')]}\n",
    "}}\n",
    "\"\"\")\n"
   ]
  },
  {
   "cell_type": "code",
   "execution_count": 13,
   "metadata": {},
   "outputs": [
    {
     "ename": "NameError",
     "evalue": "name 'meta' is not defined",
     "output_type": "error",
     "traceback": [
      "\u001b[1;31m---------------------------------------------------------------------------\u001b[0m",
      "\u001b[1;31mNameError\u001b[0m                                 Traceback (most recent call last)",
      "Cell \u001b[1;32mIn[13], line 1\u001b[0m\n\u001b[1;32m----> 1\u001b[0m \u001b[39mdir\u001b[39m(meta)\n",
      "\u001b[1;31mNameError\u001b[0m: name 'meta' is not defined"
     ]
    }
   ],
   "source": [
    "dir(meta)"
   ]
  },
  {
   "cell_type": "code",
   "execution_count": null,
   "metadata": {},
   "outputs": [],
   "source": []
  }
 ],
 "metadata": {
  "kernelspec": {
   "display_name": ".venv",
   "language": "python",
   "name": "python3"
  },
  "language_info": {
   "codemirror_mode": {
    "name": "ipython",
    "version": 3
   },
   "file_extension": ".py",
   "mimetype": "text/x-python",
   "name": "python",
   "nbconvert_exporter": "python",
   "pygments_lexer": "ipython3",
   "version": "3.11.2"
  },
  "orig_nbformat": 4
 },
 "nbformat": 4,
 "nbformat_minor": 2
}
