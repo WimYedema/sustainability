{
 "cells": [
  {
   "cell_type": "markdown",
   "metadata": {},
   "source": [
    "# Exploring data of saraevLCAServersR65152021"
   ]
  },
  {
   "cell_type": "code",
   "execution_count": 1,
   "metadata": {},
   "outputs": [
    {
     "data": {
      "text/html": [
       "<style>.itables table td {\n",
       "    text-overflow: ellipsis;\n",
       "    overflow: hidden;\n",
       "}\n",
       "\n",
       ".itables table th {\n",
       "    text-overflow: ellipsis;\n",
       "    overflow: hidden;\n",
       "}\n",
       "\n",
       ".itables thead input {\n",
       "    width: 100%;\n",
       "    padding: 3px;\n",
       "    box-sizing: border-box;\n",
       "}\n",
       "\n",
       ".itables tfoot input {\n",
       "    width: 100%;\n",
       "    padding: 3px;\n",
       "    box-sizing: border-box;\n",
       "}\n",
       "</style>\n",
       "<div class=\"itables\">\n",
       "<table id=\"f59a2d75-e487-4f4a-8910-813fda91197d\" class=\"display nowrap\"style=\"table-layout:auto;width:auto;margin:auto;caption-side:bottom\"><thead>\n",
       "    <tr>\n",
       "      \n",
       "      <th>Device</th>\n",
       "      <th>Workload</th>\n",
       "      <th>Load</th>\n",
       "      <th>Duration</th>\n",
       "      <th>Power draw</th>\n",
       "      <th>Lifespan</th>\n",
       "      <th>Energy</th>\n",
       "    </tr>\n",
       "    <tr>\n",
       "      <th></th>\n",
       "      <th>ID</th>\n",
       "      <th>name</th>\n",
       "      <th>mode</th>\n",
       "      <th>hours</th>\n",
       "      <th>W</th>\n",
       "      <th>yr</th>\n",
       "      <th>kWh/yr</th>\n",
       "    </tr>\n",
       "  </thead><tbody><tr><td>Loading... (need <a href=https://mwouts.github.io/itables/troubleshooting.html>help</a>?)</td></tr></tbody></table>\n",
       "<link rel=\"stylesheet\" type=\"text/css\" href=\"https://cdn.datatables.net/1.13.1/css/jquery.dataTables.min.css\">\n",
       "<script type=\"module\">\n",
       "    // Import jquery and DataTable\n",
       "    import 'https://code.jquery.com/jquery-3.6.0.min.js';\n",
       "    import dt from 'https://cdn.datatables.net/1.12.1/js/jquery.dataTables.mjs';\n",
       "    dt($);\n",
       "\n",
       "    // Define the table data\n",
       "    const data = [[null, \"R6515\", \"Light-medium\", \"100%\", 2.4, 244.2, 4, 213.92], [null, \"R6515\", \"Light-medium\", \"50%\", 8.4, 194.1, 4, 595.11], [null, \"R6515\", \"Light-medium\", \"10%\", 7.2, 132.1, 4, 347.16], [null, \"R6515\", \"Light-medium\", \"Idle\", 6.0, 94.7, 4, 207.39], [null, \"R6515\", \"Heavy\", \"100%\", 3.6, 244.2, 4, 320.88], [null, \"R6515\", \"Heavy\", \"50%\", 13.2, 194.1, 4, 935.17], [null, \"R6515\", \"Heavy\", \"10%\", 4.8, 132.1, 4, 231.44], [null, \"R6515\", \"Heavy\", \"Idle\", 2.4, 94.7, 4, 82.96], [null, \"R7515\", \"Light-medium\", \"100%\", 2.4, 281.5, 4, 246.59], [null, \"R7515\", \"Light-medium\", \"50%\", 8.4, 228.4, 4, 700.27], [null, \"R7515\", \"Light-medium\", \"10%\", 7.2, 164.7, 4, 432.83], [null, \"R7515\", \"Light-medium\", \"Idle\", 6.0, 128.4, 4, 281.2], [null, \"R7515\", \"Heavy\", \"100%\", 3.6, 281.5, 4, 369.89], [null, \"R7515\", \"Heavy\", \"50%\", 13.2, 228.4, 4, 1100.43], [null, \"R7515\", \"Heavy\", \"10%\", 4.8, 164.7, 4, 288.55], [null, \"R7515\", \"Heavy\", \"Idle\", 2.4, 128.4, 4, 112.48], [null, \"R6525\", \"Light-medium\", \"100%\", 2.4, 449.8, 4, 394.02], [null, \"R6525\", \"Light-medium\", \"50%\", 8.4, 360.3, 4, 1104.68], [null, \"R6525\", \"Light-medium\", \"10%\", 7.2, 238.0, 4, 625.46], [null, \"R6525\", \"Light-medium\", \"Idle\", 6.0, 128.6, 4, 281.63], [null, \"R6525\", \"Heavy\", \"100%\", 3.6, 449.8, 4, 591.04], [null, \"R6525\", \"Heavy\", \"50%\", 13.2, 360.3, 4, 1735.93], [null, \"R6525\", \"Heavy\", \"10%\", 4.8, 238.0, 4, 416.98], [null, \"R6525\", \"Heavy\", \"Idle\", 2.4, 128.6, 4, 112.65], [null, \"R7525\", \"Light-medium\", \"100%\", 2.4, 389.0, 4, 340.76], [null, \"R7525\", \"Light-medium\", \"50%\", 8.4, 271.9, 4, 833.65], [null, \"R7525\", \"Light-medium\", \"10%\", 7.2, 186.4, 4, 489.86], [null, \"R7525\", \"Light-medium\", \"Idle\", 6.0, 102.5, 4, 224.48], [null, \"R7525\", \"Heavy\", \"100%\", 3.6, 389.0, 4, 511.15], [null, \"R7525\", \"Heavy\", \"50%\", 13.2, 271.9, 4, 1310.01], [null, \"R7525\", \"Heavy\", \"10%\", 4.8, 186.4, 4, 326.57], [null, \"R7525\", \"Heavy\", \"Idle\", 2.4, 102.5, 4, 89.79]];\n",
       "\n",
       "    // Define the dt_args\n",
       "    let dt_args = {\"order\": []};\n",
       "    dt_args[\"data\"] = data;\n",
       "\n",
       "    $(document).ready(function () {\n",
       "        \n",
       "        $('#f59a2d75-e487-4f4a-8910-813fda91197d').DataTable(dt_args);\n",
       "    });\n",
       "</script>\n",
       "</div>\n"
      ],
      "text/plain": [
       "<IPython.core.display.HTML object>"
      ]
     },
     "metadata": {},
     "output_type": "display_data"
    }
   ],
   "source": [
    "import pandas as pd\n",
    "from itables import show\n",
    "\n",
    "df = pd.read_csv(\"table3-13-16.csv\", header=[0,1])"
   ]
  },
  {
   "cell_type": "code",
   "execution_count": 2,
   "metadata": {},
   "outputs": [
    {
     "data": {
      "text/html": [
       "<div>\n",
       "<style scoped>\n",
       "    .dataframe tbody tr th:only-of-type {\n",
       "        vertical-align: middle;\n",
       "    }\n",
       "\n",
       "    .dataframe tbody tr th {\n",
       "        vertical-align: top;\n",
       "    }\n",
       "\n",
       "    .dataframe thead th {\n",
       "        text-align: right;\n",
       "    }\n",
       "</style>\n",
       "<table border=\"1\" class=\"dataframe\">\n",
       "  <thead>\n",
       "    <tr style=\"text-align: right;\">\n",
       "      <th></th>\n",
       "      <th>Device(ID)</th>\n",
       "      <th>Workload(name)</th>\n",
       "      <th>Load(mode)</th>\n",
       "      <th>Duration(hours)</th>\n",
       "      <th>Power draw(W)</th>\n",
       "      <th>Lifespan(yr)</th>\n",
       "      <th>Energy(kWh/yr)</th>\n",
       "    </tr>\n",
       "  </thead>\n",
       "  <tbody>\n",
       "    <tr>\n",
       "      <th>0</th>\n",
       "      <td>R6515</td>\n",
       "      <td>Light-medium</td>\n",
       "      <td>100%</td>\n",
       "      <td>2.4</td>\n",
       "      <td>244.2</td>\n",
       "      <td>4</td>\n",
       "      <td>213.92</td>\n",
       "    </tr>\n",
       "    <tr>\n",
       "      <th>1</th>\n",
       "      <td>R6515</td>\n",
       "      <td>Light-medium</td>\n",
       "      <td>50%</td>\n",
       "      <td>8.4</td>\n",
       "      <td>194.1</td>\n",
       "      <td>4</td>\n",
       "      <td>595.11</td>\n",
       "    </tr>\n",
       "    <tr>\n",
       "      <th>2</th>\n",
       "      <td>R6515</td>\n",
       "      <td>Light-medium</td>\n",
       "      <td>10%</td>\n",
       "      <td>7.2</td>\n",
       "      <td>132.1</td>\n",
       "      <td>4</td>\n",
       "      <td>347.16</td>\n",
       "    </tr>\n",
       "    <tr>\n",
       "      <th>3</th>\n",
       "      <td>R6515</td>\n",
       "      <td>Light-medium</td>\n",
       "      <td>Idle</td>\n",
       "      <td>6.0</td>\n",
       "      <td>94.7</td>\n",
       "      <td>4</td>\n",
       "      <td>207.39</td>\n",
       "    </tr>\n",
       "    <tr>\n",
       "      <th>4</th>\n",
       "      <td>R6515</td>\n",
       "      <td>Heavy</td>\n",
       "      <td>100%</td>\n",
       "      <td>3.6</td>\n",
       "      <td>244.2</td>\n",
       "      <td>4</td>\n",
       "      <td>320.88</td>\n",
       "    </tr>\n",
       "    <tr>\n",
       "      <th>5</th>\n",
       "      <td>R6515</td>\n",
       "      <td>Heavy</td>\n",
       "      <td>50%</td>\n",
       "      <td>13.2</td>\n",
       "      <td>194.1</td>\n",
       "      <td>4</td>\n",
       "      <td>935.17</td>\n",
       "    </tr>\n",
       "    <tr>\n",
       "      <th>6</th>\n",
       "      <td>R6515</td>\n",
       "      <td>Heavy</td>\n",
       "      <td>10%</td>\n",
       "      <td>4.8</td>\n",
       "      <td>132.1</td>\n",
       "      <td>4</td>\n",
       "      <td>231.44</td>\n",
       "    </tr>\n",
       "    <tr>\n",
       "      <th>7</th>\n",
       "      <td>R6515</td>\n",
       "      <td>Heavy</td>\n",
       "      <td>Idle</td>\n",
       "      <td>2.4</td>\n",
       "      <td>94.7</td>\n",
       "      <td>4</td>\n",
       "      <td>82.96</td>\n",
       "    </tr>\n",
       "    <tr>\n",
       "      <th>8</th>\n",
       "      <td>R7515</td>\n",
       "      <td>Light-medium</td>\n",
       "      <td>100%</td>\n",
       "      <td>2.4</td>\n",
       "      <td>281.5</td>\n",
       "      <td>4</td>\n",
       "      <td>246.59</td>\n",
       "    </tr>\n",
       "    <tr>\n",
       "      <th>9</th>\n",
       "      <td>R7515</td>\n",
       "      <td>Light-medium</td>\n",
       "      <td>50%</td>\n",
       "      <td>8.4</td>\n",
       "      <td>228.4</td>\n",
       "      <td>4</td>\n",
       "      <td>700.27</td>\n",
       "    </tr>\n",
       "    <tr>\n",
       "      <th>10</th>\n",
       "      <td>R7515</td>\n",
       "      <td>Light-medium</td>\n",
       "      <td>10%</td>\n",
       "      <td>7.2</td>\n",
       "      <td>164.7</td>\n",
       "      <td>4</td>\n",
       "      <td>432.83</td>\n",
       "    </tr>\n",
       "    <tr>\n",
       "      <th>11</th>\n",
       "      <td>R7515</td>\n",
       "      <td>Light-medium</td>\n",
       "      <td>Idle</td>\n",
       "      <td>6.0</td>\n",
       "      <td>128.4</td>\n",
       "      <td>4</td>\n",
       "      <td>281.20</td>\n",
       "    </tr>\n",
       "    <tr>\n",
       "      <th>12</th>\n",
       "      <td>R7515</td>\n",
       "      <td>Heavy</td>\n",
       "      <td>100%</td>\n",
       "      <td>3.6</td>\n",
       "      <td>281.5</td>\n",
       "      <td>4</td>\n",
       "      <td>369.89</td>\n",
       "    </tr>\n",
       "    <tr>\n",
       "      <th>13</th>\n",
       "      <td>R7515</td>\n",
       "      <td>Heavy</td>\n",
       "      <td>50%</td>\n",
       "      <td>13.2</td>\n",
       "      <td>228.4</td>\n",
       "      <td>4</td>\n",
       "      <td>1100.43</td>\n",
       "    </tr>\n",
       "    <tr>\n",
       "      <th>14</th>\n",
       "      <td>R7515</td>\n",
       "      <td>Heavy</td>\n",
       "      <td>10%</td>\n",
       "      <td>4.8</td>\n",
       "      <td>164.7</td>\n",
       "      <td>4</td>\n",
       "      <td>288.55</td>\n",
       "    </tr>\n",
       "    <tr>\n",
       "      <th>15</th>\n",
       "      <td>R7515</td>\n",
       "      <td>Heavy</td>\n",
       "      <td>Idle</td>\n",
       "      <td>2.4</td>\n",
       "      <td>128.4</td>\n",
       "      <td>4</td>\n",
       "      <td>112.48</td>\n",
       "    </tr>\n",
       "    <tr>\n",
       "      <th>16</th>\n",
       "      <td>R6525</td>\n",
       "      <td>Light-medium</td>\n",
       "      <td>100%</td>\n",
       "      <td>2.4</td>\n",
       "      <td>449.8</td>\n",
       "      <td>4</td>\n",
       "      <td>394.02</td>\n",
       "    </tr>\n",
       "    <tr>\n",
       "      <th>17</th>\n",
       "      <td>R6525</td>\n",
       "      <td>Light-medium</td>\n",
       "      <td>50%</td>\n",
       "      <td>8.4</td>\n",
       "      <td>360.3</td>\n",
       "      <td>4</td>\n",
       "      <td>1104.68</td>\n",
       "    </tr>\n",
       "    <tr>\n",
       "      <th>18</th>\n",
       "      <td>R6525</td>\n",
       "      <td>Light-medium</td>\n",
       "      <td>10%</td>\n",
       "      <td>7.2</td>\n",
       "      <td>238.0</td>\n",
       "      <td>4</td>\n",
       "      <td>625.46</td>\n",
       "    </tr>\n",
       "    <tr>\n",
       "      <th>19</th>\n",
       "      <td>R6525</td>\n",
       "      <td>Light-medium</td>\n",
       "      <td>Idle</td>\n",
       "      <td>6.0</td>\n",
       "      <td>128.6</td>\n",
       "      <td>4</td>\n",
       "      <td>281.63</td>\n",
       "    </tr>\n",
       "    <tr>\n",
       "      <th>20</th>\n",
       "      <td>R6525</td>\n",
       "      <td>Heavy</td>\n",
       "      <td>100%</td>\n",
       "      <td>3.6</td>\n",
       "      <td>449.8</td>\n",
       "      <td>4</td>\n",
       "      <td>591.04</td>\n",
       "    </tr>\n",
       "    <tr>\n",
       "      <th>21</th>\n",
       "      <td>R6525</td>\n",
       "      <td>Heavy</td>\n",
       "      <td>50%</td>\n",
       "      <td>13.2</td>\n",
       "      <td>360.3</td>\n",
       "      <td>4</td>\n",
       "      <td>1735.93</td>\n",
       "    </tr>\n",
       "    <tr>\n",
       "      <th>22</th>\n",
       "      <td>R6525</td>\n",
       "      <td>Heavy</td>\n",
       "      <td>10%</td>\n",
       "      <td>4.8</td>\n",
       "      <td>238.0</td>\n",
       "      <td>4</td>\n",
       "      <td>416.98</td>\n",
       "    </tr>\n",
       "    <tr>\n",
       "      <th>23</th>\n",
       "      <td>R6525</td>\n",
       "      <td>Heavy</td>\n",
       "      <td>Idle</td>\n",
       "      <td>2.4</td>\n",
       "      <td>128.6</td>\n",
       "      <td>4</td>\n",
       "      <td>112.65</td>\n",
       "    </tr>\n",
       "    <tr>\n",
       "      <th>24</th>\n",
       "      <td>R7525</td>\n",
       "      <td>Light-medium</td>\n",
       "      <td>100%</td>\n",
       "      <td>2.4</td>\n",
       "      <td>389.0</td>\n",
       "      <td>4</td>\n",
       "      <td>340.76</td>\n",
       "    </tr>\n",
       "    <tr>\n",
       "      <th>25</th>\n",
       "      <td>R7525</td>\n",
       "      <td>Light-medium</td>\n",
       "      <td>50%</td>\n",
       "      <td>8.4</td>\n",
       "      <td>271.9</td>\n",
       "      <td>4</td>\n",
       "      <td>833.65</td>\n",
       "    </tr>\n",
       "    <tr>\n",
       "      <th>26</th>\n",
       "      <td>R7525</td>\n",
       "      <td>Light-medium</td>\n",
       "      <td>10%</td>\n",
       "      <td>7.2</td>\n",
       "      <td>186.4</td>\n",
       "      <td>4</td>\n",
       "      <td>489.86</td>\n",
       "    </tr>\n",
       "    <tr>\n",
       "      <th>27</th>\n",
       "      <td>R7525</td>\n",
       "      <td>Light-medium</td>\n",
       "      <td>Idle</td>\n",
       "      <td>6.0</td>\n",
       "      <td>102.5</td>\n",
       "      <td>4</td>\n",
       "      <td>224.48</td>\n",
       "    </tr>\n",
       "    <tr>\n",
       "      <th>28</th>\n",
       "      <td>R7525</td>\n",
       "      <td>Heavy</td>\n",
       "      <td>100%</td>\n",
       "      <td>3.6</td>\n",
       "      <td>389.0</td>\n",
       "      <td>4</td>\n",
       "      <td>511.15</td>\n",
       "    </tr>\n",
       "    <tr>\n",
       "      <th>29</th>\n",
       "      <td>R7525</td>\n",
       "      <td>Heavy</td>\n",
       "      <td>50%</td>\n",
       "      <td>13.2</td>\n",
       "      <td>271.9</td>\n",
       "      <td>4</td>\n",
       "      <td>1310.01</td>\n",
       "    </tr>\n",
       "    <tr>\n",
       "      <th>30</th>\n",
       "      <td>R7525</td>\n",
       "      <td>Heavy</td>\n",
       "      <td>10%</td>\n",
       "      <td>4.8</td>\n",
       "      <td>186.4</td>\n",
       "      <td>4</td>\n",
       "      <td>326.57</td>\n",
       "    </tr>\n",
       "    <tr>\n",
       "      <th>31</th>\n",
       "      <td>R7525</td>\n",
       "      <td>Heavy</td>\n",
       "      <td>Idle</td>\n",
       "      <td>2.4</td>\n",
       "      <td>102.5</td>\n",
       "      <td>4</td>\n",
       "      <td>89.79</td>\n",
       "    </tr>\n",
       "  </tbody>\n",
       "</table>\n",
       "</div>"
      ],
      "text/plain": [
       "   Device(ID) Workload(name) Load(mode)  Duration(hours)  Power draw(W)  \\\n",
       "0       R6515   Light-medium       100%              2.4          244.2   \n",
       "1       R6515   Light-medium        50%              8.4          194.1   \n",
       "2       R6515   Light-medium        10%              7.2          132.1   \n",
       "3       R6515   Light-medium       Idle              6.0           94.7   \n",
       "4       R6515          Heavy       100%              3.6          244.2   \n",
       "5       R6515          Heavy        50%             13.2          194.1   \n",
       "6       R6515          Heavy        10%              4.8          132.1   \n",
       "7       R6515          Heavy       Idle              2.4           94.7   \n",
       "8       R7515   Light-medium       100%              2.4          281.5   \n",
       "9       R7515   Light-medium        50%              8.4          228.4   \n",
       "10      R7515   Light-medium        10%              7.2          164.7   \n",
       "11      R7515   Light-medium       Idle              6.0          128.4   \n",
       "12      R7515          Heavy       100%              3.6          281.5   \n",
       "13      R7515          Heavy        50%             13.2          228.4   \n",
       "14      R7515          Heavy        10%              4.8          164.7   \n",
       "15      R7515          Heavy       Idle              2.4          128.4   \n",
       "16      R6525   Light-medium       100%              2.4          449.8   \n",
       "17      R6525   Light-medium        50%              8.4          360.3   \n",
       "18      R6525   Light-medium        10%              7.2          238.0   \n",
       "19      R6525   Light-medium       Idle              6.0          128.6   \n",
       "20      R6525          Heavy       100%              3.6          449.8   \n",
       "21      R6525          Heavy        50%             13.2          360.3   \n",
       "22      R6525          Heavy        10%              4.8          238.0   \n",
       "23      R6525          Heavy       Idle              2.4          128.6   \n",
       "24      R7525   Light-medium       100%              2.4          389.0   \n",
       "25      R7525   Light-medium        50%              8.4          271.9   \n",
       "26      R7525   Light-medium        10%              7.2          186.4   \n",
       "27      R7525   Light-medium       Idle              6.0          102.5   \n",
       "28      R7525          Heavy       100%              3.6          389.0   \n",
       "29      R7525          Heavy        50%             13.2          271.9   \n",
       "30      R7525          Heavy        10%              4.8          186.4   \n",
       "31      R7525          Heavy       Idle              2.4          102.5   \n",
       "\n",
       "    Lifespan(yr)  Energy(kWh/yr)  \n",
       "0              4          213.92  \n",
       "1              4          595.11  \n",
       "2              4          347.16  \n",
       "3              4          207.39  \n",
       "4              4          320.88  \n",
       "5              4          935.17  \n",
       "6              4          231.44  \n",
       "7              4           82.96  \n",
       "8              4          246.59  \n",
       "9              4          700.27  \n",
       "10             4          432.83  \n",
       "11             4          281.20  \n",
       "12             4          369.89  \n",
       "13             4         1100.43  \n",
       "14             4          288.55  \n",
       "15             4          112.48  \n",
       "16             4          394.02  \n",
       "17             4         1104.68  \n",
       "18             4          625.46  \n",
       "19             4          281.63  \n",
       "20             4          591.04  \n",
       "21             4         1735.93  \n",
       "22             4          416.98  \n",
       "23             4          112.65  \n",
       "24             4          340.76  \n",
       "25             4          833.65  \n",
       "26             4          489.86  \n",
       "27             4          224.48  \n",
       "28             4          511.15  \n",
       "29             4         1310.01  \n",
       "30             4          326.57  \n",
       "31             4           89.79  "
      ]
     },
     "execution_count": 2,
     "metadata": {},
     "output_type": "execute_result"
    }
   ],
   "source": [
    "# Flatten column name and column unit\n",
    "df.columns = df.columns.map(\"{0[0]}({0[1]})\".format)\n",
    "df"
   ]
  },
  {
   "cell_type": "markdown",
   "metadata": {},
   "source": [
    "## Energy per device and load-mode"
   ]
  },
  {
   "cell_type": "code",
   "execution_count": 3,
   "metadata": {},
   "outputs": [
    {
     "data": {
      "application/vnd.plotly.v1+json": {
       "config": {
        "plotlyServerURL": "https://plot.ly"
       },
       "data": [
        {
         "alignmentgroup": "True",
         "hovertemplate": "Load(mode)=100%<br>Workload(name)=Light-medium<br>Device(ID)=%{x}<br>Energy(kWh/yr)=%{y}<extra></extra>",
         "legendgroup": "100%",
         "marker": {
          "color": "#636efa",
          "pattern": {
           "shape": ""
          }
         },
         "name": "100%",
         "offsetgroup": "100%",
         "orientation": "v",
         "showlegend": true,
         "textposition": "auto",
         "texttemplate": "%{y}",
         "type": "bar",
         "x": [
          "R6515",
          "R7515",
          "R6525",
          "R7525"
         ],
         "xaxis": "x",
         "y": [
          213.92,
          246.59,
          394.02,
          340.76
         ],
         "yaxis": "y"
        },
        {
         "alignmentgroup": "True",
         "hovertemplate": "Load(mode)=100%<br>Workload(name)=Heavy<br>Device(ID)=%{x}<br>Energy(kWh/yr)=%{y}<extra></extra>",
         "legendgroup": "100%",
         "marker": {
          "color": "#636efa",
          "pattern": {
           "shape": ""
          }
         },
         "name": "100%",
         "offsetgroup": "100%",
         "orientation": "v",
         "showlegend": false,
         "textposition": "auto",
         "texttemplate": "%{y}",
         "type": "bar",
         "x": [
          "R6515",
          "R7515",
          "R6525",
          "R7525"
         ],
         "xaxis": "x2",
         "y": [
          320.88,
          369.89,
          591.04,
          511.15
         ],
         "yaxis": "y2"
        },
        {
         "alignmentgroup": "True",
         "hovertemplate": "Load(mode)=50%<br>Workload(name)=Light-medium<br>Device(ID)=%{x}<br>Energy(kWh/yr)=%{y}<extra></extra>",
         "legendgroup": "50%",
         "marker": {
          "color": "#EF553B",
          "pattern": {
           "shape": ""
          }
         },
         "name": "50%",
         "offsetgroup": "50%",
         "orientation": "v",
         "showlegend": true,
         "textposition": "auto",
         "texttemplate": "%{y}",
         "type": "bar",
         "x": [
          "R6515",
          "R7515",
          "R6525",
          "R7525"
         ],
         "xaxis": "x",
         "y": [
          595.11,
          700.27,
          1104.68,
          833.65
         ],
         "yaxis": "y"
        },
        {
         "alignmentgroup": "True",
         "hovertemplate": "Load(mode)=50%<br>Workload(name)=Heavy<br>Device(ID)=%{x}<br>Energy(kWh/yr)=%{y}<extra></extra>",
         "legendgroup": "50%",
         "marker": {
          "color": "#EF553B",
          "pattern": {
           "shape": ""
          }
         },
         "name": "50%",
         "offsetgroup": "50%",
         "orientation": "v",
         "showlegend": false,
         "textposition": "auto",
         "texttemplate": "%{y}",
         "type": "bar",
         "x": [
          "R6515",
          "R7515",
          "R6525",
          "R7525"
         ],
         "xaxis": "x2",
         "y": [
          935.17,
          1100.43,
          1735.93,
          1310.01
         ],
         "yaxis": "y2"
        },
        {
         "alignmentgroup": "True",
         "hovertemplate": "Load(mode)=10%<br>Workload(name)=Light-medium<br>Device(ID)=%{x}<br>Energy(kWh/yr)=%{y}<extra></extra>",
         "legendgroup": "10%",
         "marker": {
          "color": "#00cc96",
          "pattern": {
           "shape": ""
          }
         },
         "name": "10%",
         "offsetgroup": "10%",
         "orientation": "v",
         "showlegend": true,
         "textposition": "auto",
         "texttemplate": "%{y}",
         "type": "bar",
         "x": [
          "R6515",
          "R7515",
          "R6525",
          "R7525"
         ],
         "xaxis": "x",
         "y": [
          347.16,
          432.83,
          625.46,
          489.86
         ],
         "yaxis": "y"
        },
        {
         "alignmentgroup": "True",
         "hovertemplate": "Load(mode)=10%<br>Workload(name)=Heavy<br>Device(ID)=%{x}<br>Energy(kWh/yr)=%{y}<extra></extra>",
         "legendgroup": "10%",
         "marker": {
          "color": "#00cc96",
          "pattern": {
           "shape": ""
          }
         },
         "name": "10%",
         "offsetgroup": "10%",
         "orientation": "v",
         "showlegend": false,
         "textposition": "auto",
         "texttemplate": "%{y}",
         "type": "bar",
         "x": [
          "R6515",
          "R7515",
          "R6525",
          "R7525"
         ],
         "xaxis": "x2",
         "y": [
          231.44,
          288.55,
          416.98,
          326.57
         ],
         "yaxis": "y2"
        },
        {
         "alignmentgroup": "True",
         "hovertemplate": "Load(mode)=Idle<br>Workload(name)=Light-medium<br>Device(ID)=%{x}<br>Energy(kWh/yr)=%{y}<extra></extra>",
         "legendgroup": "Idle",
         "marker": {
          "color": "#ab63fa",
          "pattern": {
           "shape": ""
          }
         },
         "name": "Idle",
         "offsetgroup": "Idle",
         "orientation": "v",
         "showlegend": true,
         "textposition": "auto",
         "texttemplate": "%{y}",
         "type": "bar",
         "x": [
          "R6515",
          "R7515",
          "R6525",
          "R7525"
         ],
         "xaxis": "x",
         "y": [
          207.39,
          281.2,
          281.63,
          224.48
         ],
         "yaxis": "y"
        },
        {
         "alignmentgroup": "True",
         "hovertemplate": "Load(mode)=Idle<br>Workload(name)=Heavy<br>Device(ID)=%{x}<br>Energy(kWh/yr)=%{y}<extra></extra>",
         "legendgroup": "Idle",
         "marker": {
          "color": "#ab63fa",
          "pattern": {
           "shape": ""
          }
         },
         "name": "Idle",
         "offsetgroup": "Idle",
         "orientation": "v",
         "showlegend": false,
         "textposition": "auto",
         "texttemplate": "%{y}",
         "type": "bar",
         "x": [
          "R6515",
          "R7515",
          "R6525",
          "R7525"
         ],
         "xaxis": "x2",
         "y": [
          82.96,
          112.48,
          112.65,
          89.79
         ],
         "yaxis": "y2"
        }
       ],
       "layout": {
        "annotations": [
         {
          "font": {},
          "showarrow": false,
          "text": "Workload(name)=Light-medium",
          "x": 0.245,
          "xanchor": "center",
          "xref": "paper",
          "y": 1,
          "yanchor": "bottom",
          "yref": "paper"
         },
         {
          "font": {},
          "showarrow": false,
          "text": "Workload(name)=Heavy",
          "x": 0.755,
          "xanchor": "center",
          "xref": "paper",
          "y": 1,
          "yanchor": "bottom",
          "yref": "paper"
         }
        ],
        "barmode": "relative",
        "legend": {
         "title": {
          "text": "Load(mode)"
         },
         "tracegroupgap": 0
        },
        "margin": {
         "t": 60
        },
        "template": {
         "data": {
          "bar": [
           {
            "error_x": {
             "color": "#2a3f5f"
            },
            "error_y": {
             "color": "#2a3f5f"
            },
            "marker": {
             "line": {
              "color": "#E5ECF6",
              "width": 0.5
             },
             "pattern": {
              "fillmode": "overlay",
              "size": 10,
              "solidity": 0.2
             }
            },
            "type": "bar"
           }
          ],
          "barpolar": [
           {
            "marker": {
             "line": {
              "color": "#E5ECF6",
              "width": 0.5
             },
             "pattern": {
              "fillmode": "overlay",
              "size": 10,
              "solidity": 0.2
             }
            },
            "type": "barpolar"
           }
          ],
          "carpet": [
           {
            "aaxis": {
             "endlinecolor": "#2a3f5f",
             "gridcolor": "white",
             "linecolor": "white",
             "minorgridcolor": "white",
             "startlinecolor": "#2a3f5f"
            },
            "baxis": {
             "endlinecolor": "#2a3f5f",
             "gridcolor": "white",
             "linecolor": "white",
             "minorgridcolor": "white",
             "startlinecolor": "#2a3f5f"
            },
            "type": "carpet"
           }
          ],
          "choropleth": [
           {
            "colorbar": {
             "outlinewidth": 0,
             "ticks": ""
            },
            "type": "choropleth"
           }
          ],
          "contour": [
           {
            "colorbar": {
             "outlinewidth": 0,
             "ticks": ""
            },
            "colorscale": [
             [
              0,
              "#0d0887"
             ],
             [
              0.1111111111111111,
              "#46039f"
             ],
             [
              0.2222222222222222,
              "#7201a8"
             ],
             [
              0.3333333333333333,
              "#9c179e"
             ],
             [
              0.4444444444444444,
              "#bd3786"
             ],
             [
              0.5555555555555556,
              "#d8576b"
             ],
             [
              0.6666666666666666,
              "#ed7953"
             ],
             [
              0.7777777777777778,
              "#fb9f3a"
             ],
             [
              0.8888888888888888,
              "#fdca26"
             ],
             [
              1,
              "#f0f921"
             ]
            ],
            "type": "contour"
           }
          ],
          "contourcarpet": [
           {
            "colorbar": {
             "outlinewidth": 0,
             "ticks": ""
            },
            "type": "contourcarpet"
           }
          ],
          "heatmap": [
           {
            "colorbar": {
             "outlinewidth": 0,
             "ticks": ""
            },
            "colorscale": [
             [
              0,
              "#0d0887"
             ],
             [
              0.1111111111111111,
              "#46039f"
             ],
             [
              0.2222222222222222,
              "#7201a8"
             ],
             [
              0.3333333333333333,
              "#9c179e"
             ],
             [
              0.4444444444444444,
              "#bd3786"
             ],
             [
              0.5555555555555556,
              "#d8576b"
             ],
             [
              0.6666666666666666,
              "#ed7953"
             ],
             [
              0.7777777777777778,
              "#fb9f3a"
             ],
             [
              0.8888888888888888,
              "#fdca26"
             ],
             [
              1,
              "#f0f921"
             ]
            ],
            "type": "heatmap"
           }
          ],
          "heatmapgl": [
           {
            "colorbar": {
             "outlinewidth": 0,
             "ticks": ""
            },
            "colorscale": [
             [
              0,
              "#0d0887"
             ],
             [
              0.1111111111111111,
              "#46039f"
             ],
             [
              0.2222222222222222,
              "#7201a8"
             ],
             [
              0.3333333333333333,
              "#9c179e"
             ],
             [
              0.4444444444444444,
              "#bd3786"
             ],
             [
              0.5555555555555556,
              "#d8576b"
             ],
             [
              0.6666666666666666,
              "#ed7953"
             ],
             [
              0.7777777777777778,
              "#fb9f3a"
             ],
             [
              0.8888888888888888,
              "#fdca26"
             ],
             [
              1,
              "#f0f921"
             ]
            ],
            "type": "heatmapgl"
           }
          ],
          "histogram": [
           {
            "marker": {
             "pattern": {
              "fillmode": "overlay",
              "size": 10,
              "solidity": 0.2
             }
            },
            "type": "histogram"
           }
          ],
          "histogram2d": [
           {
            "colorbar": {
             "outlinewidth": 0,
             "ticks": ""
            },
            "colorscale": [
             [
              0,
              "#0d0887"
             ],
             [
              0.1111111111111111,
              "#46039f"
             ],
             [
              0.2222222222222222,
              "#7201a8"
             ],
             [
              0.3333333333333333,
              "#9c179e"
             ],
             [
              0.4444444444444444,
              "#bd3786"
             ],
             [
              0.5555555555555556,
              "#d8576b"
             ],
             [
              0.6666666666666666,
              "#ed7953"
             ],
             [
              0.7777777777777778,
              "#fb9f3a"
             ],
             [
              0.8888888888888888,
              "#fdca26"
             ],
             [
              1,
              "#f0f921"
             ]
            ],
            "type": "histogram2d"
           }
          ],
          "histogram2dcontour": [
           {
            "colorbar": {
             "outlinewidth": 0,
             "ticks": ""
            },
            "colorscale": [
             [
              0,
              "#0d0887"
             ],
             [
              0.1111111111111111,
              "#46039f"
             ],
             [
              0.2222222222222222,
              "#7201a8"
             ],
             [
              0.3333333333333333,
              "#9c179e"
             ],
             [
              0.4444444444444444,
              "#bd3786"
             ],
             [
              0.5555555555555556,
              "#d8576b"
             ],
             [
              0.6666666666666666,
              "#ed7953"
             ],
             [
              0.7777777777777778,
              "#fb9f3a"
             ],
             [
              0.8888888888888888,
              "#fdca26"
             ],
             [
              1,
              "#f0f921"
             ]
            ],
            "type": "histogram2dcontour"
           }
          ],
          "mesh3d": [
           {
            "colorbar": {
             "outlinewidth": 0,
             "ticks": ""
            },
            "type": "mesh3d"
           }
          ],
          "parcoords": [
           {
            "line": {
             "colorbar": {
              "outlinewidth": 0,
              "ticks": ""
             }
            },
            "type": "parcoords"
           }
          ],
          "pie": [
           {
            "automargin": true,
            "type": "pie"
           }
          ],
          "scatter": [
           {
            "fillpattern": {
             "fillmode": "overlay",
             "size": 10,
             "solidity": 0.2
            },
            "type": "scatter"
           }
          ],
          "scatter3d": [
           {
            "line": {
             "colorbar": {
              "outlinewidth": 0,
              "ticks": ""
             }
            },
            "marker": {
             "colorbar": {
              "outlinewidth": 0,
              "ticks": ""
             }
            },
            "type": "scatter3d"
           }
          ],
          "scattercarpet": [
           {
            "marker": {
             "colorbar": {
              "outlinewidth": 0,
              "ticks": ""
             }
            },
            "type": "scattercarpet"
           }
          ],
          "scattergeo": [
           {
            "marker": {
             "colorbar": {
              "outlinewidth": 0,
              "ticks": ""
             }
            },
            "type": "scattergeo"
           }
          ],
          "scattergl": [
           {
            "marker": {
             "colorbar": {
              "outlinewidth": 0,
              "ticks": ""
             }
            },
            "type": "scattergl"
           }
          ],
          "scattermapbox": [
           {
            "marker": {
             "colorbar": {
              "outlinewidth": 0,
              "ticks": ""
             }
            },
            "type": "scattermapbox"
           }
          ],
          "scatterpolar": [
           {
            "marker": {
             "colorbar": {
              "outlinewidth": 0,
              "ticks": ""
             }
            },
            "type": "scatterpolar"
           }
          ],
          "scatterpolargl": [
           {
            "marker": {
             "colorbar": {
              "outlinewidth": 0,
              "ticks": ""
             }
            },
            "type": "scatterpolargl"
           }
          ],
          "scatterternary": [
           {
            "marker": {
             "colorbar": {
              "outlinewidth": 0,
              "ticks": ""
             }
            },
            "type": "scatterternary"
           }
          ],
          "surface": [
           {
            "colorbar": {
             "outlinewidth": 0,
             "ticks": ""
            },
            "colorscale": [
             [
              0,
              "#0d0887"
             ],
             [
              0.1111111111111111,
              "#46039f"
             ],
             [
              0.2222222222222222,
              "#7201a8"
             ],
             [
              0.3333333333333333,
              "#9c179e"
             ],
             [
              0.4444444444444444,
              "#bd3786"
             ],
             [
              0.5555555555555556,
              "#d8576b"
             ],
             [
              0.6666666666666666,
              "#ed7953"
             ],
             [
              0.7777777777777778,
              "#fb9f3a"
             ],
             [
              0.8888888888888888,
              "#fdca26"
             ],
             [
              1,
              "#f0f921"
             ]
            ],
            "type": "surface"
           }
          ],
          "table": [
           {
            "cells": {
             "fill": {
              "color": "#EBF0F8"
             },
             "line": {
              "color": "white"
             }
            },
            "header": {
             "fill": {
              "color": "#C8D4E3"
             },
             "line": {
              "color": "white"
             }
            },
            "type": "table"
           }
          ]
         },
         "layout": {
          "annotationdefaults": {
           "arrowcolor": "#2a3f5f",
           "arrowhead": 0,
           "arrowwidth": 1
          },
          "autotypenumbers": "strict",
          "coloraxis": {
           "colorbar": {
            "outlinewidth": 0,
            "ticks": ""
           }
          },
          "colorscale": {
           "diverging": [
            [
             0,
             "#8e0152"
            ],
            [
             0.1,
             "#c51b7d"
            ],
            [
             0.2,
             "#de77ae"
            ],
            [
             0.3,
             "#f1b6da"
            ],
            [
             0.4,
             "#fde0ef"
            ],
            [
             0.5,
             "#f7f7f7"
            ],
            [
             0.6,
             "#e6f5d0"
            ],
            [
             0.7,
             "#b8e186"
            ],
            [
             0.8,
             "#7fbc41"
            ],
            [
             0.9,
             "#4d9221"
            ],
            [
             1,
             "#276419"
            ]
           ],
           "sequential": [
            [
             0,
             "#0d0887"
            ],
            [
             0.1111111111111111,
             "#46039f"
            ],
            [
             0.2222222222222222,
             "#7201a8"
            ],
            [
             0.3333333333333333,
             "#9c179e"
            ],
            [
             0.4444444444444444,
             "#bd3786"
            ],
            [
             0.5555555555555556,
             "#d8576b"
            ],
            [
             0.6666666666666666,
             "#ed7953"
            ],
            [
             0.7777777777777778,
             "#fb9f3a"
            ],
            [
             0.8888888888888888,
             "#fdca26"
            ],
            [
             1,
             "#f0f921"
            ]
           ],
           "sequentialminus": [
            [
             0,
             "#0d0887"
            ],
            [
             0.1111111111111111,
             "#46039f"
            ],
            [
             0.2222222222222222,
             "#7201a8"
            ],
            [
             0.3333333333333333,
             "#9c179e"
            ],
            [
             0.4444444444444444,
             "#bd3786"
            ],
            [
             0.5555555555555556,
             "#d8576b"
            ],
            [
             0.6666666666666666,
             "#ed7953"
            ],
            [
             0.7777777777777778,
             "#fb9f3a"
            ],
            [
             0.8888888888888888,
             "#fdca26"
            ],
            [
             1,
             "#f0f921"
            ]
           ]
          },
          "colorway": [
           "#636efa",
           "#EF553B",
           "#00cc96",
           "#ab63fa",
           "#FFA15A",
           "#19d3f3",
           "#FF6692",
           "#B6E880",
           "#FF97FF",
           "#FECB52"
          ],
          "font": {
           "color": "#2a3f5f"
          },
          "geo": {
           "bgcolor": "white",
           "lakecolor": "white",
           "landcolor": "#E5ECF6",
           "showlakes": true,
           "showland": true,
           "subunitcolor": "white"
          },
          "hoverlabel": {
           "align": "left"
          },
          "hovermode": "closest",
          "mapbox": {
           "style": "light"
          },
          "paper_bgcolor": "white",
          "plot_bgcolor": "#E5ECF6",
          "polar": {
           "angularaxis": {
            "gridcolor": "white",
            "linecolor": "white",
            "ticks": ""
           },
           "bgcolor": "#E5ECF6",
           "radialaxis": {
            "gridcolor": "white",
            "linecolor": "white",
            "ticks": ""
           }
          },
          "scene": {
           "xaxis": {
            "backgroundcolor": "#E5ECF6",
            "gridcolor": "white",
            "gridwidth": 2,
            "linecolor": "white",
            "showbackground": true,
            "ticks": "",
            "zerolinecolor": "white"
           },
           "yaxis": {
            "backgroundcolor": "#E5ECF6",
            "gridcolor": "white",
            "gridwidth": 2,
            "linecolor": "white",
            "showbackground": true,
            "ticks": "",
            "zerolinecolor": "white"
           },
           "zaxis": {
            "backgroundcolor": "#E5ECF6",
            "gridcolor": "white",
            "gridwidth": 2,
            "linecolor": "white",
            "showbackground": true,
            "ticks": "",
            "zerolinecolor": "white"
           }
          },
          "shapedefaults": {
           "line": {
            "color": "#2a3f5f"
           }
          },
          "ternary": {
           "aaxis": {
            "gridcolor": "white",
            "linecolor": "white",
            "ticks": ""
           },
           "baxis": {
            "gridcolor": "white",
            "linecolor": "white",
            "ticks": ""
           },
           "bgcolor": "#E5ECF6",
           "caxis": {
            "gridcolor": "white",
            "linecolor": "white",
            "ticks": ""
           }
          },
          "title": {
           "x": 0.05
          },
          "xaxis": {
           "automargin": true,
           "gridcolor": "white",
           "linecolor": "white",
           "ticks": "",
           "title": {
            "standoff": 15
           },
           "zerolinecolor": "white",
           "zerolinewidth": 2
          },
          "yaxis": {
           "automargin": true,
           "gridcolor": "white",
           "linecolor": "white",
           "ticks": "",
           "title": {
            "standoff": 15
           },
           "zerolinecolor": "white",
           "zerolinewidth": 2
          }
         }
        },
        "xaxis": {
         "anchor": "y",
         "domain": [
          0,
          0.49
         ],
         "title": {
          "text": "Device(ID)"
         }
        },
        "xaxis2": {
         "anchor": "y2",
         "domain": [
          0.51,
          1
         ],
         "matches": "x",
         "title": {
          "text": "Device(ID)"
         }
        },
        "yaxis": {
         "anchor": "x",
         "domain": [
          0,
          1
         ],
         "title": {
          "text": "Energy(kWh/yr)"
         }
        },
        "yaxis2": {
         "anchor": "x2",
         "domain": [
          0,
          1
         ],
         "matches": "y",
         "showticklabels": false
        }
       }
      }
     },
     "metadata": {},
     "output_type": "display_data"
    }
   ],
   "source": [
    "import plotly.express as px\n",
    "\n",
    "fig = px.bar(df, x=\"Device(ID)\", y=\"Energy(kWh/yr)\", color=\"Load(mode)\", text_auto=True, facet_col=\"Workload(name)\")\n",
    "#fig.update_traces(textinfo=\"label+percent root\")\n",
    "fig.show()"
   ]
  },
  {
   "cell_type": "markdown",
   "metadata": {},
   "source": [
    "## Time spent in load-mode and power draw per device"
   ]
  },
  {
   "cell_type": "code",
   "execution_count": 4,
   "metadata": {},
   "outputs": [
    {
     "data": {
      "application/vnd.plotly.v1+json": {
       "config": {
        "plotlyServerURL": "https://plot.ly"
       },
       "data": [
        {
         "alignmentgroup": "True",
         "hovertemplate": "Workload(name)=Light-medium<br>Device(ID)=%{x}<br>Duration(hours)=%{y}<br>Load(mode)=%{text}<br>Power draw(W)=%{marker.color}<extra></extra>",
         "legendgroup": "",
         "marker": {
          "color": [
           244.2,
           194.1,
           132.1,
           94.7,
           281.5,
           228.4,
           164.7,
           128.4,
           449.8,
           360.3,
           238,
           128.6,
           389,
           271.9,
           186.4,
           102.5
          ],
          "coloraxis": "coloraxis",
          "pattern": {
           "shape": ""
          }
         },
         "name": "",
         "offsetgroup": "",
         "orientation": "v",
         "showlegend": false,
         "text": [
          "100%",
          "50%",
          "10%",
          "Idle",
          "100%",
          "50%",
          "10%",
          "Idle",
          "100%",
          "50%",
          "10%",
          "Idle",
          "100%",
          "50%",
          "10%",
          "Idle"
         ],
         "textposition": "auto",
         "type": "bar",
         "x": [
          "R6515",
          "R6515",
          "R6515",
          "R6515",
          "R7515",
          "R7515",
          "R7515",
          "R7515",
          "R6525",
          "R6525",
          "R6525",
          "R6525",
          "R7525",
          "R7525",
          "R7525",
          "R7525"
         ],
         "xaxis": "x",
         "y": [
          2.4,
          8.4,
          7.2,
          6,
          2.4,
          8.4,
          7.2,
          6,
          2.4,
          8.4,
          7.2,
          6,
          2.4,
          8.4,
          7.2,
          6
         ],
         "yaxis": "y"
        },
        {
         "alignmentgroup": "True",
         "hovertemplate": "Workload(name)=Heavy<br>Device(ID)=%{x}<br>Duration(hours)=%{y}<br>Load(mode)=%{text}<br>Power draw(W)=%{marker.color}<extra></extra>",
         "legendgroup": "",
         "marker": {
          "color": [
           244.2,
           194.1,
           132.1,
           94.7,
           281.5,
           228.4,
           164.7,
           128.4,
           449.8,
           360.3,
           238,
           128.6,
           389,
           271.9,
           186.4,
           102.5
          ],
          "coloraxis": "coloraxis",
          "pattern": {
           "shape": ""
          }
         },
         "name": "",
         "offsetgroup": "",
         "orientation": "v",
         "showlegend": false,
         "text": [
          "100%",
          "50%",
          "10%",
          "Idle",
          "100%",
          "50%",
          "10%",
          "Idle",
          "100%",
          "50%",
          "10%",
          "Idle",
          "100%",
          "50%",
          "10%",
          "Idle"
         ],
         "textposition": "auto",
         "type": "bar",
         "x": [
          "R6515",
          "R6515",
          "R6515",
          "R6515",
          "R7515",
          "R7515",
          "R7515",
          "R7515",
          "R6525",
          "R6525",
          "R6525",
          "R6525",
          "R7525",
          "R7525",
          "R7525",
          "R7525"
         ],
         "xaxis": "x2",
         "y": [
          3.6,
          13.2,
          4.8,
          2.4,
          3.6,
          13.2,
          4.8,
          2.4,
          3.6,
          13.2,
          4.8,
          2.4,
          3.6,
          13.2,
          4.8,
          2.4
         ],
         "yaxis": "y2"
        }
       ],
       "layout": {
        "annotations": [
         {
          "font": {},
          "showarrow": false,
          "text": "Workload(name)=Light-medium",
          "x": 0.245,
          "xanchor": "center",
          "xref": "paper",
          "y": 1,
          "yanchor": "bottom",
          "yref": "paper"
         },
         {
          "font": {},
          "showarrow": false,
          "text": "Workload(name)=Heavy",
          "x": 0.755,
          "xanchor": "center",
          "xref": "paper",
          "y": 1,
          "yanchor": "bottom",
          "yref": "paper"
         }
        ],
        "barmode": "relative",
        "coloraxis": {
         "colorbar": {
          "title": {
           "text": "Power draw(W)"
          }
         },
         "colorscale": [
          [
           0,
           "#0d0887"
          ],
          [
           0.1111111111111111,
           "#46039f"
          ],
          [
           0.2222222222222222,
           "#7201a8"
          ],
          [
           0.3333333333333333,
           "#9c179e"
          ],
          [
           0.4444444444444444,
           "#bd3786"
          ],
          [
           0.5555555555555556,
           "#d8576b"
          ],
          [
           0.6666666666666666,
           "#ed7953"
          ],
          [
           0.7777777777777778,
           "#fb9f3a"
          ],
          [
           0.8888888888888888,
           "#fdca26"
          ],
          [
           1,
           "#f0f921"
          ]
         ]
        },
        "legend": {
         "tracegroupgap": 0
        },
        "margin": {
         "t": 60
        },
        "template": {
         "data": {
          "bar": [
           {
            "error_x": {
             "color": "#2a3f5f"
            },
            "error_y": {
             "color": "#2a3f5f"
            },
            "marker": {
             "line": {
              "color": "#E5ECF6",
              "width": 0.5
             },
             "pattern": {
              "fillmode": "overlay",
              "size": 10,
              "solidity": 0.2
             }
            },
            "type": "bar"
           }
          ],
          "barpolar": [
           {
            "marker": {
             "line": {
              "color": "#E5ECF6",
              "width": 0.5
             },
             "pattern": {
              "fillmode": "overlay",
              "size": 10,
              "solidity": 0.2
             }
            },
            "type": "barpolar"
           }
          ],
          "carpet": [
           {
            "aaxis": {
             "endlinecolor": "#2a3f5f",
             "gridcolor": "white",
             "linecolor": "white",
             "minorgridcolor": "white",
             "startlinecolor": "#2a3f5f"
            },
            "baxis": {
             "endlinecolor": "#2a3f5f",
             "gridcolor": "white",
             "linecolor": "white",
             "minorgridcolor": "white",
             "startlinecolor": "#2a3f5f"
            },
            "type": "carpet"
           }
          ],
          "choropleth": [
           {
            "colorbar": {
             "outlinewidth": 0,
             "ticks": ""
            },
            "type": "choropleth"
           }
          ],
          "contour": [
           {
            "colorbar": {
             "outlinewidth": 0,
             "ticks": ""
            },
            "colorscale": [
             [
              0,
              "#0d0887"
             ],
             [
              0.1111111111111111,
              "#46039f"
             ],
             [
              0.2222222222222222,
              "#7201a8"
             ],
             [
              0.3333333333333333,
              "#9c179e"
             ],
             [
              0.4444444444444444,
              "#bd3786"
             ],
             [
              0.5555555555555556,
              "#d8576b"
             ],
             [
              0.6666666666666666,
              "#ed7953"
             ],
             [
              0.7777777777777778,
              "#fb9f3a"
             ],
             [
              0.8888888888888888,
              "#fdca26"
             ],
             [
              1,
              "#f0f921"
             ]
            ],
            "type": "contour"
           }
          ],
          "contourcarpet": [
           {
            "colorbar": {
             "outlinewidth": 0,
             "ticks": ""
            },
            "type": "contourcarpet"
           }
          ],
          "heatmap": [
           {
            "colorbar": {
             "outlinewidth": 0,
             "ticks": ""
            },
            "colorscale": [
             [
              0,
              "#0d0887"
             ],
             [
              0.1111111111111111,
              "#46039f"
             ],
             [
              0.2222222222222222,
              "#7201a8"
             ],
             [
              0.3333333333333333,
              "#9c179e"
             ],
             [
              0.4444444444444444,
              "#bd3786"
             ],
             [
              0.5555555555555556,
              "#d8576b"
             ],
             [
              0.6666666666666666,
              "#ed7953"
             ],
             [
              0.7777777777777778,
              "#fb9f3a"
             ],
             [
              0.8888888888888888,
              "#fdca26"
             ],
             [
              1,
              "#f0f921"
             ]
            ],
            "type": "heatmap"
           }
          ],
          "heatmapgl": [
           {
            "colorbar": {
             "outlinewidth": 0,
             "ticks": ""
            },
            "colorscale": [
             [
              0,
              "#0d0887"
             ],
             [
              0.1111111111111111,
              "#46039f"
             ],
             [
              0.2222222222222222,
              "#7201a8"
             ],
             [
              0.3333333333333333,
              "#9c179e"
             ],
             [
              0.4444444444444444,
              "#bd3786"
             ],
             [
              0.5555555555555556,
              "#d8576b"
             ],
             [
              0.6666666666666666,
              "#ed7953"
             ],
             [
              0.7777777777777778,
              "#fb9f3a"
             ],
             [
              0.8888888888888888,
              "#fdca26"
             ],
             [
              1,
              "#f0f921"
             ]
            ],
            "type": "heatmapgl"
           }
          ],
          "histogram": [
           {
            "marker": {
             "pattern": {
              "fillmode": "overlay",
              "size": 10,
              "solidity": 0.2
             }
            },
            "type": "histogram"
           }
          ],
          "histogram2d": [
           {
            "colorbar": {
             "outlinewidth": 0,
             "ticks": ""
            },
            "colorscale": [
             [
              0,
              "#0d0887"
             ],
             [
              0.1111111111111111,
              "#46039f"
             ],
             [
              0.2222222222222222,
              "#7201a8"
             ],
             [
              0.3333333333333333,
              "#9c179e"
             ],
             [
              0.4444444444444444,
              "#bd3786"
             ],
             [
              0.5555555555555556,
              "#d8576b"
             ],
             [
              0.6666666666666666,
              "#ed7953"
             ],
             [
              0.7777777777777778,
              "#fb9f3a"
             ],
             [
              0.8888888888888888,
              "#fdca26"
             ],
             [
              1,
              "#f0f921"
             ]
            ],
            "type": "histogram2d"
           }
          ],
          "histogram2dcontour": [
           {
            "colorbar": {
             "outlinewidth": 0,
             "ticks": ""
            },
            "colorscale": [
             [
              0,
              "#0d0887"
             ],
             [
              0.1111111111111111,
              "#46039f"
             ],
             [
              0.2222222222222222,
              "#7201a8"
             ],
             [
              0.3333333333333333,
              "#9c179e"
             ],
             [
              0.4444444444444444,
              "#bd3786"
             ],
             [
              0.5555555555555556,
              "#d8576b"
             ],
             [
              0.6666666666666666,
              "#ed7953"
             ],
             [
              0.7777777777777778,
              "#fb9f3a"
             ],
             [
              0.8888888888888888,
              "#fdca26"
             ],
             [
              1,
              "#f0f921"
             ]
            ],
            "type": "histogram2dcontour"
           }
          ],
          "mesh3d": [
           {
            "colorbar": {
             "outlinewidth": 0,
             "ticks": ""
            },
            "type": "mesh3d"
           }
          ],
          "parcoords": [
           {
            "line": {
             "colorbar": {
              "outlinewidth": 0,
              "ticks": ""
             }
            },
            "type": "parcoords"
           }
          ],
          "pie": [
           {
            "automargin": true,
            "type": "pie"
           }
          ],
          "scatter": [
           {
            "fillpattern": {
             "fillmode": "overlay",
             "size": 10,
             "solidity": 0.2
            },
            "type": "scatter"
           }
          ],
          "scatter3d": [
           {
            "line": {
             "colorbar": {
              "outlinewidth": 0,
              "ticks": ""
             }
            },
            "marker": {
             "colorbar": {
              "outlinewidth": 0,
              "ticks": ""
             }
            },
            "type": "scatter3d"
           }
          ],
          "scattercarpet": [
           {
            "marker": {
             "colorbar": {
              "outlinewidth": 0,
              "ticks": ""
             }
            },
            "type": "scattercarpet"
           }
          ],
          "scattergeo": [
           {
            "marker": {
             "colorbar": {
              "outlinewidth": 0,
              "ticks": ""
             }
            },
            "type": "scattergeo"
           }
          ],
          "scattergl": [
           {
            "marker": {
             "colorbar": {
              "outlinewidth": 0,
              "ticks": ""
             }
            },
            "type": "scattergl"
           }
          ],
          "scattermapbox": [
           {
            "marker": {
             "colorbar": {
              "outlinewidth": 0,
              "ticks": ""
             }
            },
            "type": "scattermapbox"
           }
          ],
          "scatterpolar": [
           {
            "marker": {
             "colorbar": {
              "outlinewidth": 0,
              "ticks": ""
             }
            },
            "type": "scatterpolar"
           }
          ],
          "scatterpolargl": [
           {
            "marker": {
             "colorbar": {
              "outlinewidth": 0,
              "ticks": ""
             }
            },
            "type": "scatterpolargl"
           }
          ],
          "scatterternary": [
           {
            "marker": {
             "colorbar": {
              "outlinewidth": 0,
              "ticks": ""
             }
            },
            "type": "scatterternary"
           }
          ],
          "surface": [
           {
            "colorbar": {
             "outlinewidth": 0,
             "ticks": ""
            },
            "colorscale": [
             [
              0,
              "#0d0887"
             ],
             [
              0.1111111111111111,
              "#46039f"
             ],
             [
              0.2222222222222222,
              "#7201a8"
             ],
             [
              0.3333333333333333,
              "#9c179e"
             ],
             [
              0.4444444444444444,
              "#bd3786"
             ],
             [
              0.5555555555555556,
              "#d8576b"
             ],
             [
              0.6666666666666666,
              "#ed7953"
             ],
             [
              0.7777777777777778,
              "#fb9f3a"
             ],
             [
              0.8888888888888888,
              "#fdca26"
             ],
             [
              1,
              "#f0f921"
             ]
            ],
            "type": "surface"
           }
          ],
          "table": [
           {
            "cells": {
             "fill": {
              "color": "#EBF0F8"
             },
             "line": {
              "color": "white"
             }
            },
            "header": {
             "fill": {
              "color": "#C8D4E3"
             },
             "line": {
              "color": "white"
             }
            },
            "type": "table"
           }
          ]
         },
         "layout": {
          "annotationdefaults": {
           "arrowcolor": "#2a3f5f",
           "arrowhead": 0,
           "arrowwidth": 1
          },
          "autotypenumbers": "strict",
          "coloraxis": {
           "colorbar": {
            "outlinewidth": 0,
            "ticks": ""
           }
          },
          "colorscale": {
           "diverging": [
            [
             0,
             "#8e0152"
            ],
            [
             0.1,
             "#c51b7d"
            ],
            [
             0.2,
             "#de77ae"
            ],
            [
             0.3,
             "#f1b6da"
            ],
            [
             0.4,
             "#fde0ef"
            ],
            [
             0.5,
             "#f7f7f7"
            ],
            [
             0.6,
             "#e6f5d0"
            ],
            [
             0.7,
             "#b8e186"
            ],
            [
             0.8,
             "#7fbc41"
            ],
            [
             0.9,
             "#4d9221"
            ],
            [
             1,
             "#276419"
            ]
           ],
           "sequential": [
            [
             0,
             "#0d0887"
            ],
            [
             0.1111111111111111,
             "#46039f"
            ],
            [
             0.2222222222222222,
             "#7201a8"
            ],
            [
             0.3333333333333333,
             "#9c179e"
            ],
            [
             0.4444444444444444,
             "#bd3786"
            ],
            [
             0.5555555555555556,
             "#d8576b"
            ],
            [
             0.6666666666666666,
             "#ed7953"
            ],
            [
             0.7777777777777778,
             "#fb9f3a"
            ],
            [
             0.8888888888888888,
             "#fdca26"
            ],
            [
             1,
             "#f0f921"
            ]
           ],
           "sequentialminus": [
            [
             0,
             "#0d0887"
            ],
            [
             0.1111111111111111,
             "#46039f"
            ],
            [
             0.2222222222222222,
             "#7201a8"
            ],
            [
             0.3333333333333333,
             "#9c179e"
            ],
            [
             0.4444444444444444,
             "#bd3786"
            ],
            [
             0.5555555555555556,
             "#d8576b"
            ],
            [
             0.6666666666666666,
             "#ed7953"
            ],
            [
             0.7777777777777778,
             "#fb9f3a"
            ],
            [
             0.8888888888888888,
             "#fdca26"
            ],
            [
             1,
             "#f0f921"
            ]
           ]
          },
          "colorway": [
           "#636efa",
           "#EF553B",
           "#00cc96",
           "#ab63fa",
           "#FFA15A",
           "#19d3f3",
           "#FF6692",
           "#B6E880",
           "#FF97FF",
           "#FECB52"
          ],
          "font": {
           "color": "#2a3f5f"
          },
          "geo": {
           "bgcolor": "white",
           "lakecolor": "white",
           "landcolor": "#E5ECF6",
           "showlakes": true,
           "showland": true,
           "subunitcolor": "white"
          },
          "hoverlabel": {
           "align": "left"
          },
          "hovermode": "closest",
          "mapbox": {
           "style": "light"
          },
          "paper_bgcolor": "white",
          "plot_bgcolor": "#E5ECF6",
          "polar": {
           "angularaxis": {
            "gridcolor": "white",
            "linecolor": "white",
            "ticks": ""
           },
           "bgcolor": "#E5ECF6",
           "radialaxis": {
            "gridcolor": "white",
            "linecolor": "white",
            "ticks": ""
           }
          },
          "scene": {
           "xaxis": {
            "backgroundcolor": "#E5ECF6",
            "gridcolor": "white",
            "gridwidth": 2,
            "linecolor": "white",
            "showbackground": true,
            "ticks": "",
            "zerolinecolor": "white"
           },
           "yaxis": {
            "backgroundcolor": "#E5ECF6",
            "gridcolor": "white",
            "gridwidth": 2,
            "linecolor": "white",
            "showbackground": true,
            "ticks": "",
            "zerolinecolor": "white"
           },
           "zaxis": {
            "backgroundcolor": "#E5ECF6",
            "gridcolor": "white",
            "gridwidth": 2,
            "linecolor": "white",
            "showbackground": true,
            "ticks": "",
            "zerolinecolor": "white"
           }
          },
          "shapedefaults": {
           "line": {
            "color": "#2a3f5f"
           }
          },
          "ternary": {
           "aaxis": {
            "gridcolor": "white",
            "linecolor": "white",
            "ticks": ""
           },
           "baxis": {
            "gridcolor": "white",
            "linecolor": "white",
            "ticks": ""
           },
           "bgcolor": "#E5ECF6",
           "caxis": {
            "gridcolor": "white",
            "linecolor": "white",
            "ticks": ""
           }
          },
          "title": {
           "x": 0.05
          },
          "xaxis": {
           "automargin": true,
           "gridcolor": "white",
           "linecolor": "white",
           "ticks": "",
           "title": {
            "standoff": 15
           },
           "zerolinecolor": "white",
           "zerolinewidth": 2
          },
          "yaxis": {
           "automargin": true,
           "gridcolor": "white",
           "linecolor": "white",
           "ticks": "",
           "title": {
            "standoff": 15
           },
           "zerolinecolor": "white",
           "zerolinewidth": 2
          }
         }
        },
        "xaxis": {
         "anchor": "y",
         "domain": [
          0,
          0.49
         ],
         "title": {
          "text": "Device(ID)"
         }
        },
        "xaxis2": {
         "anchor": "y2",
         "domain": [
          0.51,
          1
         ],
         "matches": "x",
         "title": {
          "text": "Device(ID)"
         }
        },
        "yaxis": {
         "anchor": "x",
         "domain": [
          0,
          1
         ],
         "title": {
          "text": "Duration(hours)"
         }
        },
        "yaxis2": {
         "anchor": "x2",
         "domain": [
          0,
          1
         ],
         "matches": "y",
         "showticklabels": false
        }
       }
      }
     },
     "metadata": {},
     "output_type": "display_data"
    }
   ],
   "source": [
    "import plotly.express as px\n",
    "\n",
    "fig = px.bar(df, x=\"Device(ID)\", color=\"Power draw(W)\", y=\"Duration(hours)\", text=\"Load(mode)\", facet_col=\"Workload(name)\")\n",
    "fig.show()"
   ]
  },
  {
   "cell_type": "markdown",
   "metadata": {},
   "source": [
    "## Time spent in load-mode and energy consumption per device"
   ]
  },
  {
   "cell_type": "code",
   "execution_count": 5,
   "metadata": {},
   "outputs": [
    {
     "data": {
      "application/vnd.plotly.v1+json": {
       "config": {
        "plotlyServerURL": "https://plot.ly"
       },
       "data": [
        {
         "alignmentgroup": "True",
         "hovertemplate": "Workload(name)=Light-medium<br>Device(ID)=%{x}<br>Duration(hours)=%{y}<br>Load(mode)=%{text}<br>Energy(kWh/yr)=%{marker.color}<extra></extra>",
         "legendgroup": "",
         "marker": {
          "color": [
           213.92,
           595.11,
           347.16,
           207.39,
           246.59,
           700.27,
           432.83,
           281.2,
           394.02,
           1104.68,
           625.46,
           281.63,
           340.76,
           833.65,
           489.86,
           224.48
          ],
          "coloraxis": "coloraxis",
          "pattern": {
           "shape": ""
          }
         },
         "name": "",
         "offsetgroup": "",
         "orientation": "v",
         "showlegend": false,
         "text": [
          "100%",
          "50%",
          "10%",
          "Idle",
          "100%",
          "50%",
          "10%",
          "Idle",
          "100%",
          "50%",
          "10%",
          "Idle",
          "100%",
          "50%",
          "10%",
          "Idle"
         ],
         "textposition": "auto",
         "type": "bar",
         "x": [
          "R6515",
          "R6515",
          "R6515",
          "R6515",
          "R7515",
          "R7515",
          "R7515",
          "R7515",
          "R6525",
          "R6525",
          "R6525",
          "R6525",
          "R7525",
          "R7525",
          "R7525",
          "R7525"
         ],
         "xaxis": "x",
         "y": [
          2.4,
          8.4,
          7.2,
          6,
          2.4,
          8.4,
          7.2,
          6,
          2.4,
          8.4,
          7.2,
          6,
          2.4,
          8.4,
          7.2,
          6
         ],
         "yaxis": "y"
        },
        {
         "alignmentgroup": "True",
         "hovertemplate": "Workload(name)=Heavy<br>Device(ID)=%{x}<br>Duration(hours)=%{y}<br>Load(mode)=%{text}<br>Energy(kWh/yr)=%{marker.color}<extra></extra>",
         "legendgroup": "",
         "marker": {
          "color": [
           320.88,
           935.17,
           231.44,
           82.96,
           369.89,
           1100.43,
           288.55,
           112.48,
           591.04,
           1735.93,
           416.98,
           112.65,
           511.15,
           1310.01,
           326.57,
           89.79
          ],
          "coloraxis": "coloraxis",
          "pattern": {
           "shape": ""
          }
         },
         "name": "",
         "offsetgroup": "",
         "orientation": "v",
         "showlegend": false,
         "text": [
          "100%",
          "50%",
          "10%",
          "Idle",
          "100%",
          "50%",
          "10%",
          "Idle",
          "100%",
          "50%",
          "10%",
          "Idle",
          "100%",
          "50%",
          "10%",
          "Idle"
         ],
         "textposition": "auto",
         "type": "bar",
         "x": [
          "R6515",
          "R6515",
          "R6515",
          "R6515",
          "R7515",
          "R7515",
          "R7515",
          "R7515",
          "R6525",
          "R6525",
          "R6525",
          "R6525",
          "R7525",
          "R7525",
          "R7525",
          "R7525"
         ],
         "xaxis": "x2",
         "y": [
          3.6,
          13.2,
          4.8,
          2.4,
          3.6,
          13.2,
          4.8,
          2.4,
          3.6,
          13.2,
          4.8,
          2.4,
          3.6,
          13.2,
          4.8,
          2.4
         ],
         "yaxis": "y2"
        }
       ],
       "layout": {
        "annotations": [
         {
          "font": {},
          "showarrow": false,
          "text": "Workload(name)=Light-medium",
          "x": 0.245,
          "xanchor": "center",
          "xref": "paper",
          "y": 1,
          "yanchor": "bottom",
          "yref": "paper"
         },
         {
          "font": {},
          "showarrow": false,
          "text": "Workload(name)=Heavy",
          "x": 0.755,
          "xanchor": "center",
          "xref": "paper",
          "y": 1,
          "yanchor": "bottom",
          "yref": "paper"
         }
        ],
        "barmode": "relative",
        "coloraxis": {
         "colorbar": {
          "title": {
           "text": "Energy(kWh/yr)"
          }
         },
         "colorscale": [
          [
           0,
           "#0d0887"
          ],
          [
           0.1111111111111111,
           "#46039f"
          ],
          [
           0.2222222222222222,
           "#7201a8"
          ],
          [
           0.3333333333333333,
           "#9c179e"
          ],
          [
           0.4444444444444444,
           "#bd3786"
          ],
          [
           0.5555555555555556,
           "#d8576b"
          ],
          [
           0.6666666666666666,
           "#ed7953"
          ],
          [
           0.7777777777777778,
           "#fb9f3a"
          ],
          [
           0.8888888888888888,
           "#fdca26"
          ],
          [
           1,
           "#f0f921"
          ]
         ]
        },
        "legend": {
         "tracegroupgap": 0
        },
        "margin": {
         "t": 60
        },
        "template": {
         "data": {
          "bar": [
           {
            "error_x": {
             "color": "#2a3f5f"
            },
            "error_y": {
             "color": "#2a3f5f"
            },
            "marker": {
             "line": {
              "color": "#E5ECF6",
              "width": 0.5
             },
             "pattern": {
              "fillmode": "overlay",
              "size": 10,
              "solidity": 0.2
             }
            },
            "type": "bar"
           }
          ],
          "barpolar": [
           {
            "marker": {
             "line": {
              "color": "#E5ECF6",
              "width": 0.5
             },
             "pattern": {
              "fillmode": "overlay",
              "size": 10,
              "solidity": 0.2
             }
            },
            "type": "barpolar"
           }
          ],
          "carpet": [
           {
            "aaxis": {
             "endlinecolor": "#2a3f5f",
             "gridcolor": "white",
             "linecolor": "white",
             "minorgridcolor": "white",
             "startlinecolor": "#2a3f5f"
            },
            "baxis": {
             "endlinecolor": "#2a3f5f",
             "gridcolor": "white",
             "linecolor": "white",
             "minorgridcolor": "white",
             "startlinecolor": "#2a3f5f"
            },
            "type": "carpet"
           }
          ],
          "choropleth": [
           {
            "colorbar": {
             "outlinewidth": 0,
             "ticks": ""
            },
            "type": "choropleth"
           }
          ],
          "contour": [
           {
            "colorbar": {
             "outlinewidth": 0,
             "ticks": ""
            },
            "colorscale": [
             [
              0,
              "#0d0887"
             ],
             [
              0.1111111111111111,
              "#46039f"
             ],
             [
              0.2222222222222222,
              "#7201a8"
             ],
             [
              0.3333333333333333,
              "#9c179e"
             ],
             [
              0.4444444444444444,
              "#bd3786"
             ],
             [
              0.5555555555555556,
              "#d8576b"
             ],
             [
              0.6666666666666666,
              "#ed7953"
             ],
             [
              0.7777777777777778,
              "#fb9f3a"
             ],
             [
              0.8888888888888888,
              "#fdca26"
             ],
             [
              1,
              "#f0f921"
             ]
            ],
            "type": "contour"
           }
          ],
          "contourcarpet": [
           {
            "colorbar": {
             "outlinewidth": 0,
             "ticks": ""
            },
            "type": "contourcarpet"
           }
          ],
          "heatmap": [
           {
            "colorbar": {
             "outlinewidth": 0,
             "ticks": ""
            },
            "colorscale": [
             [
              0,
              "#0d0887"
             ],
             [
              0.1111111111111111,
              "#46039f"
             ],
             [
              0.2222222222222222,
              "#7201a8"
             ],
             [
              0.3333333333333333,
              "#9c179e"
             ],
             [
              0.4444444444444444,
              "#bd3786"
             ],
             [
              0.5555555555555556,
              "#d8576b"
             ],
             [
              0.6666666666666666,
              "#ed7953"
             ],
             [
              0.7777777777777778,
              "#fb9f3a"
             ],
             [
              0.8888888888888888,
              "#fdca26"
             ],
             [
              1,
              "#f0f921"
             ]
            ],
            "type": "heatmap"
           }
          ],
          "heatmapgl": [
           {
            "colorbar": {
             "outlinewidth": 0,
             "ticks": ""
            },
            "colorscale": [
             [
              0,
              "#0d0887"
             ],
             [
              0.1111111111111111,
              "#46039f"
             ],
             [
              0.2222222222222222,
              "#7201a8"
             ],
             [
              0.3333333333333333,
              "#9c179e"
             ],
             [
              0.4444444444444444,
              "#bd3786"
             ],
             [
              0.5555555555555556,
              "#d8576b"
             ],
             [
              0.6666666666666666,
              "#ed7953"
             ],
             [
              0.7777777777777778,
              "#fb9f3a"
             ],
             [
              0.8888888888888888,
              "#fdca26"
             ],
             [
              1,
              "#f0f921"
             ]
            ],
            "type": "heatmapgl"
           }
          ],
          "histogram": [
           {
            "marker": {
             "pattern": {
              "fillmode": "overlay",
              "size": 10,
              "solidity": 0.2
             }
            },
            "type": "histogram"
           }
          ],
          "histogram2d": [
           {
            "colorbar": {
             "outlinewidth": 0,
             "ticks": ""
            },
            "colorscale": [
             [
              0,
              "#0d0887"
             ],
             [
              0.1111111111111111,
              "#46039f"
             ],
             [
              0.2222222222222222,
              "#7201a8"
             ],
             [
              0.3333333333333333,
              "#9c179e"
             ],
             [
              0.4444444444444444,
              "#bd3786"
             ],
             [
              0.5555555555555556,
              "#d8576b"
             ],
             [
              0.6666666666666666,
              "#ed7953"
             ],
             [
              0.7777777777777778,
              "#fb9f3a"
             ],
             [
              0.8888888888888888,
              "#fdca26"
             ],
             [
              1,
              "#f0f921"
             ]
            ],
            "type": "histogram2d"
           }
          ],
          "histogram2dcontour": [
           {
            "colorbar": {
             "outlinewidth": 0,
             "ticks": ""
            },
            "colorscale": [
             [
              0,
              "#0d0887"
             ],
             [
              0.1111111111111111,
              "#46039f"
             ],
             [
              0.2222222222222222,
              "#7201a8"
             ],
             [
              0.3333333333333333,
              "#9c179e"
             ],
             [
              0.4444444444444444,
              "#bd3786"
             ],
             [
              0.5555555555555556,
              "#d8576b"
             ],
             [
              0.6666666666666666,
              "#ed7953"
             ],
             [
              0.7777777777777778,
              "#fb9f3a"
             ],
             [
              0.8888888888888888,
              "#fdca26"
             ],
             [
              1,
              "#f0f921"
             ]
            ],
            "type": "histogram2dcontour"
           }
          ],
          "mesh3d": [
           {
            "colorbar": {
             "outlinewidth": 0,
             "ticks": ""
            },
            "type": "mesh3d"
           }
          ],
          "parcoords": [
           {
            "line": {
             "colorbar": {
              "outlinewidth": 0,
              "ticks": ""
             }
            },
            "type": "parcoords"
           }
          ],
          "pie": [
           {
            "automargin": true,
            "type": "pie"
           }
          ],
          "scatter": [
           {
            "fillpattern": {
             "fillmode": "overlay",
             "size": 10,
             "solidity": 0.2
            },
            "type": "scatter"
           }
          ],
          "scatter3d": [
           {
            "line": {
             "colorbar": {
              "outlinewidth": 0,
              "ticks": ""
             }
            },
            "marker": {
             "colorbar": {
              "outlinewidth": 0,
              "ticks": ""
             }
            },
            "type": "scatter3d"
           }
          ],
          "scattercarpet": [
           {
            "marker": {
             "colorbar": {
              "outlinewidth": 0,
              "ticks": ""
             }
            },
            "type": "scattercarpet"
           }
          ],
          "scattergeo": [
           {
            "marker": {
             "colorbar": {
              "outlinewidth": 0,
              "ticks": ""
             }
            },
            "type": "scattergeo"
           }
          ],
          "scattergl": [
           {
            "marker": {
             "colorbar": {
              "outlinewidth": 0,
              "ticks": ""
             }
            },
            "type": "scattergl"
           }
          ],
          "scattermapbox": [
           {
            "marker": {
             "colorbar": {
              "outlinewidth": 0,
              "ticks": ""
             }
            },
            "type": "scattermapbox"
           }
          ],
          "scatterpolar": [
           {
            "marker": {
             "colorbar": {
              "outlinewidth": 0,
              "ticks": ""
             }
            },
            "type": "scatterpolar"
           }
          ],
          "scatterpolargl": [
           {
            "marker": {
             "colorbar": {
              "outlinewidth": 0,
              "ticks": ""
             }
            },
            "type": "scatterpolargl"
           }
          ],
          "scatterternary": [
           {
            "marker": {
             "colorbar": {
              "outlinewidth": 0,
              "ticks": ""
             }
            },
            "type": "scatterternary"
           }
          ],
          "surface": [
           {
            "colorbar": {
             "outlinewidth": 0,
             "ticks": ""
            },
            "colorscale": [
             [
              0,
              "#0d0887"
             ],
             [
              0.1111111111111111,
              "#46039f"
             ],
             [
              0.2222222222222222,
              "#7201a8"
             ],
             [
              0.3333333333333333,
              "#9c179e"
             ],
             [
              0.4444444444444444,
              "#bd3786"
             ],
             [
              0.5555555555555556,
              "#d8576b"
             ],
             [
              0.6666666666666666,
              "#ed7953"
             ],
             [
              0.7777777777777778,
              "#fb9f3a"
             ],
             [
              0.8888888888888888,
              "#fdca26"
             ],
             [
              1,
              "#f0f921"
             ]
            ],
            "type": "surface"
           }
          ],
          "table": [
           {
            "cells": {
             "fill": {
              "color": "#EBF0F8"
             },
             "line": {
              "color": "white"
             }
            },
            "header": {
             "fill": {
              "color": "#C8D4E3"
             },
             "line": {
              "color": "white"
             }
            },
            "type": "table"
           }
          ]
         },
         "layout": {
          "annotationdefaults": {
           "arrowcolor": "#2a3f5f",
           "arrowhead": 0,
           "arrowwidth": 1
          },
          "autotypenumbers": "strict",
          "coloraxis": {
           "colorbar": {
            "outlinewidth": 0,
            "ticks": ""
           }
          },
          "colorscale": {
           "diverging": [
            [
             0,
             "#8e0152"
            ],
            [
             0.1,
             "#c51b7d"
            ],
            [
             0.2,
             "#de77ae"
            ],
            [
             0.3,
             "#f1b6da"
            ],
            [
             0.4,
             "#fde0ef"
            ],
            [
             0.5,
             "#f7f7f7"
            ],
            [
             0.6,
             "#e6f5d0"
            ],
            [
             0.7,
             "#b8e186"
            ],
            [
             0.8,
             "#7fbc41"
            ],
            [
             0.9,
             "#4d9221"
            ],
            [
             1,
             "#276419"
            ]
           ],
           "sequential": [
            [
             0,
             "#0d0887"
            ],
            [
             0.1111111111111111,
             "#46039f"
            ],
            [
             0.2222222222222222,
             "#7201a8"
            ],
            [
             0.3333333333333333,
             "#9c179e"
            ],
            [
             0.4444444444444444,
             "#bd3786"
            ],
            [
             0.5555555555555556,
             "#d8576b"
            ],
            [
             0.6666666666666666,
             "#ed7953"
            ],
            [
             0.7777777777777778,
             "#fb9f3a"
            ],
            [
             0.8888888888888888,
             "#fdca26"
            ],
            [
             1,
             "#f0f921"
            ]
           ],
           "sequentialminus": [
            [
             0,
             "#0d0887"
            ],
            [
             0.1111111111111111,
             "#46039f"
            ],
            [
             0.2222222222222222,
             "#7201a8"
            ],
            [
             0.3333333333333333,
             "#9c179e"
            ],
            [
             0.4444444444444444,
             "#bd3786"
            ],
            [
             0.5555555555555556,
             "#d8576b"
            ],
            [
             0.6666666666666666,
             "#ed7953"
            ],
            [
             0.7777777777777778,
             "#fb9f3a"
            ],
            [
             0.8888888888888888,
             "#fdca26"
            ],
            [
             1,
             "#f0f921"
            ]
           ]
          },
          "colorway": [
           "#636efa",
           "#EF553B",
           "#00cc96",
           "#ab63fa",
           "#FFA15A",
           "#19d3f3",
           "#FF6692",
           "#B6E880",
           "#FF97FF",
           "#FECB52"
          ],
          "font": {
           "color": "#2a3f5f"
          },
          "geo": {
           "bgcolor": "white",
           "lakecolor": "white",
           "landcolor": "#E5ECF6",
           "showlakes": true,
           "showland": true,
           "subunitcolor": "white"
          },
          "hoverlabel": {
           "align": "left"
          },
          "hovermode": "closest",
          "mapbox": {
           "style": "light"
          },
          "paper_bgcolor": "white",
          "plot_bgcolor": "#E5ECF6",
          "polar": {
           "angularaxis": {
            "gridcolor": "white",
            "linecolor": "white",
            "ticks": ""
           },
           "bgcolor": "#E5ECF6",
           "radialaxis": {
            "gridcolor": "white",
            "linecolor": "white",
            "ticks": ""
           }
          },
          "scene": {
           "xaxis": {
            "backgroundcolor": "#E5ECF6",
            "gridcolor": "white",
            "gridwidth": 2,
            "linecolor": "white",
            "showbackground": true,
            "ticks": "",
            "zerolinecolor": "white"
           },
           "yaxis": {
            "backgroundcolor": "#E5ECF6",
            "gridcolor": "white",
            "gridwidth": 2,
            "linecolor": "white",
            "showbackground": true,
            "ticks": "",
            "zerolinecolor": "white"
           },
           "zaxis": {
            "backgroundcolor": "#E5ECF6",
            "gridcolor": "white",
            "gridwidth": 2,
            "linecolor": "white",
            "showbackground": true,
            "ticks": "",
            "zerolinecolor": "white"
           }
          },
          "shapedefaults": {
           "line": {
            "color": "#2a3f5f"
           }
          },
          "ternary": {
           "aaxis": {
            "gridcolor": "white",
            "linecolor": "white",
            "ticks": ""
           },
           "baxis": {
            "gridcolor": "white",
            "linecolor": "white",
            "ticks": ""
           },
           "bgcolor": "#E5ECF6",
           "caxis": {
            "gridcolor": "white",
            "linecolor": "white",
            "ticks": ""
           }
          },
          "title": {
           "x": 0.05
          },
          "xaxis": {
           "automargin": true,
           "gridcolor": "white",
           "linecolor": "white",
           "ticks": "",
           "title": {
            "standoff": 15
           },
           "zerolinecolor": "white",
           "zerolinewidth": 2
          },
          "yaxis": {
           "automargin": true,
           "gridcolor": "white",
           "linecolor": "white",
           "ticks": "",
           "title": {
            "standoff": 15
           },
           "zerolinecolor": "white",
           "zerolinewidth": 2
          }
         }
        },
        "xaxis": {
         "anchor": "y",
         "domain": [
          0,
          0.49
         ],
         "title": {
          "text": "Device(ID)"
         }
        },
        "xaxis2": {
         "anchor": "y2",
         "domain": [
          0.51,
          1
         ],
         "matches": "x",
         "title": {
          "text": "Device(ID)"
         }
        },
        "yaxis": {
         "anchor": "x",
         "domain": [
          0,
          1
         ],
         "title": {
          "text": "Duration(hours)"
         }
        },
        "yaxis2": {
         "anchor": "x2",
         "domain": [
          0,
          1
         ],
         "matches": "y",
         "showticklabels": false
        }
       }
      }
     },
     "metadata": {},
     "output_type": "display_data"
    }
   ],
   "source": [
    "import plotly.express as px\n",
    "\n",
    "fig = px.bar(df, x=\"Device(ID)\", color=\"Energy(kWh/yr)\", y=\"Duration(hours)\", text=\"Load(mode)\", facet_col=\"Workload(name)\")\n",
    "fig.show()"
   ]
  },
  {
   "cell_type": "code",
   "execution_count": 17,
   "metadata": {},
   "outputs": [
    {
     "data": {
      "application/vnd.plotly.v1+json": {
       "config": {
        "plotlyServerURL": "https://plot.ly"
       },
       "data": [
        {
         "alignmentgroup": "True",
         "hovertemplate": "Workload(name)=Light-medium<br>Device(ID)=%{x}<br>Energy(kWh/yr)=%{y}<br>Load(mode)=%{text}<br>Power draw(W)=%{marker.color}<extra></extra>",
         "legendgroup": "",
         "marker": {
          "color": [
           244.2,
           194.1,
           132.1,
           94.7,
           281.5,
           228.4,
           164.7,
           128.4,
           449.8,
           360.3,
           238,
           128.6,
           389,
           271.9,
           186.4,
           102.5
          ],
          "coloraxis": "coloraxis",
          "pattern": {
           "shape": ""
          }
         },
         "name": "",
         "offsetgroup": "",
         "orientation": "v",
         "showlegend": false,
         "text": [
          "100%",
          "50%",
          "10%",
          "Idle",
          "100%",
          "50%",
          "10%",
          "Idle",
          "100%",
          "50%",
          "10%",
          "Idle",
          "100%",
          "50%",
          "10%",
          "Idle"
         ],
         "textposition": "auto",
         "type": "bar",
         "x": [
          "R6515",
          "R6515",
          "R6515",
          "R6515",
          "R7515",
          "R7515",
          "R7515",
          "R7515",
          "R6525",
          "R6525",
          "R6525",
          "R6525",
          "R7525",
          "R7525",
          "R7525",
          "R7525"
         ],
         "xaxis": "x",
         "y": [
          213.92,
          595.11,
          347.16,
          207.39,
          246.59,
          700.27,
          432.83,
          281.2,
          394.02,
          1104.68,
          625.46,
          281.63,
          340.76,
          833.65,
          489.86,
          224.48
         ],
         "yaxis": "y"
        },
        {
         "alignmentgroup": "True",
         "hovertemplate": "Workload(name)=Heavy<br>Device(ID)=%{x}<br>Energy(kWh/yr)=%{y}<br>Load(mode)=%{text}<br>Power draw(W)=%{marker.color}<extra></extra>",
         "legendgroup": "",
         "marker": {
          "color": [
           244.2,
           194.1,
           132.1,
           94.7,
           281.5,
           228.4,
           164.7,
           128.4,
           449.8,
           360.3,
           238,
           128.6,
           389,
           271.9,
           186.4,
           102.5
          ],
          "coloraxis": "coloraxis",
          "pattern": {
           "shape": ""
          }
         },
         "name": "",
         "offsetgroup": "",
         "orientation": "v",
         "showlegend": false,
         "text": [
          "100%",
          "50%",
          "10%",
          "Idle",
          "100%",
          "50%",
          "10%",
          "Idle",
          "100%",
          "50%",
          "10%",
          "Idle",
          "100%",
          "50%",
          "10%",
          "Idle"
         ],
         "textposition": "auto",
         "type": "bar",
         "x": [
          "R6515",
          "R6515",
          "R6515",
          "R6515",
          "R7515",
          "R7515",
          "R7515",
          "R7515",
          "R6525",
          "R6525",
          "R6525",
          "R6525",
          "R7525",
          "R7525",
          "R7525",
          "R7525"
         ],
         "xaxis": "x2",
         "y": [
          320.88,
          935.17,
          231.44,
          82.96,
          369.89,
          1100.43,
          288.55,
          112.48,
          591.04,
          1735.93,
          416.98,
          112.65,
          511.15,
          1310.01,
          326.57,
          89.79
         ],
         "yaxis": "y2"
        }
       ],
       "layout": {
        "annotations": [
         {
          "font": {},
          "showarrow": false,
          "text": "Workload(name)=Light-medium",
          "x": 0.245,
          "xanchor": "center",
          "xref": "paper",
          "y": 1,
          "yanchor": "bottom",
          "yref": "paper"
         },
         {
          "font": {},
          "showarrow": false,
          "text": "Workload(name)=Heavy",
          "x": 0.755,
          "xanchor": "center",
          "xref": "paper",
          "y": 1,
          "yanchor": "bottom",
          "yref": "paper"
         }
        ],
        "barmode": "relative",
        "coloraxis": {
         "colorbar": {
          "title": {
           "text": "Power draw(W)"
          }
         },
         "colorscale": [
          [
           0,
           "#0d0887"
          ],
          [
           0.1111111111111111,
           "#46039f"
          ],
          [
           0.2222222222222222,
           "#7201a8"
          ],
          [
           0.3333333333333333,
           "#9c179e"
          ],
          [
           0.4444444444444444,
           "#bd3786"
          ],
          [
           0.5555555555555556,
           "#d8576b"
          ],
          [
           0.6666666666666666,
           "#ed7953"
          ],
          [
           0.7777777777777778,
           "#fb9f3a"
          ],
          [
           0.8888888888888888,
           "#fdca26"
          ],
          [
           1,
           "#f0f921"
          ]
         ]
        },
        "legend": {
         "tracegroupgap": 0
        },
        "margin": {
         "t": 60
        },
        "template": {
         "data": {
          "bar": [
           {
            "error_x": {
             "color": "#2a3f5f"
            },
            "error_y": {
             "color": "#2a3f5f"
            },
            "marker": {
             "line": {
              "color": "#E5ECF6",
              "width": 0.5
             },
             "pattern": {
              "fillmode": "overlay",
              "size": 10,
              "solidity": 0.2
             }
            },
            "type": "bar"
           }
          ],
          "barpolar": [
           {
            "marker": {
             "line": {
              "color": "#E5ECF6",
              "width": 0.5
             },
             "pattern": {
              "fillmode": "overlay",
              "size": 10,
              "solidity": 0.2
             }
            },
            "type": "barpolar"
           }
          ],
          "carpet": [
           {
            "aaxis": {
             "endlinecolor": "#2a3f5f",
             "gridcolor": "white",
             "linecolor": "white",
             "minorgridcolor": "white",
             "startlinecolor": "#2a3f5f"
            },
            "baxis": {
             "endlinecolor": "#2a3f5f",
             "gridcolor": "white",
             "linecolor": "white",
             "minorgridcolor": "white",
             "startlinecolor": "#2a3f5f"
            },
            "type": "carpet"
           }
          ],
          "choropleth": [
           {
            "colorbar": {
             "outlinewidth": 0,
             "ticks": ""
            },
            "type": "choropleth"
           }
          ],
          "contour": [
           {
            "colorbar": {
             "outlinewidth": 0,
             "ticks": ""
            },
            "colorscale": [
             [
              0,
              "#0d0887"
             ],
             [
              0.1111111111111111,
              "#46039f"
             ],
             [
              0.2222222222222222,
              "#7201a8"
             ],
             [
              0.3333333333333333,
              "#9c179e"
             ],
             [
              0.4444444444444444,
              "#bd3786"
             ],
             [
              0.5555555555555556,
              "#d8576b"
             ],
             [
              0.6666666666666666,
              "#ed7953"
             ],
             [
              0.7777777777777778,
              "#fb9f3a"
             ],
             [
              0.8888888888888888,
              "#fdca26"
             ],
             [
              1,
              "#f0f921"
             ]
            ],
            "type": "contour"
           }
          ],
          "contourcarpet": [
           {
            "colorbar": {
             "outlinewidth": 0,
             "ticks": ""
            },
            "type": "contourcarpet"
           }
          ],
          "heatmap": [
           {
            "colorbar": {
             "outlinewidth": 0,
             "ticks": ""
            },
            "colorscale": [
             [
              0,
              "#0d0887"
             ],
             [
              0.1111111111111111,
              "#46039f"
             ],
             [
              0.2222222222222222,
              "#7201a8"
             ],
             [
              0.3333333333333333,
              "#9c179e"
             ],
             [
              0.4444444444444444,
              "#bd3786"
             ],
             [
              0.5555555555555556,
              "#d8576b"
             ],
             [
              0.6666666666666666,
              "#ed7953"
             ],
             [
              0.7777777777777778,
              "#fb9f3a"
             ],
             [
              0.8888888888888888,
              "#fdca26"
             ],
             [
              1,
              "#f0f921"
             ]
            ],
            "type": "heatmap"
           }
          ],
          "heatmapgl": [
           {
            "colorbar": {
             "outlinewidth": 0,
             "ticks": ""
            },
            "colorscale": [
             [
              0,
              "#0d0887"
             ],
             [
              0.1111111111111111,
              "#46039f"
             ],
             [
              0.2222222222222222,
              "#7201a8"
             ],
             [
              0.3333333333333333,
              "#9c179e"
             ],
             [
              0.4444444444444444,
              "#bd3786"
             ],
             [
              0.5555555555555556,
              "#d8576b"
             ],
             [
              0.6666666666666666,
              "#ed7953"
             ],
             [
              0.7777777777777778,
              "#fb9f3a"
             ],
             [
              0.8888888888888888,
              "#fdca26"
             ],
             [
              1,
              "#f0f921"
             ]
            ],
            "type": "heatmapgl"
           }
          ],
          "histogram": [
           {
            "marker": {
             "pattern": {
              "fillmode": "overlay",
              "size": 10,
              "solidity": 0.2
             }
            },
            "type": "histogram"
           }
          ],
          "histogram2d": [
           {
            "colorbar": {
             "outlinewidth": 0,
             "ticks": ""
            },
            "colorscale": [
             [
              0,
              "#0d0887"
             ],
             [
              0.1111111111111111,
              "#46039f"
             ],
             [
              0.2222222222222222,
              "#7201a8"
             ],
             [
              0.3333333333333333,
              "#9c179e"
             ],
             [
              0.4444444444444444,
              "#bd3786"
             ],
             [
              0.5555555555555556,
              "#d8576b"
             ],
             [
              0.6666666666666666,
              "#ed7953"
             ],
             [
              0.7777777777777778,
              "#fb9f3a"
             ],
             [
              0.8888888888888888,
              "#fdca26"
             ],
             [
              1,
              "#f0f921"
             ]
            ],
            "type": "histogram2d"
           }
          ],
          "histogram2dcontour": [
           {
            "colorbar": {
             "outlinewidth": 0,
             "ticks": ""
            },
            "colorscale": [
             [
              0,
              "#0d0887"
             ],
             [
              0.1111111111111111,
              "#46039f"
             ],
             [
              0.2222222222222222,
              "#7201a8"
             ],
             [
              0.3333333333333333,
              "#9c179e"
             ],
             [
              0.4444444444444444,
              "#bd3786"
             ],
             [
              0.5555555555555556,
              "#d8576b"
             ],
             [
              0.6666666666666666,
              "#ed7953"
             ],
             [
              0.7777777777777778,
              "#fb9f3a"
             ],
             [
              0.8888888888888888,
              "#fdca26"
             ],
             [
              1,
              "#f0f921"
             ]
            ],
            "type": "histogram2dcontour"
           }
          ],
          "mesh3d": [
           {
            "colorbar": {
             "outlinewidth": 0,
             "ticks": ""
            },
            "type": "mesh3d"
           }
          ],
          "parcoords": [
           {
            "line": {
             "colorbar": {
              "outlinewidth": 0,
              "ticks": ""
             }
            },
            "type": "parcoords"
           }
          ],
          "pie": [
           {
            "automargin": true,
            "type": "pie"
           }
          ],
          "scatter": [
           {
            "fillpattern": {
             "fillmode": "overlay",
             "size": 10,
             "solidity": 0.2
            },
            "type": "scatter"
           }
          ],
          "scatter3d": [
           {
            "line": {
             "colorbar": {
              "outlinewidth": 0,
              "ticks": ""
             }
            },
            "marker": {
             "colorbar": {
              "outlinewidth": 0,
              "ticks": ""
             }
            },
            "type": "scatter3d"
           }
          ],
          "scattercarpet": [
           {
            "marker": {
             "colorbar": {
              "outlinewidth": 0,
              "ticks": ""
             }
            },
            "type": "scattercarpet"
           }
          ],
          "scattergeo": [
           {
            "marker": {
             "colorbar": {
              "outlinewidth": 0,
              "ticks": ""
             }
            },
            "type": "scattergeo"
           }
          ],
          "scattergl": [
           {
            "marker": {
             "colorbar": {
              "outlinewidth": 0,
              "ticks": ""
             }
            },
            "type": "scattergl"
           }
          ],
          "scattermapbox": [
           {
            "marker": {
             "colorbar": {
              "outlinewidth": 0,
              "ticks": ""
             }
            },
            "type": "scattermapbox"
           }
          ],
          "scatterpolar": [
           {
            "marker": {
             "colorbar": {
              "outlinewidth": 0,
              "ticks": ""
             }
            },
            "type": "scatterpolar"
           }
          ],
          "scatterpolargl": [
           {
            "marker": {
             "colorbar": {
              "outlinewidth": 0,
              "ticks": ""
             }
            },
            "type": "scatterpolargl"
           }
          ],
          "scatterternary": [
           {
            "marker": {
             "colorbar": {
              "outlinewidth": 0,
              "ticks": ""
             }
            },
            "type": "scatterternary"
           }
          ],
          "surface": [
           {
            "colorbar": {
             "outlinewidth": 0,
             "ticks": ""
            },
            "colorscale": [
             [
              0,
              "#0d0887"
             ],
             [
              0.1111111111111111,
              "#46039f"
             ],
             [
              0.2222222222222222,
              "#7201a8"
             ],
             [
              0.3333333333333333,
              "#9c179e"
             ],
             [
              0.4444444444444444,
              "#bd3786"
             ],
             [
              0.5555555555555556,
              "#d8576b"
             ],
             [
              0.6666666666666666,
              "#ed7953"
             ],
             [
              0.7777777777777778,
              "#fb9f3a"
             ],
             [
              0.8888888888888888,
              "#fdca26"
             ],
             [
              1,
              "#f0f921"
             ]
            ],
            "type": "surface"
           }
          ],
          "table": [
           {
            "cells": {
             "fill": {
              "color": "#EBF0F8"
             },
             "line": {
              "color": "white"
             }
            },
            "header": {
             "fill": {
              "color": "#C8D4E3"
             },
             "line": {
              "color": "white"
             }
            },
            "type": "table"
           }
          ]
         },
         "layout": {
          "annotationdefaults": {
           "arrowcolor": "#2a3f5f",
           "arrowhead": 0,
           "arrowwidth": 1
          },
          "autotypenumbers": "strict",
          "coloraxis": {
           "colorbar": {
            "outlinewidth": 0,
            "ticks": ""
           }
          },
          "colorscale": {
           "diverging": [
            [
             0,
             "#8e0152"
            ],
            [
             0.1,
             "#c51b7d"
            ],
            [
             0.2,
             "#de77ae"
            ],
            [
             0.3,
             "#f1b6da"
            ],
            [
             0.4,
             "#fde0ef"
            ],
            [
             0.5,
             "#f7f7f7"
            ],
            [
             0.6,
             "#e6f5d0"
            ],
            [
             0.7,
             "#b8e186"
            ],
            [
             0.8,
             "#7fbc41"
            ],
            [
             0.9,
             "#4d9221"
            ],
            [
             1,
             "#276419"
            ]
           ],
           "sequential": [
            [
             0,
             "#0d0887"
            ],
            [
             0.1111111111111111,
             "#46039f"
            ],
            [
             0.2222222222222222,
             "#7201a8"
            ],
            [
             0.3333333333333333,
             "#9c179e"
            ],
            [
             0.4444444444444444,
             "#bd3786"
            ],
            [
             0.5555555555555556,
             "#d8576b"
            ],
            [
             0.6666666666666666,
             "#ed7953"
            ],
            [
             0.7777777777777778,
             "#fb9f3a"
            ],
            [
             0.8888888888888888,
             "#fdca26"
            ],
            [
             1,
             "#f0f921"
            ]
           ],
           "sequentialminus": [
            [
             0,
             "#0d0887"
            ],
            [
             0.1111111111111111,
             "#46039f"
            ],
            [
             0.2222222222222222,
             "#7201a8"
            ],
            [
             0.3333333333333333,
             "#9c179e"
            ],
            [
             0.4444444444444444,
             "#bd3786"
            ],
            [
             0.5555555555555556,
             "#d8576b"
            ],
            [
             0.6666666666666666,
             "#ed7953"
            ],
            [
             0.7777777777777778,
             "#fb9f3a"
            ],
            [
             0.8888888888888888,
             "#fdca26"
            ],
            [
             1,
             "#f0f921"
            ]
           ]
          },
          "colorway": [
           "#636efa",
           "#EF553B",
           "#00cc96",
           "#ab63fa",
           "#FFA15A",
           "#19d3f3",
           "#FF6692",
           "#B6E880",
           "#FF97FF",
           "#FECB52"
          ],
          "font": {
           "color": "#2a3f5f"
          },
          "geo": {
           "bgcolor": "white",
           "lakecolor": "white",
           "landcolor": "#E5ECF6",
           "showlakes": true,
           "showland": true,
           "subunitcolor": "white"
          },
          "hoverlabel": {
           "align": "left"
          },
          "hovermode": "closest",
          "mapbox": {
           "style": "light"
          },
          "paper_bgcolor": "white",
          "plot_bgcolor": "#E5ECF6",
          "polar": {
           "angularaxis": {
            "gridcolor": "white",
            "linecolor": "white",
            "ticks": ""
           },
           "bgcolor": "#E5ECF6",
           "radialaxis": {
            "gridcolor": "white",
            "linecolor": "white",
            "ticks": ""
           }
          },
          "scene": {
           "xaxis": {
            "backgroundcolor": "#E5ECF6",
            "gridcolor": "white",
            "gridwidth": 2,
            "linecolor": "white",
            "showbackground": true,
            "ticks": "",
            "zerolinecolor": "white"
           },
           "yaxis": {
            "backgroundcolor": "#E5ECF6",
            "gridcolor": "white",
            "gridwidth": 2,
            "linecolor": "white",
            "showbackground": true,
            "ticks": "",
            "zerolinecolor": "white"
           },
           "zaxis": {
            "backgroundcolor": "#E5ECF6",
            "gridcolor": "white",
            "gridwidth": 2,
            "linecolor": "white",
            "showbackground": true,
            "ticks": "",
            "zerolinecolor": "white"
           }
          },
          "shapedefaults": {
           "line": {
            "color": "#2a3f5f"
           }
          },
          "ternary": {
           "aaxis": {
            "gridcolor": "white",
            "linecolor": "white",
            "ticks": ""
           },
           "baxis": {
            "gridcolor": "white",
            "linecolor": "white",
            "ticks": ""
           },
           "bgcolor": "#E5ECF6",
           "caxis": {
            "gridcolor": "white",
            "linecolor": "white",
            "ticks": ""
           }
          },
          "title": {
           "x": 0.05
          },
          "xaxis": {
           "automargin": true,
           "gridcolor": "white",
           "linecolor": "white",
           "ticks": "",
           "title": {
            "standoff": 15
           },
           "zerolinecolor": "white",
           "zerolinewidth": 2
          },
          "yaxis": {
           "automargin": true,
           "gridcolor": "white",
           "linecolor": "white",
           "ticks": "",
           "title": {
            "standoff": 15
           },
           "zerolinecolor": "white",
           "zerolinewidth": 2
          }
         }
        },
        "xaxis": {
         "anchor": "y",
         "domain": [
          0,
          0.49
         ],
         "title": {
          "text": "Device(ID)"
         }
        },
        "xaxis2": {
         "anchor": "y2",
         "domain": [
          0.51,
          1
         ],
         "matches": "x",
         "title": {
          "text": "Device(ID)"
         }
        },
        "yaxis": {
         "anchor": "x",
         "domain": [
          0,
          1
         ],
         "title": {
          "text": "Energy(kWh/yr)"
         }
        },
        "yaxis2": {
         "anchor": "x2",
         "domain": [
          0,
          1
         ],
         "matches": "y",
         "showticklabels": false
        }
       }
      }
     },
     "metadata": {},
     "output_type": "display_data"
    }
   ],
   "source": [
    "import plotly.express as px\n",
    "\n",
    "fig = px.bar(df, x=\"Device(ID)\", color=\"Power draw(W)\", y=\"Energy(kWh/yr)\", text=\"Load(mode)\", facet_col=\"Workload(name)\")\n",
    "fig.show()"
   ]
  },
  {
   "cell_type": "markdown",
   "metadata": {},
   "source": [
    "Performance specs @ https://downloads.dell.com/manuals/common/poweredge_perf_amdepyc7002series.pdf\n",
    "\n",
    "```{list-table}\n",
    "* - Model\n",
    "  - GFLOPs\n",
    "  - Stream Triad (MB/s)\n",
    "  - SPECint_rate_base2017\n",
    "  - SPECfp_rate_base2017\n",
    "* - R6515\n",
    "  - 1244\n",
    "  - 164316\n",
    "  - 204\n",
    "  - 177\n",
    "* - R6525\n",
    "  - 2385\n",
    "  - 353000 (best)\n",
    "  - NA\n",
    "  - NA\n",
    "```"
   ]
  },
  {
   "cell_type": "markdown",
   "metadata": {},
   "source": [
    "## Data from the SPEC benchmarks for these servers"
   ]
  },
  {
   "cell_type": "code",
   "execution_count": 10,
   "metadata": {},
   "outputs": [
    {
     "data": {
      "text/html": [
       "<div>\n",
       "<style scoped>\n",
       "    .dataframe tbody tr th:only-of-type {\n",
       "        vertical-align: middle;\n",
       "    }\n",
       "\n",
       "    .dataframe tbody tr th {\n",
       "        vertical-align: top;\n",
       "    }\n",
       "\n",
       "    .dataframe thead th {\n",
       "        text-align: right;\n",
       "    }\n",
       "</style>\n",
       "<table border=\"1\" class=\"dataframe\">\n",
       "  <thead>\n",
       "    <tr style=\"text-align: right;\">\n",
       "      <th></th>\n",
       "      <th>Device(ID)</th>\n",
       "      <th>URL</th>\n",
       "      <th>base</th>\n",
       "      <th>peak</th>\n",
       "      <th>FPbase</th>\n",
       "      <th>FPpeak</th>\n",
       "    </tr>\n",
       "  </thead>\n",
       "  <tbody>\n",
       "    <tr>\n",
       "      <th>0</th>\n",
       "      <td>R6515</td>\n",
       "      <td>https://www.spec.org/cpu2017/results/res2019q3...</td>\n",
       "      <td>211</td>\n",
       "      <td>229</td>\n",
       "      <td>177</td>\n",
       "      <td>195</td>\n",
       "    </tr>\n",
       "    <tr>\n",
       "      <th>1</th>\n",
       "      <td>R6525</td>\n",
       "      <td>https://www.spec.org/cpu2017/results/res2019q4...</td>\n",
       "      <td>377</td>\n",
       "      <td>405</td>\n",
       "      <td>354</td>\n",
       "      <td>391</td>\n",
       "    </tr>\n",
       "    <tr>\n",
       "      <th>2</th>\n",
       "      <td>R7515</td>\n",
       "      <td>https://www.spec.org/cpu2017/results/res2019q4...</td>\n",
       "      <td>206</td>\n",
       "      <td>223</td>\n",
       "      <td>173</td>\n",
       "      <td>189</td>\n",
       "    </tr>\n",
       "    <tr>\n",
       "      <th>3</th>\n",
       "      <td>R7525</td>\n",
       "      <td>https://www.spec.org/cpu2017/results/res2019q4...</td>\n",
       "      <td>418</td>\n",
       "      <td>452</td>\n",
       "      <td>361</td>\n",
       "      <td>392</td>\n",
       "    </tr>\n",
       "  </tbody>\n",
       "</table>\n",
       "</div>"
      ],
      "text/plain": [
       "  Device(ID)                                                URL  base  peak  \\\n",
       "0      R6515  https://www.spec.org/cpu2017/results/res2019q3...   211   229   \n",
       "1      R6525  https://www.spec.org/cpu2017/results/res2019q4...   377   405   \n",
       "2      R7515  https://www.spec.org/cpu2017/results/res2019q4...   206   223   \n",
       "3      R7525  https://www.spec.org/cpu2017/results/res2019q4...   418   452   \n",
       "\n",
       "   FPbase  FPpeak  \n",
       "0     177     195  \n",
       "1     354     391  \n",
       "2     173     189  \n",
       "3     361     392  "
      ]
     },
     "execution_count": 10,
     "metadata": {},
     "output_type": "execute_result"
    }
   ],
   "source": [
    "spec = pd.read_csv(\"specint2017.csv\")\n",
    "spec"
   ]
  },
  {
   "cell_type": "markdown",
   "metadata": {},
   "source": [
    "Merging this data into the Dell LCA data gives (and using an idle load of 1%):"
   ]
  },
  {
   "cell_type": "code",
   "execution_count": 11,
   "metadata": {},
   "outputs": [
    {
     "data": {
      "text/html": [
       "<div>\n",
       "<style scoped>\n",
       "    .dataframe tbody tr th:only-of-type {\n",
       "        vertical-align: middle;\n",
       "    }\n",
       "\n",
       "    .dataframe tbody tr th {\n",
       "        vertical-align: top;\n",
       "    }\n",
       "\n",
       "    .dataframe thead th {\n",
       "        text-align: right;\n",
       "    }\n",
       "</style>\n",
       "<table border=\"1\" class=\"dataframe\">\n",
       "  <thead>\n",
       "    <tr style=\"text-align: right;\">\n",
       "      <th></th>\n",
       "      <th>Device(ID)</th>\n",
       "      <th>URL</th>\n",
       "      <th>base</th>\n",
       "      <th>peak</th>\n",
       "      <th>FPbase</th>\n",
       "      <th>FPpeak</th>\n",
       "      <th>Workload(name)</th>\n",
       "      <th>Load(mode)</th>\n",
       "      <th>Duration(hours)</th>\n",
       "      <th>Power draw(W)</th>\n",
       "      <th>Lifespan(yr)</th>\n",
       "      <th>Energy(kWh/yr)</th>\n",
       "      <th>load</th>\n",
       "      <th>PPE</th>\n",
       "      <th>PPEfp</th>\n",
       "    </tr>\n",
       "  </thead>\n",
       "  <tbody>\n",
       "    <tr>\n",
       "      <th>0</th>\n",
       "      <td>R6515</td>\n",
       "      <td>https://www.spec.org/cpu2017/results/res2019q3...</td>\n",
       "      <td>211</td>\n",
       "      <td>229</td>\n",
       "      <td>177</td>\n",
       "      <td>195</td>\n",
       "      <td>Light-medium</td>\n",
       "      <td>100%</td>\n",
       "      <td>2.4</td>\n",
       "      <td>244.2</td>\n",
       "      <td>4</td>\n",
       "      <td>213.92</td>\n",
       "      <td>1.00</td>\n",
       "      <td>0.986350</td>\n",
       "      <td>0.827412</td>\n",
       "    </tr>\n",
       "    <tr>\n",
       "      <th>1</th>\n",
       "      <td>R6515</td>\n",
       "      <td>https://www.spec.org/cpu2017/results/res2019q3...</td>\n",
       "      <td>211</td>\n",
       "      <td>229</td>\n",
       "      <td>177</td>\n",
       "      <td>195</td>\n",
       "      <td>Heavy</td>\n",
       "      <td>100%</td>\n",
       "      <td>3.6</td>\n",
       "      <td>244.2</td>\n",
       "      <td>4</td>\n",
       "      <td>320.88</td>\n",
       "      <td>1.00</td>\n",
       "      <td>0.657567</td>\n",
       "      <td>0.551608</td>\n",
       "    </tr>\n",
       "    <tr>\n",
       "      <th>2</th>\n",
       "      <td>R6525</td>\n",
       "      <td>https://www.spec.org/cpu2017/results/res2019q4...</td>\n",
       "      <td>377</td>\n",
       "      <td>405</td>\n",
       "      <td>354</td>\n",
       "      <td>391</td>\n",
       "      <td>Light-medium</td>\n",
       "      <td>100%</td>\n",
       "      <td>2.4</td>\n",
       "      <td>449.8</td>\n",
       "      <td>4</td>\n",
       "      <td>394.02</td>\n",
       "      <td>1.00</td>\n",
       "      <td>0.956804</td>\n",
       "      <td>0.898432</td>\n",
       "    </tr>\n",
       "    <tr>\n",
       "      <th>3</th>\n",
       "      <td>R6525</td>\n",
       "      <td>https://www.spec.org/cpu2017/results/res2019q4...</td>\n",
       "      <td>377</td>\n",
       "      <td>405</td>\n",
       "      <td>354</td>\n",
       "      <td>391</td>\n",
       "      <td>Heavy</td>\n",
       "      <td>100%</td>\n",
       "      <td>3.6</td>\n",
       "      <td>449.8</td>\n",
       "      <td>4</td>\n",
       "      <td>591.04</td>\n",
       "      <td>1.00</td>\n",
       "      <td>0.637859</td>\n",
       "      <td>0.598944</td>\n",
       "    </tr>\n",
       "    <tr>\n",
       "      <th>4</th>\n",
       "      <td>R7515</td>\n",
       "      <td>https://www.spec.org/cpu2017/results/res2019q4...</td>\n",
       "      <td>206</td>\n",
       "      <td>223</td>\n",
       "      <td>173</td>\n",
       "      <td>189</td>\n",
       "      <td>Light-medium</td>\n",
       "      <td>100%</td>\n",
       "      <td>2.4</td>\n",
       "      <td>281.5</td>\n",
       "      <td>4</td>\n",
       "      <td>246.59</td>\n",
       "      <td>1.00</td>\n",
       "      <td>0.835395</td>\n",
       "      <td>0.701569</td>\n",
       "    </tr>\n",
       "    <tr>\n",
       "      <th>5</th>\n",
       "      <td>R7515</td>\n",
       "      <td>https://www.spec.org/cpu2017/results/res2019q4...</td>\n",
       "      <td>206</td>\n",
       "      <td>223</td>\n",
       "      <td>173</td>\n",
       "      <td>189</td>\n",
       "      <td>Heavy</td>\n",
       "      <td>100%</td>\n",
       "      <td>3.6</td>\n",
       "      <td>281.5</td>\n",
       "      <td>4</td>\n",
       "      <td>369.89</td>\n",
       "      <td>1.00</td>\n",
       "      <td>0.556922</td>\n",
       "      <td>0.467707</td>\n",
       "    </tr>\n",
       "    <tr>\n",
       "      <th>6</th>\n",
       "      <td>R7525</td>\n",
       "      <td>https://www.spec.org/cpu2017/results/res2019q4...</td>\n",
       "      <td>418</td>\n",
       "      <td>452</td>\n",
       "      <td>361</td>\n",
       "      <td>392</td>\n",
       "      <td>Light-medium</td>\n",
       "      <td>100%</td>\n",
       "      <td>2.4</td>\n",
       "      <td>389.0</td>\n",
       "      <td>4</td>\n",
       "      <td>340.76</td>\n",
       "      <td>1.00</td>\n",
       "      <td>1.226670</td>\n",
       "      <td>1.059397</td>\n",
       "    </tr>\n",
       "    <tr>\n",
       "      <th>7</th>\n",
       "      <td>R7525</td>\n",
       "      <td>https://www.spec.org/cpu2017/results/res2019q4...</td>\n",
       "      <td>418</td>\n",
       "      <td>452</td>\n",
       "      <td>361</td>\n",
       "      <td>392</td>\n",
       "      <td>Heavy</td>\n",
       "      <td>100%</td>\n",
       "      <td>3.6</td>\n",
       "      <td>389.0</td>\n",
       "      <td>4</td>\n",
       "      <td>511.15</td>\n",
       "      <td>1.00</td>\n",
       "      <td>0.817764</td>\n",
       "      <td>0.706251</td>\n",
       "    </tr>\n",
       "    <tr>\n",
       "      <th>8</th>\n",
       "      <td>R6515</td>\n",
       "      <td>https://www.spec.org/cpu2017/results/res2019q3...</td>\n",
       "      <td>211</td>\n",
       "      <td>229</td>\n",
       "      <td>177</td>\n",
       "      <td>195</td>\n",
       "      <td>Light-medium</td>\n",
       "      <td>50%</td>\n",
       "      <td>8.4</td>\n",
       "      <td>194.1</td>\n",
       "      <td>4</td>\n",
       "      <td>595.11</td>\n",
       "      <td>0.50</td>\n",
       "      <td>0.177278</td>\n",
       "      <td>0.148712</td>\n",
       "    </tr>\n",
       "    <tr>\n",
       "      <th>9</th>\n",
       "      <td>R6515</td>\n",
       "      <td>https://www.spec.org/cpu2017/results/res2019q3...</td>\n",
       "      <td>211</td>\n",
       "      <td>229</td>\n",
       "      <td>177</td>\n",
       "      <td>195</td>\n",
       "      <td>Heavy</td>\n",
       "      <td>50%</td>\n",
       "      <td>13.2</td>\n",
       "      <td>194.1</td>\n",
       "      <td>4</td>\n",
       "      <td>935.17</td>\n",
       "      <td>0.50</td>\n",
       "      <td>0.112814</td>\n",
       "      <td>0.094635</td>\n",
       "    </tr>\n",
       "    <tr>\n",
       "      <th>10</th>\n",
       "      <td>R6525</td>\n",
       "      <td>https://www.spec.org/cpu2017/results/res2019q4...</td>\n",
       "      <td>377</td>\n",
       "      <td>405</td>\n",
       "      <td>354</td>\n",
       "      <td>391</td>\n",
       "      <td>Light-medium</td>\n",
       "      <td>50%</td>\n",
       "      <td>8.4</td>\n",
       "      <td>360.3</td>\n",
       "      <td>4</td>\n",
       "      <td>1104.68</td>\n",
       "      <td>0.50</td>\n",
       "      <td>0.170638</td>\n",
       "      <td>0.160227</td>\n",
       "    </tr>\n",
       "    <tr>\n",
       "      <th>11</th>\n",
       "      <td>R6525</td>\n",
       "      <td>https://www.spec.org/cpu2017/results/res2019q4...</td>\n",
       "      <td>377</td>\n",
       "      <td>405</td>\n",
       "      <td>354</td>\n",
       "      <td>391</td>\n",
       "      <td>Heavy</td>\n",
       "      <td>50%</td>\n",
       "      <td>13.2</td>\n",
       "      <td>360.3</td>\n",
       "      <td>4</td>\n",
       "      <td>1735.93</td>\n",
       "      <td>0.50</td>\n",
       "      <td>0.108587</td>\n",
       "      <td>0.101963</td>\n",
       "    </tr>\n",
       "    <tr>\n",
       "      <th>12</th>\n",
       "      <td>R7515</td>\n",
       "      <td>https://www.spec.org/cpu2017/results/res2019q4...</td>\n",
       "      <td>206</td>\n",
       "      <td>223</td>\n",
       "      <td>173</td>\n",
       "      <td>189</td>\n",
       "      <td>Light-medium</td>\n",
       "      <td>50%</td>\n",
       "      <td>8.4</td>\n",
       "      <td>228.4</td>\n",
       "      <td>4</td>\n",
       "      <td>700.27</td>\n",
       "      <td>0.50</td>\n",
       "      <td>0.147086</td>\n",
       "      <td>0.123524</td>\n",
       "    </tr>\n",
       "    <tr>\n",
       "      <th>13</th>\n",
       "      <td>R7515</td>\n",
       "      <td>https://www.spec.org/cpu2017/results/res2019q4...</td>\n",
       "      <td>206</td>\n",
       "      <td>223</td>\n",
       "      <td>173</td>\n",
       "      <td>189</td>\n",
       "      <td>Heavy</td>\n",
       "      <td>50%</td>\n",
       "      <td>13.2</td>\n",
       "      <td>228.4</td>\n",
       "      <td>4</td>\n",
       "      <td>1100.43</td>\n",
       "      <td>0.50</td>\n",
       "      <td>0.093600</td>\n",
       "      <td>0.078606</td>\n",
       "    </tr>\n",
       "    <tr>\n",
       "      <th>14</th>\n",
       "      <td>R7525</td>\n",
       "      <td>https://www.spec.org/cpu2017/results/res2019q4...</td>\n",
       "      <td>418</td>\n",
       "      <td>452</td>\n",
       "      <td>361</td>\n",
       "      <td>392</td>\n",
       "      <td>Light-medium</td>\n",
       "      <td>50%</td>\n",
       "      <td>8.4</td>\n",
       "      <td>271.9</td>\n",
       "      <td>4</td>\n",
       "      <td>833.65</td>\n",
       "      <td>0.50</td>\n",
       "      <td>0.250705</td>\n",
       "      <td>0.216518</td>\n",
       "    </tr>\n",
       "    <tr>\n",
       "      <th>15</th>\n",
       "      <td>R7525</td>\n",
       "      <td>https://www.spec.org/cpu2017/results/res2019q4...</td>\n",
       "      <td>418</td>\n",
       "      <td>452</td>\n",
       "      <td>361</td>\n",
       "      <td>392</td>\n",
       "      <td>Heavy</td>\n",
       "      <td>50%</td>\n",
       "      <td>13.2</td>\n",
       "      <td>271.9</td>\n",
       "      <td>4</td>\n",
       "      <td>1310.01</td>\n",
       "      <td>0.50</td>\n",
       "      <td>0.159541</td>\n",
       "      <td>0.137785</td>\n",
       "    </tr>\n",
       "    <tr>\n",
       "      <th>16</th>\n",
       "      <td>R6515</td>\n",
       "      <td>https://www.spec.org/cpu2017/results/res2019q3...</td>\n",
       "      <td>211</td>\n",
       "      <td>229</td>\n",
       "      <td>177</td>\n",
       "      <td>195</td>\n",
       "      <td>Light-medium</td>\n",
       "      <td>10%</td>\n",
       "      <td>7.2</td>\n",
       "      <td>132.1</td>\n",
       "      <td>4</td>\n",
       "      <td>347.16</td>\n",
       "      <td>0.10</td>\n",
       "      <td>0.060779</td>\n",
       "      <td>0.050985</td>\n",
       "    </tr>\n",
       "    <tr>\n",
       "      <th>17</th>\n",
       "      <td>R6515</td>\n",
       "      <td>https://www.spec.org/cpu2017/results/res2019q3...</td>\n",
       "      <td>211</td>\n",
       "      <td>229</td>\n",
       "      <td>177</td>\n",
       "      <td>195</td>\n",
       "      <td>Heavy</td>\n",
       "      <td>10%</td>\n",
       "      <td>4.8</td>\n",
       "      <td>132.1</td>\n",
       "      <td>4</td>\n",
       "      <td>231.44</td>\n",
       "      <td>0.10</td>\n",
       "      <td>0.091168</td>\n",
       "      <td>0.076478</td>\n",
       "    </tr>\n",
       "    <tr>\n",
       "      <th>18</th>\n",
       "      <td>R6525</td>\n",
       "      <td>https://www.spec.org/cpu2017/results/res2019q4...</td>\n",
       "      <td>377</td>\n",
       "      <td>405</td>\n",
       "      <td>354</td>\n",
       "      <td>391</td>\n",
       "      <td>Light-medium</td>\n",
       "      <td>10%</td>\n",
       "      <td>7.2</td>\n",
       "      <td>238.0</td>\n",
       "      <td>4</td>\n",
       "      <td>625.46</td>\n",
       "      <td>0.10</td>\n",
       "      <td>0.060276</td>\n",
       "      <td>0.056598</td>\n",
       "    </tr>\n",
       "    <tr>\n",
       "      <th>19</th>\n",
       "      <td>R6525</td>\n",
       "      <td>https://www.spec.org/cpu2017/results/res2019q4...</td>\n",
       "      <td>377</td>\n",
       "      <td>405</td>\n",
       "      <td>354</td>\n",
       "      <td>391</td>\n",
       "      <td>Heavy</td>\n",
       "      <td>10%</td>\n",
       "      <td>4.8</td>\n",
       "      <td>238.0</td>\n",
       "      <td>4</td>\n",
       "      <td>416.98</td>\n",
       "      <td>0.10</td>\n",
       "      <td>0.090412</td>\n",
       "      <td>0.084896</td>\n",
       "    </tr>\n",
       "    <tr>\n",
       "      <th>20</th>\n",
       "      <td>R7515</td>\n",
       "      <td>https://www.spec.org/cpu2017/results/res2019q4...</td>\n",
       "      <td>206</td>\n",
       "      <td>223</td>\n",
       "      <td>173</td>\n",
       "      <td>189</td>\n",
       "      <td>Light-medium</td>\n",
       "      <td>10%</td>\n",
       "      <td>7.2</td>\n",
       "      <td>164.7</td>\n",
       "      <td>4</td>\n",
       "      <td>432.83</td>\n",
       "      <td>0.10</td>\n",
       "      <td>0.047594</td>\n",
       "      <td>0.039970</td>\n",
       "    </tr>\n",
       "    <tr>\n",
       "      <th>21</th>\n",
       "      <td>R7515</td>\n",
       "      <td>https://www.spec.org/cpu2017/results/res2019q4...</td>\n",
       "      <td>206</td>\n",
       "      <td>223</td>\n",
       "      <td>173</td>\n",
       "      <td>189</td>\n",
       "      <td>Heavy</td>\n",
       "      <td>10%</td>\n",
       "      <td>4.8</td>\n",
       "      <td>164.7</td>\n",
       "      <td>4</td>\n",
       "      <td>288.55</td>\n",
       "      <td>0.10</td>\n",
       "      <td>0.071391</td>\n",
       "      <td>0.059955</td>\n",
       "    </tr>\n",
       "    <tr>\n",
       "      <th>22</th>\n",
       "      <td>R7525</td>\n",
       "      <td>https://www.spec.org/cpu2017/results/res2019q4...</td>\n",
       "      <td>418</td>\n",
       "      <td>452</td>\n",
       "      <td>361</td>\n",
       "      <td>392</td>\n",
       "      <td>Light-medium</td>\n",
       "      <td>10%</td>\n",
       "      <td>7.2</td>\n",
       "      <td>186.4</td>\n",
       "      <td>4</td>\n",
       "      <td>489.86</td>\n",
       "      <td>0.10</td>\n",
       "      <td>0.085331</td>\n",
       "      <td>0.073695</td>\n",
       "    </tr>\n",
       "    <tr>\n",
       "      <th>23</th>\n",
       "      <td>R7525</td>\n",
       "      <td>https://www.spec.org/cpu2017/results/res2019q4...</td>\n",
       "      <td>418</td>\n",
       "      <td>452</td>\n",
       "      <td>361</td>\n",
       "      <td>392</td>\n",
       "      <td>Heavy</td>\n",
       "      <td>10%</td>\n",
       "      <td>4.8</td>\n",
       "      <td>186.4</td>\n",
       "      <td>4</td>\n",
       "      <td>326.57</td>\n",
       "      <td>0.10</td>\n",
       "      <td>0.127997</td>\n",
       "      <td>0.110543</td>\n",
       "    </tr>\n",
       "    <tr>\n",
       "      <th>24</th>\n",
       "      <td>R6515</td>\n",
       "      <td>https://www.spec.org/cpu2017/results/res2019q3...</td>\n",
       "      <td>211</td>\n",
       "      <td>229</td>\n",
       "      <td>177</td>\n",
       "      <td>195</td>\n",
       "      <td>Light-medium</td>\n",
       "      <td>Idle</td>\n",
       "      <td>6.0</td>\n",
       "      <td>94.7</td>\n",
       "      <td>4</td>\n",
       "      <td>207.39</td>\n",
       "      <td>0.01</td>\n",
       "      <td>0.010174</td>\n",
       "      <td>0.008535</td>\n",
       "    </tr>\n",
       "    <tr>\n",
       "      <th>25</th>\n",
       "      <td>R6515</td>\n",
       "      <td>https://www.spec.org/cpu2017/results/res2019q3...</td>\n",
       "      <td>211</td>\n",
       "      <td>229</td>\n",
       "      <td>177</td>\n",
       "      <td>195</td>\n",
       "      <td>Heavy</td>\n",
       "      <td>Idle</td>\n",
       "      <td>2.4</td>\n",
       "      <td>94.7</td>\n",
       "      <td>4</td>\n",
       "      <td>82.96</td>\n",
       "      <td>0.01</td>\n",
       "      <td>0.025434</td>\n",
       "      <td>0.021336</td>\n",
       "    </tr>\n",
       "    <tr>\n",
       "      <th>26</th>\n",
       "      <td>R6525</td>\n",
       "      <td>https://www.spec.org/cpu2017/results/res2019q4...</td>\n",
       "      <td>377</td>\n",
       "      <td>405</td>\n",
       "      <td>354</td>\n",
       "      <td>391</td>\n",
       "      <td>Light-medium</td>\n",
       "      <td>Idle</td>\n",
       "      <td>6.0</td>\n",
       "      <td>128.6</td>\n",
       "      <td>4</td>\n",
       "      <td>281.63</td>\n",
       "      <td>0.01</td>\n",
       "      <td>0.013386</td>\n",
       "      <td>0.012570</td>\n",
       "    </tr>\n",
       "    <tr>\n",
       "      <th>27</th>\n",
       "      <td>R6525</td>\n",
       "      <td>https://www.spec.org/cpu2017/results/res2019q4...</td>\n",
       "      <td>377</td>\n",
       "      <td>405</td>\n",
       "      <td>354</td>\n",
       "      <td>391</td>\n",
       "      <td>Heavy</td>\n",
       "      <td>Idle</td>\n",
       "      <td>2.4</td>\n",
       "      <td>128.6</td>\n",
       "      <td>4</td>\n",
       "      <td>112.65</td>\n",
       "      <td>0.01</td>\n",
       "      <td>0.033466</td>\n",
       "      <td>0.031425</td>\n",
       "    </tr>\n",
       "    <tr>\n",
       "      <th>28</th>\n",
       "      <td>R7515</td>\n",
       "      <td>https://www.spec.org/cpu2017/results/res2019q4...</td>\n",
       "      <td>206</td>\n",
       "      <td>223</td>\n",
       "      <td>173</td>\n",
       "      <td>189</td>\n",
       "      <td>Light-medium</td>\n",
       "      <td>Idle</td>\n",
       "      <td>6.0</td>\n",
       "      <td>128.4</td>\n",
       "      <td>4</td>\n",
       "      <td>281.20</td>\n",
       "      <td>0.01</td>\n",
       "      <td>0.007326</td>\n",
       "      <td>0.006152</td>\n",
       "    </tr>\n",
       "    <tr>\n",
       "      <th>29</th>\n",
       "      <td>R7515</td>\n",
       "      <td>https://www.spec.org/cpu2017/results/res2019q4...</td>\n",
       "      <td>206</td>\n",
       "      <td>223</td>\n",
       "      <td>173</td>\n",
       "      <td>189</td>\n",
       "      <td>Heavy</td>\n",
       "      <td>Idle</td>\n",
       "      <td>2.4</td>\n",
       "      <td>128.4</td>\n",
       "      <td>4</td>\n",
       "      <td>112.48</td>\n",
       "      <td>0.01</td>\n",
       "      <td>0.018314</td>\n",
       "      <td>0.015381</td>\n",
       "    </tr>\n",
       "    <tr>\n",
       "      <th>30</th>\n",
       "      <td>R7525</td>\n",
       "      <td>https://www.spec.org/cpu2017/results/res2019q4...</td>\n",
       "      <td>418</td>\n",
       "      <td>452</td>\n",
       "      <td>361</td>\n",
       "      <td>392</td>\n",
       "      <td>Light-medium</td>\n",
       "      <td>Idle</td>\n",
       "      <td>6.0</td>\n",
       "      <td>102.5</td>\n",
       "      <td>4</td>\n",
       "      <td>224.48</td>\n",
       "      <td>0.01</td>\n",
       "      <td>0.018621</td>\n",
       "      <td>0.016082</td>\n",
       "    </tr>\n",
       "    <tr>\n",
       "      <th>31</th>\n",
       "      <td>R7525</td>\n",
       "      <td>https://www.spec.org/cpu2017/results/res2019q4...</td>\n",
       "      <td>418</td>\n",
       "      <td>452</td>\n",
       "      <td>361</td>\n",
       "      <td>392</td>\n",
       "      <td>Heavy</td>\n",
       "      <td>Idle</td>\n",
       "      <td>2.4</td>\n",
       "      <td>102.5</td>\n",
       "      <td>4</td>\n",
       "      <td>89.79</td>\n",
       "      <td>0.01</td>\n",
       "      <td>0.046553</td>\n",
       "      <td>0.040205</td>\n",
       "    </tr>\n",
       "  </tbody>\n",
       "</table>\n",
       "</div>"
      ],
      "text/plain": [
       "   Device(ID)                                                URL  base  peak  \\\n",
       "0       R6515  https://www.spec.org/cpu2017/results/res2019q3...   211   229   \n",
       "1       R6515  https://www.spec.org/cpu2017/results/res2019q3...   211   229   \n",
       "2       R6525  https://www.spec.org/cpu2017/results/res2019q4...   377   405   \n",
       "3       R6525  https://www.spec.org/cpu2017/results/res2019q4...   377   405   \n",
       "4       R7515  https://www.spec.org/cpu2017/results/res2019q4...   206   223   \n",
       "5       R7515  https://www.spec.org/cpu2017/results/res2019q4...   206   223   \n",
       "6       R7525  https://www.spec.org/cpu2017/results/res2019q4...   418   452   \n",
       "7       R7525  https://www.spec.org/cpu2017/results/res2019q4...   418   452   \n",
       "8       R6515  https://www.spec.org/cpu2017/results/res2019q3...   211   229   \n",
       "9       R6515  https://www.spec.org/cpu2017/results/res2019q3...   211   229   \n",
       "10      R6525  https://www.spec.org/cpu2017/results/res2019q4...   377   405   \n",
       "11      R6525  https://www.spec.org/cpu2017/results/res2019q4...   377   405   \n",
       "12      R7515  https://www.spec.org/cpu2017/results/res2019q4...   206   223   \n",
       "13      R7515  https://www.spec.org/cpu2017/results/res2019q4...   206   223   \n",
       "14      R7525  https://www.spec.org/cpu2017/results/res2019q4...   418   452   \n",
       "15      R7525  https://www.spec.org/cpu2017/results/res2019q4...   418   452   \n",
       "16      R6515  https://www.spec.org/cpu2017/results/res2019q3...   211   229   \n",
       "17      R6515  https://www.spec.org/cpu2017/results/res2019q3...   211   229   \n",
       "18      R6525  https://www.spec.org/cpu2017/results/res2019q4...   377   405   \n",
       "19      R6525  https://www.spec.org/cpu2017/results/res2019q4...   377   405   \n",
       "20      R7515  https://www.spec.org/cpu2017/results/res2019q4...   206   223   \n",
       "21      R7515  https://www.spec.org/cpu2017/results/res2019q4...   206   223   \n",
       "22      R7525  https://www.spec.org/cpu2017/results/res2019q4...   418   452   \n",
       "23      R7525  https://www.spec.org/cpu2017/results/res2019q4...   418   452   \n",
       "24      R6515  https://www.spec.org/cpu2017/results/res2019q3...   211   229   \n",
       "25      R6515  https://www.spec.org/cpu2017/results/res2019q3...   211   229   \n",
       "26      R6525  https://www.spec.org/cpu2017/results/res2019q4...   377   405   \n",
       "27      R6525  https://www.spec.org/cpu2017/results/res2019q4...   377   405   \n",
       "28      R7515  https://www.spec.org/cpu2017/results/res2019q4...   206   223   \n",
       "29      R7515  https://www.spec.org/cpu2017/results/res2019q4...   206   223   \n",
       "30      R7525  https://www.spec.org/cpu2017/results/res2019q4...   418   452   \n",
       "31      R7525  https://www.spec.org/cpu2017/results/res2019q4...   418   452   \n",
       "\n",
       "    FPbase  FPpeak Workload(name) Load(mode)  Duration(hours)  Power draw(W)  \\\n",
       "0      177     195   Light-medium       100%              2.4          244.2   \n",
       "1      177     195          Heavy       100%              3.6          244.2   \n",
       "2      354     391   Light-medium       100%              2.4          449.8   \n",
       "3      354     391          Heavy       100%              3.6          449.8   \n",
       "4      173     189   Light-medium       100%              2.4          281.5   \n",
       "5      173     189          Heavy       100%              3.6          281.5   \n",
       "6      361     392   Light-medium       100%              2.4          389.0   \n",
       "7      361     392          Heavy       100%              3.6          389.0   \n",
       "8      177     195   Light-medium        50%              8.4          194.1   \n",
       "9      177     195          Heavy        50%             13.2          194.1   \n",
       "10     354     391   Light-medium        50%              8.4          360.3   \n",
       "11     354     391          Heavy        50%             13.2          360.3   \n",
       "12     173     189   Light-medium        50%              8.4          228.4   \n",
       "13     173     189          Heavy        50%             13.2          228.4   \n",
       "14     361     392   Light-medium        50%              8.4          271.9   \n",
       "15     361     392          Heavy        50%             13.2          271.9   \n",
       "16     177     195   Light-medium        10%              7.2          132.1   \n",
       "17     177     195          Heavy        10%              4.8          132.1   \n",
       "18     354     391   Light-medium        10%              7.2          238.0   \n",
       "19     354     391          Heavy        10%              4.8          238.0   \n",
       "20     173     189   Light-medium        10%              7.2          164.7   \n",
       "21     173     189          Heavy        10%              4.8          164.7   \n",
       "22     361     392   Light-medium        10%              7.2          186.4   \n",
       "23     361     392          Heavy        10%              4.8          186.4   \n",
       "24     177     195   Light-medium       Idle              6.0           94.7   \n",
       "25     177     195          Heavy       Idle              2.4           94.7   \n",
       "26     354     391   Light-medium       Idle              6.0          128.6   \n",
       "27     354     391          Heavy       Idle              2.4          128.6   \n",
       "28     173     189   Light-medium       Idle              6.0          128.4   \n",
       "29     173     189          Heavy       Idle              2.4          128.4   \n",
       "30     361     392   Light-medium       Idle              6.0          102.5   \n",
       "31     361     392          Heavy       Idle              2.4          102.5   \n",
       "\n",
       "    Lifespan(yr)  Energy(kWh/yr)  load       PPE     PPEfp  \n",
       "0              4          213.92  1.00  0.986350  0.827412  \n",
       "1              4          320.88  1.00  0.657567  0.551608  \n",
       "2              4          394.02  1.00  0.956804  0.898432  \n",
       "3              4          591.04  1.00  0.637859  0.598944  \n",
       "4              4          246.59  1.00  0.835395  0.701569  \n",
       "5              4          369.89  1.00  0.556922  0.467707  \n",
       "6              4          340.76  1.00  1.226670  1.059397  \n",
       "7              4          511.15  1.00  0.817764  0.706251  \n",
       "8              4          595.11  0.50  0.177278  0.148712  \n",
       "9              4          935.17  0.50  0.112814  0.094635  \n",
       "10             4         1104.68  0.50  0.170638  0.160227  \n",
       "11             4         1735.93  0.50  0.108587  0.101963  \n",
       "12             4          700.27  0.50  0.147086  0.123524  \n",
       "13             4         1100.43  0.50  0.093600  0.078606  \n",
       "14             4          833.65  0.50  0.250705  0.216518  \n",
       "15             4         1310.01  0.50  0.159541  0.137785  \n",
       "16             4          347.16  0.10  0.060779  0.050985  \n",
       "17             4          231.44  0.10  0.091168  0.076478  \n",
       "18             4          625.46  0.10  0.060276  0.056598  \n",
       "19             4          416.98  0.10  0.090412  0.084896  \n",
       "20             4          432.83  0.10  0.047594  0.039970  \n",
       "21             4          288.55  0.10  0.071391  0.059955  \n",
       "22             4          489.86  0.10  0.085331  0.073695  \n",
       "23             4          326.57  0.10  0.127997  0.110543  \n",
       "24             4          207.39  0.01  0.010174  0.008535  \n",
       "25             4           82.96  0.01  0.025434  0.021336  \n",
       "26             4          281.63  0.01  0.013386  0.012570  \n",
       "27             4          112.65  0.01  0.033466  0.031425  \n",
       "28             4          281.20  0.01  0.007326  0.006152  \n",
       "29             4          112.48  0.01  0.018314  0.015381  \n",
       "30             4          224.48  0.01  0.018621  0.016082  \n",
       "31             4           89.79  0.01  0.046553  0.040205  "
      ]
     },
     "execution_count": 11,
     "metadata": {},
     "output_type": "execute_result"
    }
   ],
   "source": [
    "spec = spec.merge(df,on=\"Device(ID)\")\n",
    "load = pd.DataFrame({\"Load(mode)\":[\"Idle\", \"10%\", \"50%\", \"100%\"], \"load\": [0.01,0.1,0.5,1]})\n",
    "spec = spec.merge(load, on=\"Load(mode)\")\n",
    "spec[\"PPE\"] = spec[\"load\"]*spec[\"base\"]/spec[\"Energy(kWh/yr)\"]\n",
    "spec[\"PPEfp\"] = spec[\"load\"]*spec[\"FPbase\"]/spec[\"Energy(kWh/yr)\"]\n",
    "spec"
   ]
  },
  {
   "cell_type": "markdown",
   "metadata": {},
   "source": [
    "## Workload distribution per device"
   ]
  },
  {
   "cell_type": "code",
   "execution_count": 7,
   "metadata": {},
   "outputs": [
    {
     "data": {
      "application/vnd.plotly.v1+json": {
       "config": {
        "plotlyServerURL": "https://plot.ly"
       },
       "data": [
        {
         "alignmentgroup": "True",
         "hovertemplate": "Load(mode)=100%<br>Workload(name)=Light-medium<br>Device(ID)=%{x}<br>PPE=%{y}<extra></extra>",
         "legendgroup": "100%",
         "marker": {
          "color": "#636efa",
          "pattern": {
           "shape": ""
          }
         },
         "name": "100%",
         "offsetgroup": "100%",
         "orientation": "v",
         "showlegend": true,
         "textposition": "auto",
         "texttemplate": "%{y}",
         "type": "bar",
         "x": [
          "R6515",
          "R6525",
          "R7515",
          "R7525"
         ],
         "xaxis": "x",
         "y": [
          0.9863500373971579,
          0.9568042231358814,
          0.8353947848655663,
          1.2266697969245217
         ],
         "yaxis": "y"
        },
        {
         "alignmentgroup": "True",
         "hovertemplate": "Load(mode)=100%<br>Workload(name)=Heavy<br>Device(ID)=%{x}<br>PPE=%{y}<extra></extra>",
         "legendgroup": "100%",
         "marker": {
          "color": "#636efa",
          "pattern": {
           "shape": ""
          }
         },
         "name": "100%",
         "offsetgroup": "100%",
         "orientation": "v",
         "showlegend": false,
         "textposition": "auto",
         "texttemplate": "%{y}",
         "type": "bar",
         "x": [
          "R6515",
          "R6525",
          "R7515",
          "R7525"
         ],
         "xaxis": "x2",
         "y": [
          0.6575666915981052,
          0.6378586897671901,
          0.556922328259753,
          0.8177638657928201
         ],
         "yaxis": "y2"
        },
        {
         "alignmentgroup": "True",
         "hovertemplate": "Load(mode)=50%<br>Workload(name)=Light-medium<br>Device(ID)=%{x}<br>PPE=%{y}<extra></extra>",
         "legendgroup": "50%",
         "marker": {
          "color": "#EF553B",
          "pattern": {
           "shape": ""
          }
         },
         "name": "50%",
         "offsetgroup": "50%",
         "orientation": "v",
         "showlegend": true,
         "textposition": "auto",
         "texttemplate": "%{y}",
         "type": "bar",
         "x": [
          "R6515",
          "R6525",
          "R7515",
          "R7525"
         ],
         "xaxis": "x",
         "y": [
          0.1772781502579355,
          0.17063765072238113,
          0.14708612392362946,
          0.2507047322017633
         ],
         "yaxis": "y"
        },
        {
         "alignmentgroup": "True",
         "hovertemplate": "Load(mode)=50%<br>Workload(name)=Heavy<br>Device(ID)=%{x}<br>PPE=%{y}<extra></extra>",
         "legendgroup": "50%",
         "marker": {
          "color": "#EF553B",
          "pattern": {
           "shape": ""
          }
         },
         "name": "50%",
         "offsetgroup": "50%",
         "orientation": "v",
         "showlegend": false,
         "textposition": "auto",
         "texttemplate": "%{y}",
         "type": "bar",
         "x": [
          "R6515",
          "R6525",
          "R7515",
          "R7525"
         ],
         "xaxis": "x2",
         "y": [
          0.11281371301474599,
          0.10858732783003923,
          0.09359977463355233,
          0.15954076686437507
         ],
         "yaxis": "y2"
        },
        {
         "alignmentgroup": "True",
         "hovertemplate": "Load(mode)=10%<br>Workload(name)=Light-medium<br>Device(ID)=%{x}<br>PPE=%{y}<extra></extra>",
         "legendgroup": "10%",
         "marker": {
          "color": "#00cc96",
          "pattern": {
           "shape": ""
          }
         },
         "name": "10%",
         "offsetgroup": "10%",
         "orientation": "v",
         "showlegend": true,
         "textposition": "auto",
         "texttemplate": "%{y}",
         "type": "bar",
         "x": [
          "R6515",
          "R6525",
          "R7515",
          "R7525"
         ],
         "xaxis": "x",
         "y": [
          0.06077889157737067,
          0.060275637131071536,
          0.04759374350206779,
          0.08533050259257748
         ],
         "yaxis": "y"
        },
        {
         "alignmentgroup": "True",
         "hovertemplate": "Load(mode)=10%<br>Workload(name)=Heavy<br>Device(ID)=%{x}<br>PPE=%{y}<extra></extra>",
         "legendgroup": "10%",
         "marker": {
          "color": "#00cc96",
          "pattern": {
           "shape": ""
          }
         },
         "name": "10%",
         "offsetgroup": "10%",
         "orientation": "v",
         "showlegend": false,
         "textposition": "auto",
         "texttemplate": "%{y}",
         "type": "bar",
         "x": [
          "R6515",
          "R6525",
          "R7515",
          "R7525"
         ],
         "xaxis": "x2",
         "y": [
          0.09116833736605601,
          0.0904120101683534,
          0.07139143995841275,
          0.12799706035459474
         ],
         "yaxis": "y2"
        },
        {
         "alignmentgroup": "True",
         "hovertemplate": "Load(mode)=Idle<br>Workload(name)=Light-medium<br>Device(ID)=%{x}<br>PPE=%{y}<extra></extra>",
         "legendgroup": "Idle",
         "marker": {
          "color": "#ab63fa",
          "pattern": {
           "shape": ""
          }
         },
         "name": "Idle",
         "offsetgroup": "Idle",
         "orientation": "v",
         "showlegend": true,
         "textposition": "auto",
         "texttemplate": "%{y}",
         "type": "bar",
         "x": [
          "R6515",
          "R6525",
          "R7515",
          "R7525"
         ],
         "xaxis": "x",
         "y": [
          0.01017406818072231,
          0.013386357987430316,
          0.00732574679943101,
          0.018620812544547397
         ],
         "yaxis": "y"
        },
        {
         "alignmentgroup": "True",
         "hovertemplate": "Load(mode)=Idle<br>Workload(name)=Heavy<br>Device(ID)=%{x}<br>PPE=%{y}<extra></extra>",
         "legendgroup": "Idle",
         "marker": {
          "color": "#ab63fa",
          "pattern": {
           "shape": ""
          }
         },
         "name": "Idle",
         "offsetgroup": "Idle",
         "orientation": "v",
         "showlegend": false,
         "textposition": "auto",
         "texttemplate": "%{y}",
         "type": "bar",
         "x": [
          "R6515",
          "R6525",
          "R7515",
          "R7525"
         ],
         "xaxis": "x2",
         "y": [
          0.02543394406943105,
          0.033466489125610295,
          0.018314366998577525,
          0.046553068270408726
         ],
         "yaxis": "y2"
        }
       ],
       "layout": {
        "annotations": [
         {
          "font": {},
          "showarrow": false,
          "text": "Workload(name)=Light-medium",
          "x": 0.245,
          "xanchor": "center",
          "xref": "paper",
          "y": 1,
          "yanchor": "bottom",
          "yref": "paper"
         },
         {
          "font": {},
          "showarrow": false,
          "text": "Workload(name)=Heavy",
          "x": 0.755,
          "xanchor": "center",
          "xref": "paper",
          "y": 1,
          "yanchor": "bottom",
          "yref": "paper"
         }
        ],
        "barmode": "relative",
        "legend": {
         "title": {
          "text": "Load(mode)"
         },
         "tracegroupgap": 0
        },
        "margin": {
         "t": 60
        },
        "template": {
         "data": {
          "bar": [
           {
            "error_x": {
             "color": "#2a3f5f"
            },
            "error_y": {
             "color": "#2a3f5f"
            },
            "marker": {
             "line": {
              "color": "#E5ECF6",
              "width": 0.5
             },
             "pattern": {
              "fillmode": "overlay",
              "size": 10,
              "solidity": 0.2
             }
            },
            "type": "bar"
           }
          ],
          "barpolar": [
           {
            "marker": {
             "line": {
              "color": "#E5ECF6",
              "width": 0.5
             },
             "pattern": {
              "fillmode": "overlay",
              "size": 10,
              "solidity": 0.2
             }
            },
            "type": "barpolar"
           }
          ],
          "carpet": [
           {
            "aaxis": {
             "endlinecolor": "#2a3f5f",
             "gridcolor": "white",
             "linecolor": "white",
             "minorgridcolor": "white",
             "startlinecolor": "#2a3f5f"
            },
            "baxis": {
             "endlinecolor": "#2a3f5f",
             "gridcolor": "white",
             "linecolor": "white",
             "minorgridcolor": "white",
             "startlinecolor": "#2a3f5f"
            },
            "type": "carpet"
           }
          ],
          "choropleth": [
           {
            "colorbar": {
             "outlinewidth": 0,
             "ticks": ""
            },
            "type": "choropleth"
           }
          ],
          "contour": [
           {
            "colorbar": {
             "outlinewidth": 0,
             "ticks": ""
            },
            "colorscale": [
             [
              0,
              "#0d0887"
             ],
             [
              0.1111111111111111,
              "#46039f"
             ],
             [
              0.2222222222222222,
              "#7201a8"
             ],
             [
              0.3333333333333333,
              "#9c179e"
             ],
             [
              0.4444444444444444,
              "#bd3786"
             ],
             [
              0.5555555555555556,
              "#d8576b"
             ],
             [
              0.6666666666666666,
              "#ed7953"
             ],
             [
              0.7777777777777778,
              "#fb9f3a"
             ],
             [
              0.8888888888888888,
              "#fdca26"
             ],
             [
              1,
              "#f0f921"
             ]
            ],
            "type": "contour"
           }
          ],
          "contourcarpet": [
           {
            "colorbar": {
             "outlinewidth": 0,
             "ticks": ""
            },
            "type": "contourcarpet"
           }
          ],
          "heatmap": [
           {
            "colorbar": {
             "outlinewidth": 0,
             "ticks": ""
            },
            "colorscale": [
             [
              0,
              "#0d0887"
             ],
             [
              0.1111111111111111,
              "#46039f"
             ],
             [
              0.2222222222222222,
              "#7201a8"
             ],
             [
              0.3333333333333333,
              "#9c179e"
             ],
             [
              0.4444444444444444,
              "#bd3786"
             ],
             [
              0.5555555555555556,
              "#d8576b"
             ],
             [
              0.6666666666666666,
              "#ed7953"
             ],
             [
              0.7777777777777778,
              "#fb9f3a"
             ],
             [
              0.8888888888888888,
              "#fdca26"
             ],
             [
              1,
              "#f0f921"
             ]
            ],
            "type": "heatmap"
           }
          ],
          "heatmapgl": [
           {
            "colorbar": {
             "outlinewidth": 0,
             "ticks": ""
            },
            "colorscale": [
             [
              0,
              "#0d0887"
             ],
             [
              0.1111111111111111,
              "#46039f"
             ],
             [
              0.2222222222222222,
              "#7201a8"
             ],
             [
              0.3333333333333333,
              "#9c179e"
             ],
             [
              0.4444444444444444,
              "#bd3786"
             ],
             [
              0.5555555555555556,
              "#d8576b"
             ],
             [
              0.6666666666666666,
              "#ed7953"
             ],
             [
              0.7777777777777778,
              "#fb9f3a"
             ],
             [
              0.8888888888888888,
              "#fdca26"
             ],
             [
              1,
              "#f0f921"
             ]
            ],
            "type": "heatmapgl"
           }
          ],
          "histogram": [
           {
            "marker": {
             "pattern": {
              "fillmode": "overlay",
              "size": 10,
              "solidity": 0.2
             }
            },
            "type": "histogram"
           }
          ],
          "histogram2d": [
           {
            "colorbar": {
             "outlinewidth": 0,
             "ticks": ""
            },
            "colorscale": [
             [
              0,
              "#0d0887"
             ],
             [
              0.1111111111111111,
              "#46039f"
             ],
             [
              0.2222222222222222,
              "#7201a8"
             ],
             [
              0.3333333333333333,
              "#9c179e"
             ],
             [
              0.4444444444444444,
              "#bd3786"
             ],
             [
              0.5555555555555556,
              "#d8576b"
             ],
             [
              0.6666666666666666,
              "#ed7953"
             ],
             [
              0.7777777777777778,
              "#fb9f3a"
             ],
             [
              0.8888888888888888,
              "#fdca26"
             ],
             [
              1,
              "#f0f921"
             ]
            ],
            "type": "histogram2d"
           }
          ],
          "histogram2dcontour": [
           {
            "colorbar": {
             "outlinewidth": 0,
             "ticks": ""
            },
            "colorscale": [
             [
              0,
              "#0d0887"
             ],
             [
              0.1111111111111111,
              "#46039f"
             ],
             [
              0.2222222222222222,
              "#7201a8"
             ],
             [
              0.3333333333333333,
              "#9c179e"
             ],
             [
              0.4444444444444444,
              "#bd3786"
             ],
             [
              0.5555555555555556,
              "#d8576b"
             ],
             [
              0.6666666666666666,
              "#ed7953"
             ],
             [
              0.7777777777777778,
              "#fb9f3a"
             ],
             [
              0.8888888888888888,
              "#fdca26"
             ],
             [
              1,
              "#f0f921"
             ]
            ],
            "type": "histogram2dcontour"
           }
          ],
          "mesh3d": [
           {
            "colorbar": {
             "outlinewidth": 0,
             "ticks": ""
            },
            "type": "mesh3d"
           }
          ],
          "parcoords": [
           {
            "line": {
             "colorbar": {
              "outlinewidth": 0,
              "ticks": ""
             }
            },
            "type": "parcoords"
           }
          ],
          "pie": [
           {
            "automargin": true,
            "type": "pie"
           }
          ],
          "scatter": [
           {
            "fillpattern": {
             "fillmode": "overlay",
             "size": 10,
             "solidity": 0.2
            },
            "type": "scatter"
           }
          ],
          "scatter3d": [
           {
            "line": {
             "colorbar": {
              "outlinewidth": 0,
              "ticks": ""
             }
            },
            "marker": {
             "colorbar": {
              "outlinewidth": 0,
              "ticks": ""
             }
            },
            "type": "scatter3d"
           }
          ],
          "scattercarpet": [
           {
            "marker": {
             "colorbar": {
              "outlinewidth": 0,
              "ticks": ""
             }
            },
            "type": "scattercarpet"
           }
          ],
          "scattergeo": [
           {
            "marker": {
             "colorbar": {
              "outlinewidth": 0,
              "ticks": ""
             }
            },
            "type": "scattergeo"
           }
          ],
          "scattergl": [
           {
            "marker": {
             "colorbar": {
              "outlinewidth": 0,
              "ticks": ""
             }
            },
            "type": "scattergl"
           }
          ],
          "scattermapbox": [
           {
            "marker": {
             "colorbar": {
              "outlinewidth": 0,
              "ticks": ""
             }
            },
            "type": "scattermapbox"
           }
          ],
          "scatterpolar": [
           {
            "marker": {
             "colorbar": {
              "outlinewidth": 0,
              "ticks": ""
             }
            },
            "type": "scatterpolar"
           }
          ],
          "scatterpolargl": [
           {
            "marker": {
             "colorbar": {
              "outlinewidth": 0,
              "ticks": ""
             }
            },
            "type": "scatterpolargl"
           }
          ],
          "scatterternary": [
           {
            "marker": {
             "colorbar": {
              "outlinewidth": 0,
              "ticks": ""
             }
            },
            "type": "scatterternary"
           }
          ],
          "surface": [
           {
            "colorbar": {
             "outlinewidth": 0,
             "ticks": ""
            },
            "colorscale": [
             [
              0,
              "#0d0887"
             ],
             [
              0.1111111111111111,
              "#46039f"
             ],
             [
              0.2222222222222222,
              "#7201a8"
             ],
             [
              0.3333333333333333,
              "#9c179e"
             ],
             [
              0.4444444444444444,
              "#bd3786"
             ],
             [
              0.5555555555555556,
              "#d8576b"
             ],
             [
              0.6666666666666666,
              "#ed7953"
             ],
             [
              0.7777777777777778,
              "#fb9f3a"
             ],
             [
              0.8888888888888888,
              "#fdca26"
             ],
             [
              1,
              "#f0f921"
             ]
            ],
            "type": "surface"
           }
          ],
          "table": [
           {
            "cells": {
             "fill": {
              "color": "#EBF0F8"
             },
             "line": {
              "color": "white"
             }
            },
            "header": {
             "fill": {
              "color": "#C8D4E3"
             },
             "line": {
              "color": "white"
             }
            },
            "type": "table"
           }
          ]
         },
         "layout": {
          "annotationdefaults": {
           "arrowcolor": "#2a3f5f",
           "arrowhead": 0,
           "arrowwidth": 1
          },
          "autotypenumbers": "strict",
          "coloraxis": {
           "colorbar": {
            "outlinewidth": 0,
            "ticks": ""
           }
          },
          "colorscale": {
           "diverging": [
            [
             0,
             "#8e0152"
            ],
            [
             0.1,
             "#c51b7d"
            ],
            [
             0.2,
             "#de77ae"
            ],
            [
             0.3,
             "#f1b6da"
            ],
            [
             0.4,
             "#fde0ef"
            ],
            [
             0.5,
             "#f7f7f7"
            ],
            [
             0.6,
             "#e6f5d0"
            ],
            [
             0.7,
             "#b8e186"
            ],
            [
             0.8,
             "#7fbc41"
            ],
            [
             0.9,
             "#4d9221"
            ],
            [
             1,
             "#276419"
            ]
           ],
           "sequential": [
            [
             0,
             "#0d0887"
            ],
            [
             0.1111111111111111,
             "#46039f"
            ],
            [
             0.2222222222222222,
             "#7201a8"
            ],
            [
             0.3333333333333333,
             "#9c179e"
            ],
            [
             0.4444444444444444,
             "#bd3786"
            ],
            [
             0.5555555555555556,
             "#d8576b"
            ],
            [
             0.6666666666666666,
             "#ed7953"
            ],
            [
             0.7777777777777778,
             "#fb9f3a"
            ],
            [
             0.8888888888888888,
             "#fdca26"
            ],
            [
             1,
             "#f0f921"
            ]
           ],
           "sequentialminus": [
            [
             0,
             "#0d0887"
            ],
            [
             0.1111111111111111,
             "#46039f"
            ],
            [
             0.2222222222222222,
             "#7201a8"
            ],
            [
             0.3333333333333333,
             "#9c179e"
            ],
            [
             0.4444444444444444,
             "#bd3786"
            ],
            [
             0.5555555555555556,
             "#d8576b"
            ],
            [
             0.6666666666666666,
             "#ed7953"
            ],
            [
             0.7777777777777778,
             "#fb9f3a"
            ],
            [
             0.8888888888888888,
             "#fdca26"
            ],
            [
             1,
             "#f0f921"
            ]
           ]
          },
          "colorway": [
           "#636efa",
           "#EF553B",
           "#00cc96",
           "#ab63fa",
           "#FFA15A",
           "#19d3f3",
           "#FF6692",
           "#B6E880",
           "#FF97FF",
           "#FECB52"
          ],
          "font": {
           "color": "#2a3f5f"
          },
          "geo": {
           "bgcolor": "white",
           "lakecolor": "white",
           "landcolor": "#E5ECF6",
           "showlakes": true,
           "showland": true,
           "subunitcolor": "white"
          },
          "hoverlabel": {
           "align": "left"
          },
          "hovermode": "closest",
          "mapbox": {
           "style": "light"
          },
          "paper_bgcolor": "white",
          "plot_bgcolor": "#E5ECF6",
          "polar": {
           "angularaxis": {
            "gridcolor": "white",
            "linecolor": "white",
            "ticks": ""
           },
           "bgcolor": "#E5ECF6",
           "radialaxis": {
            "gridcolor": "white",
            "linecolor": "white",
            "ticks": ""
           }
          },
          "scene": {
           "xaxis": {
            "backgroundcolor": "#E5ECF6",
            "gridcolor": "white",
            "gridwidth": 2,
            "linecolor": "white",
            "showbackground": true,
            "ticks": "",
            "zerolinecolor": "white"
           },
           "yaxis": {
            "backgroundcolor": "#E5ECF6",
            "gridcolor": "white",
            "gridwidth": 2,
            "linecolor": "white",
            "showbackground": true,
            "ticks": "",
            "zerolinecolor": "white"
           },
           "zaxis": {
            "backgroundcolor": "#E5ECF6",
            "gridcolor": "white",
            "gridwidth": 2,
            "linecolor": "white",
            "showbackground": true,
            "ticks": "",
            "zerolinecolor": "white"
           }
          },
          "shapedefaults": {
           "line": {
            "color": "#2a3f5f"
           }
          },
          "ternary": {
           "aaxis": {
            "gridcolor": "white",
            "linecolor": "white",
            "ticks": ""
           },
           "baxis": {
            "gridcolor": "white",
            "linecolor": "white",
            "ticks": ""
           },
           "bgcolor": "#E5ECF6",
           "caxis": {
            "gridcolor": "white",
            "linecolor": "white",
            "ticks": ""
           }
          },
          "title": {
           "x": 0.05
          },
          "xaxis": {
           "automargin": true,
           "gridcolor": "white",
           "linecolor": "white",
           "ticks": "",
           "title": {
            "standoff": 15
           },
           "zerolinecolor": "white",
           "zerolinewidth": 2
          },
          "yaxis": {
           "automargin": true,
           "gridcolor": "white",
           "linecolor": "white",
           "ticks": "",
           "title": {
            "standoff": 15
           },
           "zerolinecolor": "white",
           "zerolinewidth": 2
          }
         }
        },
        "xaxis": {
         "anchor": "y",
         "domain": [
          0,
          0.49
         ],
         "title": {
          "text": "Device(ID)"
         }
        },
        "xaxis2": {
         "anchor": "y2",
         "domain": [
          0.51,
          1
         ],
         "matches": "x",
         "title": {
          "text": "Device(ID)"
         }
        },
        "yaxis": {
         "anchor": "x",
         "domain": [
          0,
          1
         ],
         "title": {
          "text": "PPE"
         }
        },
        "yaxis2": {
         "anchor": "x2",
         "domain": [
          0,
          1
         ],
         "matches": "y",
         "showticklabels": false
        }
       }
      }
     },
     "metadata": {},
     "output_type": "display_data"
    }
   ],
   "source": [
    "import plotly.express as px\n",
    "\n",
    "fig = px.bar(spec, x=\"Device(ID)\", y=\"PPE\", color=\"Load(mode)\", text_auto=True, facet_col=\"Workload(name)\")\n",
    "#fig.update_traces(textinfo=\"label+percent root\")\n",
    "fig.show()"
   ]
  },
  {
   "cell_type": "markdown",
   "metadata": {},
   "source": [
    "## Workload distribution per device on floating-point"
   ]
  },
  {
   "cell_type": "code",
   "execution_count": 8,
   "metadata": {},
   "outputs": [
    {
     "data": {
      "application/vnd.plotly.v1+json": {
       "config": {
        "plotlyServerURL": "https://plot.ly"
       },
       "data": [
        {
         "alignmentgroup": "True",
         "hovertemplate": "Load(mode)=100%<br>Workload(name)=Light-medium<br>Device(ID)=%{x}<br>PPEfp=%{y}<extra></extra>",
         "legendgroup": "100%",
         "marker": {
          "color": "#636efa",
          "pattern": {
           "shape": ""
          }
         },
         "name": "100%",
         "offsetgroup": "100%",
         "orientation": "v",
         "showlegend": true,
         "textposition": "auto",
         "texttemplate": "%{y}",
         "type": "bar",
         "x": [
          "R6515",
          "R6525",
          "R7515",
          "R7525"
         ],
         "xaxis": "x",
         "y": [
          0.8274121166791324,
          0.8984315516978834,
          0.7015694067074901,
          1.0593966427984505
         ],
         "yaxis": "y"
        },
        {
         "alignmentgroup": "True",
         "hovertemplate": "Load(mode)=100%<br>Workload(name)=Heavy<br>Device(ID)=%{x}<br>PPEfp=%{y}<extra></extra>",
         "legendgroup": "100%",
         "marker": {
          "color": "#636efa",
          "pattern": {
           "shape": ""
          }
         },
         "name": "100%",
         "offsetgroup": "100%",
         "orientation": "v",
         "showlegend": false,
         "textposition": "auto",
         "texttemplate": "%{y}",
         "type": "bar",
         "x": [
          "R6515",
          "R6525",
          "R7515",
          "R7525"
         ],
         "xaxis": "x2",
         "y": [
          0.5516080777860882,
          0.5989442338927992,
          0.4677066154802779,
          0.7062506113665264
         ],
         "yaxis": "y2"
        },
        {
         "alignmentgroup": "True",
         "hovertemplate": "Load(mode)=50%<br>Workload(name)=Light-medium<br>Device(ID)=%{x}<br>PPEfp=%{y}<extra></extra>",
         "legendgroup": "50%",
         "marker": {
          "color": "#EF553B",
          "pattern": {
           "shape": ""
          }
         },
         "name": "50%",
         "offsetgroup": "50%",
         "orientation": "v",
         "showlegend": true,
         "textposition": "auto",
         "texttemplate": "%{y}",
         "type": "bar",
         "x": [
          "R6515",
          "R6525",
          "R7515",
          "R7525"
         ],
         "xaxis": "x",
         "y": [
          0.1487120028230075,
          0.16022739616902631,
          0.12352378368343639,
          0.21651772326515925
         ],
         "yaxis": "y"
        },
        {
         "alignmentgroup": "True",
         "hovertemplate": "Load(mode)=50%<br>Workload(name)=Heavy<br>Device(ID)=%{x}<br>PPEfp=%{y}<extra></extra>",
         "legendgroup": "50%",
         "marker": {
          "color": "#EF553B",
          "pattern": {
           "shape": ""
          }
         },
         "name": "50%",
         "offsetgroup": "50%",
         "orientation": "v",
         "showlegend": false,
         "textposition": "auto",
         "texttemplate": "%{y}",
         "type": "bar",
         "x": [
          "R6515",
          "R6525",
          "R7515",
          "R7525"
         ],
         "xaxis": "x2",
         "y": [
          0.09463520001710919,
          0.10196263674226495,
          0.07860563597866288,
          0.13778520774650574
         ],
         "yaxis": "y2"
        },
        {
         "alignmentgroup": "True",
         "hovertemplate": "Load(mode)=10%<br>Workload(name)=Light-medium<br>Device(ID)=%{x}<br>PPEfp=%{y}<extra></extra>",
         "legendgroup": "10%",
         "marker": {
          "color": "#00cc96",
          "pattern": {
           "shape": ""
          }
         },
         "name": "10%",
         "offsetgroup": "10%",
         "orientation": "v",
         "showlegend": true,
         "textposition": "auto",
         "texttemplate": "%{y}",
         "type": "bar",
         "x": [
          "R6515",
          "R6525",
          "R7515",
          "R7525"
         ],
         "xaxis": "x",
         "y": [
          0.05098513653646733,
          0.05659834361909634,
          0.03996950303814431,
          0.07369452496631691
         ],
         "yaxis": "y"
        },
        {
         "alignmentgroup": "True",
         "hovertemplate": "Load(mode)=10%<br>Workload(name)=Heavy<br>Device(ID)=%{x}<br>PPEfp=%{y}<extra></extra>",
         "legendgroup": "10%",
         "marker": {
          "color": "#00cc96",
          "pattern": {
           "shape": ""
          }
         },
         "name": "10%",
         "offsetgroup": "10%",
         "orientation": "v",
         "showlegend": false,
         "textposition": "auto",
         "texttemplate": "%{y}",
         "type": "bar",
         "x": [
          "R6515",
          "R6525",
          "R7515",
          "R7525"
         ],
         "xaxis": "x2",
         "y": [
          0.076477704804701,
          0.08489615808911698,
          0.059954947149540805,
          0.11054291576078636
         ],
         "yaxis": "y2"
        },
        {
         "alignmentgroup": "True",
         "hovertemplate": "Load(mode)=Idle<br>Workload(name)=Light-medium<br>Device(ID)=%{x}<br>PPEfp=%{y}<extra></extra>",
         "legendgroup": "Idle",
         "marker": {
          "color": "#ab63fa",
          "pattern": {
           "shape": ""
          }
         },
         "name": "Idle",
         "offsetgroup": "Idle",
         "orientation": "v",
         "showlegend": true,
         "textposition": "auto",
         "texttemplate": "%{y}",
         "type": "bar",
         "x": [
          "R6515",
          "R6525",
          "R7515",
          "R7525"
         ],
         "xaxis": "x",
         "y": [
          0.008534644871980327,
          0.012569683627454462,
          0.006152204836415363,
          0.0160816108339273
         ],
         "yaxis": "y"
        },
        {
         "alignmentgroup": "True",
         "hovertemplate": "Load(mode)=Idle<br>Workload(name)=Heavy<br>Device(ID)=%{x}<br>PPEfp=%{y}<extra></extra>",
         "legendgroup": "Idle",
         "marker": {
          "color": "#ab63fa",
          "pattern": {
           "shape": ""
          }
         },
         "name": "Idle",
         "offsetgroup": "Idle",
         "orientation": "v",
         "showlegend": false,
         "textposition": "auto",
         "texttemplate": "%{y}",
         "type": "bar",
         "x": [
          "R6515",
          "R6525",
          "R7515",
          "R7525"
         ],
         "xaxis": "x2",
         "y": [
          0.02133558341369335,
          0.031424766977363516,
          0.015380512091038407,
          0.04020492259717117
         ],
         "yaxis": "y2"
        }
       ],
       "layout": {
        "annotations": [
         {
          "font": {},
          "showarrow": false,
          "text": "Workload(name)=Light-medium",
          "x": 0.245,
          "xanchor": "center",
          "xref": "paper",
          "y": 1,
          "yanchor": "bottom",
          "yref": "paper"
         },
         {
          "font": {},
          "showarrow": false,
          "text": "Workload(name)=Heavy",
          "x": 0.755,
          "xanchor": "center",
          "xref": "paper",
          "y": 1,
          "yanchor": "bottom",
          "yref": "paper"
         }
        ],
        "barmode": "relative",
        "legend": {
         "title": {
          "text": "Load(mode)"
         },
         "tracegroupgap": 0
        },
        "margin": {
         "t": 60
        },
        "template": {
         "data": {
          "bar": [
           {
            "error_x": {
             "color": "#2a3f5f"
            },
            "error_y": {
             "color": "#2a3f5f"
            },
            "marker": {
             "line": {
              "color": "#E5ECF6",
              "width": 0.5
             },
             "pattern": {
              "fillmode": "overlay",
              "size": 10,
              "solidity": 0.2
             }
            },
            "type": "bar"
           }
          ],
          "barpolar": [
           {
            "marker": {
             "line": {
              "color": "#E5ECF6",
              "width": 0.5
             },
             "pattern": {
              "fillmode": "overlay",
              "size": 10,
              "solidity": 0.2
             }
            },
            "type": "barpolar"
           }
          ],
          "carpet": [
           {
            "aaxis": {
             "endlinecolor": "#2a3f5f",
             "gridcolor": "white",
             "linecolor": "white",
             "minorgridcolor": "white",
             "startlinecolor": "#2a3f5f"
            },
            "baxis": {
             "endlinecolor": "#2a3f5f",
             "gridcolor": "white",
             "linecolor": "white",
             "minorgridcolor": "white",
             "startlinecolor": "#2a3f5f"
            },
            "type": "carpet"
           }
          ],
          "choropleth": [
           {
            "colorbar": {
             "outlinewidth": 0,
             "ticks": ""
            },
            "type": "choropleth"
           }
          ],
          "contour": [
           {
            "colorbar": {
             "outlinewidth": 0,
             "ticks": ""
            },
            "colorscale": [
             [
              0,
              "#0d0887"
             ],
             [
              0.1111111111111111,
              "#46039f"
             ],
             [
              0.2222222222222222,
              "#7201a8"
             ],
             [
              0.3333333333333333,
              "#9c179e"
             ],
             [
              0.4444444444444444,
              "#bd3786"
             ],
             [
              0.5555555555555556,
              "#d8576b"
             ],
             [
              0.6666666666666666,
              "#ed7953"
             ],
             [
              0.7777777777777778,
              "#fb9f3a"
             ],
             [
              0.8888888888888888,
              "#fdca26"
             ],
             [
              1,
              "#f0f921"
             ]
            ],
            "type": "contour"
           }
          ],
          "contourcarpet": [
           {
            "colorbar": {
             "outlinewidth": 0,
             "ticks": ""
            },
            "type": "contourcarpet"
           }
          ],
          "heatmap": [
           {
            "colorbar": {
             "outlinewidth": 0,
             "ticks": ""
            },
            "colorscale": [
             [
              0,
              "#0d0887"
             ],
             [
              0.1111111111111111,
              "#46039f"
             ],
             [
              0.2222222222222222,
              "#7201a8"
             ],
             [
              0.3333333333333333,
              "#9c179e"
             ],
             [
              0.4444444444444444,
              "#bd3786"
             ],
             [
              0.5555555555555556,
              "#d8576b"
             ],
             [
              0.6666666666666666,
              "#ed7953"
             ],
             [
              0.7777777777777778,
              "#fb9f3a"
             ],
             [
              0.8888888888888888,
              "#fdca26"
             ],
             [
              1,
              "#f0f921"
             ]
            ],
            "type": "heatmap"
           }
          ],
          "heatmapgl": [
           {
            "colorbar": {
             "outlinewidth": 0,
             "ticks": ""
            },
            "colorscale": [
             [
              0,
              "#0d0887"
             ],
             [
              0.1111111111111111,
              "#46039f"
             ],
             [
              0.2222222222222222,
              "#7201a8"
             ],
             [
              0.3333333333333333,
              "#9c179e"
             ],
             [
              0.4444444444444444,
              "#bd3786"
             ],
             [
              0.5555555555555556,
              "#d8576b"
             ],
             [
              0.6666666666666666,
              "#ed7953"
             ],
             [
              0.7777777777777778,
              "#fb9f3a"
             ],
             [
              0.8888888888888888,
              "#fdca26"
             ],
             [
              1,
              "#f0f921"
             ]
            ],
            "type": "heatmapgl"
           }
          ],
          "histogram": [
           {
            "marker": {
             "pattern": {
              "fillmode": "overlay",
              "size": 10,
              "solidity": 0.2
             }
            },
            "type": "histogram"
           }
          ],
          "histogram2d": [
           {
            "colorbar": {
             "outlinewidth": 0,
             "ticks": ""
            },
            "colorscale": [
             [
              0,
              "#0d0887"
             ],
             [
              0.1111111111111111,
              "#46039f"
             ],
             [
              0.2222222222222222,
              "#7201a8"
             ],
             [
              0.3333333333333333,
              "#9c179e"
             ],
             [
              0.4444444444444444,
              "#bd3786"
             ],
             [
              0.5555555555555556,
              "#d8576b"
             ],
             [
              0.6666666666666666,
              "#ed7953"
             ],
             [
              0.7777777777777778,
              "#fb9f3a"
             ],
             [
              0.8888888888888888,
              "#fdca26"
             ],
             [
              1,
              "#f0f921"
             ]
            ],
            "type": "histogram2d"
           }
          ],
          "histogram2dcontour": [
           {
            "colorbar": {
             "outlinewidth": 0,
             "ticks": ""
            },
            "colorscale": [
             [
              0,
              "#0d0887"
             ],
             [
              0.1111111111111111,
              "#46039f"
             ],
             [
              0.2222222222222222,
              "#7201a8"
             ],
             [
              0.3333333333333333,
              "#9c179e"
             ],
             [
              0.4444444444444444,
              "#bd3786"
             ],
             [
              0.5555555555555556,
              "#d8576b"
             ],
             [
              0.6666666666666666,
              "#ed7953"
             ],
             [
              0.7777777777777778,
              "#fb9f3a"
             ],
             [
              0.8888888888888888,
              "#fdca26"
             ],
             [
              1,
              "#f0f921"
             ]
            ],
            "type": "histogram2dcontour"
           }
          ],
          "mesh3d": [
           {
            "colorbar": {
             "outlinewidth": 0,
             "ticks": ""
            },
            "type": "mesh3d"
           }
          ],
          "parcoords": [
           {
            "line": {
             "colorbar": {
              "outlinewidth": 0,
              "ticks": ""
             }
            },
            "type": "parcoords"
           }
          ],
          "pie": [
           {
            "automargin": true,
            "type": "pie"
           }
          ],
          "scatter": [
           {
            "fillpattern": {
             "fillmode": "overlay",
             "size": 10,
             "solidity": 0.2
            },
            "type": "scatter"
           }
          ],
          "scatter3d": [
           {
            "line": {
             "colorbar": {
              "outlinewidth": 0,
              "ticks": ""
             }
            },
            "marker": {
             "colorbar": {
              "outlinewidth": 0,
              "ticks": ""
             }
            },
            "type": "scatter3d"
           }
          ],
          "scattercarpet": [
           {
            "marker": {
             "colorbar": {
              "outlinewidth": 0,
              "ticks": ""
             }
            },
            "type": "scattercarpet"
           }
          ],
          "scattergeo": [
           {
            "marker": {
             "colorbar": {
              "outlinewidth": 0,
              "ticks": ""
             }
            },
            "type": "scattergeo"
           }
          ],
          "scattergl": [
           {
            "marker": {
             "colorbar": {
              "outlinewidth": 0,
              "ticks": ""
             }
            },
            "type": "scattergl"
           }
          ],
          "scattermapbox": [
           {
            "marker": {
             "colorbar": {
              "outlinewidth": 0,
              "ticks": ""
             }
            },
            "type": "scattermapbox"
           }
          ],
          "scatterpolar": [
           {
            "marker": {
             "colorbar": {
              "outlinewidth": 0,
              "ticks": ""
             }
            },
            "type": "scatterpolar"
           }
          ],
          "scatterpolargl": [
           {
            "marker": {
             "colorbar": {
              "outlinewidth": 0,
              "ticks": ""
             }
            },
            "type": "scatterpolargl"
           }
          ],
          "scatterternary": [
           {
            "marker": {
             "colorbar": {
              "outlinewidth": 0,
              "ticks": ""
             }
            },
            "type": "scatterternary"
           }
          ],
          "surface": [
           {
            "colorbar": {
             "outlinewidth": 0,
             "ticks": ""
            },
            "colorscale": [
             [
              0,
              "#0d0887"
             ],
             [
              0.1111111111111111,
              "#46039f"
             ],
             [
              0.2222222222222222,
              "#7201a8"
             ],
             [
              0.3333333333333333,
              "#9c179e"
             ],
             [
              0.4444444444444444,
              "#bd3786"
             ],
             [
              0.5555555555555556,
              "#d8576b"
             ],
             [
              0.6666666666666666,
              "#ed7953"
             ],
             [
              0.7777777777777778,
              "#fb9f3a"
             ],
             [
              0.8888888888888888,
              "#fdca26"
             ],
             [
              1,
              "#f0f921"
             ]
            ],
            "type": "surface"
           }
          ],
          "table": [
           {
            "cells": {
             "fill": {
              "color": "#EBF0F8"
             },
             "line": {
              "color": "white"
             }
            },
            "header": {
             "fill": {
              "color": "#C8D4E3"
             },
             "line": {
              "color": "white"
             }
            },
            "type": "table"
           }
          ]
         },
         "layout": {
          "annotationdefaults": {
           "arrowcolor": "#2a3f5f",
           "arrowhead": 0,
           "arrowwidth": 1
          },
          "autotypenumbers": "strict",
          "coloraxis": {
           "colorbar": {
            "outlinewidth": 0,
            "ticks": ""
           }
          },
          "colorscale": {
           "diverging": [
            [
             0,
             "#8e0152"
            ],
            [
             0.1,
             "#c51b7d"
            ],
            [
             0.2,
             "#de77ae"
            ],
            [
             0.3,
             "#f1b6da"
            ],
            [
             0.4,
             "#fde0ef"
            ],
            [
             0.5,
             "#f7f7f7"
            ],
            [
             0.6,
             "#e6f5d0"
            ],
            [
             0.7,
             "#b8e186"
            ],
            [
             0.8,
             "#7fbc41"
            ],
            [
             0.9,
             "#4d9221"
            ],
            [
             1,
             "#276419"
            ]
           ],
           "sequential": [
            [
             0,
             "#0d0887"
            ],
            [
             0.1111111111111111,
             "#46039f"
            ],
            [
             0.2222222222222222,
             "#7201a8"
            ],
            [
             0.3333333333333333,
             "#9c179e"
            ],
            [
             0.4444444444444444,
             "#bd3786"
            ],
            [
             0.5555555555555556,
             "#d8576b"
            ],
            [
             0.6666666666666666,
             "#ed7953"
            ],
            [
             0.7777777777777778,
             "#fb9f3a"
            ],
            [
             0.8888888888888888,
             "#fdca26"
            ],
            [
             1,
             "#f0f921"
            ]
           ],
           "sequentialminus": [
            [
             0,
             "#0d0887"
            ],
            [
             0.1111111111111111,
             "#46039f"
            ],
            [
             0.2222222222222222,
             "#7201a8"
            ],
            [
             0.3333333333333333,
             "#9c179e"
            ],
            [
             0.4444444444444444,
             "#bd3786"
            ],
            [
             0.5555555555555556,
             "#d8576b"
            ],
            [
             0.6666666666666666,
             "#ed7953"
            ],
            [
             0.7777777777777778,
             "#fb9f3a"
            ],
            [
             0.8888888888888888,
             "#fdca26"
            ],
            [
             1,
             "#f0f921"
            ]
           ]
          },
          "colorway": [
           "#636efa",
           "#EF553B",
           "#00cc96",
           "#ab63fa",
           "#FFA15A",
           "#19d3f3",
           "#FF6692",
           "#B6E880",
           "#FF97FF",
           "#FECB52"
          ],
          "font": {
           "color": "#2a3f5f"
          },
          "geo": {
           "bgcolor": "white",
           "lakecolor": "white",
           "landcolor": "#E5ECF6",
           "showlakes": true,
           "showland": true,
           "subunitcolor": "white"
          },
          "hoverlabel": {
           "align": "left"
          },
          "hovermode": "closest",
          "mapbox": {
           "style": "light"
          },
          "paper_bgcolor": "white",
          "plot_bgcolor": "#E5ECF6",
          "polar": {
           "angularaxis": {
            "gridcolor": "white",
            "linecolor": "white",
            "ticks": ""
           },
           "bgcolor": "#E5ECF6",
           "radialaxis": {
            "gridcolor": "white",
            "linecolor": "white",
            "ticks": ""
           }
          },
          "scene": {
           "xaxis": {
            "backgroundcolor": "#E5ECF6",
            "gridcolor": "white",
            "gridwidth": 2,
            "linecolor": "white",
            "showbackground": true,
            "ticks": "",
            "zerolinecolor": "white"
           },
           "yaxis": {
            "backgroundcolor": "#E5ECF6",
            "gridcolor": "white",
            "gridwidth": 2,
            "linecolor": "white",
            "showbackground": true,
            "ticks": "",
            "zerolinecolor": "white"
           },
           "zaxis": {
            "backgroundcolor": "#E5ECF6",
            "gridcolor": "white",
            "gridwidth": 2,
            "linecolor": "white",
            "showbackground": true,
            "ticks": "",
            "zerolinecolor": "white"
           }
          },
          "shapedefaults": {
           "line": {
            "color": "#2a3f5f"
           }
          },
          "ternary": {
           "aaxis": {
            "gridcolor": "white",
            "linecolor": "white",
            "ticks": ""
           },
           "baxis": {
            "gridcolor": "white",
            "linecolor": "white",
            "ticks": ""
           },
           "bgcolor": "#E5ECF6",
           "caxis": {
            "gridcolor": "white",
            "linecolor": "white",
            "ticks": ""
           }
          },
          "title": {
           "x": 0.05
          },
          "xaxis": {
           "automargin": true,
           "gridcolor": "white",
           "linecolor": "white",
           "ticks": "",
           "title": {
            "standoff": 15
           },
           "zerolinecolor": "white",
           "zerolinewidth": 2
          },
          "yaxis": {
           "automargin": true,
           "gridcolor": "white",
           "linecolor": "white",
           "ticks": "",
           "title": {
            "standoff": 15
           },
           "zerolinecolor": "white",
           "zerolinewidth": 2
          }
         }
        },
        "xaxis": {
         "anchor": "y",
         "domain": [
          0,
          0.49
         ],
         "title": {
          "text": "Device(ID)"
         }
        },
        "xaxis2": {
         "anchor": "y2",
         "domain": [
          0.51,
          1
         ],
         "matches": "x",
         "title": {
          "text": "Device(ID)"
         }
        },
        "yaxis": {
         "anchor": "x",
         "domain": [
          0,
          1
         ],
         "title": {
          "text": "PPEfp"
         }
        },
        "yaxis2": {
         "anchor": "x2",
         "domain": [
          0,
          1
         ],
         "matches": "y",
         "showticklabels": false
        }
       }
      }
     },
     "metadata": {},
     "output_type": "display_data"
    }
   ],
   "source": [
    "import plotly.express as px\n",
    "\n",
    "fig = px.bar(spec, x=\"Device(ID)\", y=\"PPEfp\", color=\"Load(mode)\", text_auto=True, facet_col=\"Workload(name)\")\n",
    "#fig.update_traces(textinfo=\"label+percent root\")\n",
    "fig.show()"
   ]
  },
  {
   "cell_type": "markdown",
   "metadata": {},
   "source": [
    "The following table is for the same model, but with AMD EPYC 7702 2.00GHz"
   ]
  },
  {
   "cell_type": "code",
   "execution_count": 12,
   "metadata": {},
   "outputs": [
    {
     "data": {
      "text/html": [
       "<div>\n",
       "<style scoped>\n",
       "    .dataframe tbody tr th:only-of-type {\n",
       "        vertical-align: middle;\n",
       "    }\n",
       "\n",
       "    .dataframe tbody tr th {\n",
       "        vertical-align: top;\n",
       "    }\n",
       "\n",
       "    .dataframe thead th {\n",
       "        text-align: right;\n",
       "    }\n",
       "</style>\n",
       "<table border=\"1\" class=\"dataframe\">\n",
       "  <thead>\n",
       "    <tr style=\"text-align: right;\">\n",
       "      <th></th>\n",
       "      <th>Device(ID)</th>\n",
       "      <th>Ops</th>\n",
       "      <th>Idle Watts</th>\n",
       "      <th>100% Watts</th>\n",
       "    </tr>\n",
       "  </thead>\n",
       "  <tbody>\n",
       "    <tr>\n",
       "      <th>0</th>\n",
       "      <td>R6515</td>\n",
       "      <td>6.124.305</td>\n",
       "      <td>54.5</td>\n",
       "      <td>231</td>\n",
       "    </tr>\n",
       "    <tr>\n",
       "      <th>1</th>\n",
       "      <td>R6525</td>\n",
       "      <td>11.115.782</td>\n",
       "      <td>81.6</td>\n",
       "      <td>404</td>\n",
       "    </tr>\n",
       "    <tr>\n",
       "      <th>2</th>\n",
       "      <td>R7515</td>\n",
       "      <td>5.676.534</td>\n",
       "      <td>99.5</td>\n",
       "      <td>246</td>\n",
       "    </tr>\n",
       "    <tr>\n",
       "      <th>3</th>\n",
       "      <td>R7525</td>\n",
       "      <td>11.118.115</td>\n",
       "      <td>72.3</td>\n",
       "      <td>393</td>\n",
       "    </tr>\n",
       "  </tbody>\n",
       "</table>\n",
       "</div>"
      ],
      "text/plain": [
       "  Device(ID)         Ops  Idle Watts   100% Watts\n",
       "0      R6515   6.124.305        54.5          231\n",
       "1      R6525  11.115.782        81.6          404\n",
       "2      R7515   5.676.534        99.5          246\n",
       "3      R7525  11.118.115        72.3          393"
      ]
     },
     "execution_count": 12,
     "metadata": {},
     "output_type": "execute_result"
    }
   ],
   "source": [
    "specssj = pd.read_csv(\"specssj2008.csv\")\n",
    "specssj\n"
   ]
  },
  {
   "cell_type": "code",
   "execution_count": null,
   "metadata": {},
   "outputs": [],
   "source": []
  }
 ],
 "metadata": {
  "kernelspec": {
   "display_name": ".venv",
   "language": "python",
   "name": "python3"
  },
  "language_info": {
   "codemirror_mode": {
    "name": "ipython",
    "version": 3
   },
   "file_extension": ".py",
   "mimetype": "text/x-python",
   "name": "python",
   "nbconvert_exporter": "python",
   "pygments_lexer": "ipython3",
   "version": "3.11.2"
  },
  "orig_nbformat": 4
 },
 "nbformat": 4,
 "nbformat_minor": 2
}
