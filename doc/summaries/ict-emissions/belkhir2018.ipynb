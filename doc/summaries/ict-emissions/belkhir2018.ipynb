{
 "cells": [
  {
   "attachments": {},
   "cell_type": "markdown",
   "metadata": {},
   "source": [
    "# Exploring data of belkhirAssessingICTGlobal2018"
   ]
  },
  {
   "cell_type": "code",
   "execution_count": 1,
   "metadata": {
    "tags": [
     "remove-input"
    ]
   },
   "outputs": [],
   "source": [
    "%matplotlib ipympl\n",
    "import pandas as pd"
   ]
  },
  {
   "attachments": {},
   "cell_type": "markdown",
   "metadata": {},
   "source": [
    "In {cite}`belkhirAssessingICTGlobal2018` table 9 we find data regarding equipment lifetime and emissions estimates for production and usage per year. The emission numbers are in kg CO<sub>2</sub>eq. The table below excludes the lifecycle annual footprint from the original table. This can be calculated easily: $f_{min} = u_{min} + p_{min}*l_{max}$ and $f_{max} = u_{max} + p_{max}*l_{min}$.\n",
    "\n",
    "It must be said that *min* and *max* are a bit of a misnomer here. We will use optimistic and pessimistic."
   ]
  },
  {
   "cell_type": "code",
   "execution_count": 2,
   "metadata": {
    "tags": [
     "remove-input"
    ]
   },
   "outputs": [
    {
     "data": {
      "text/html": [
       "<div>\n",
       "<style scoped>\n",
       "    .dataframe tbody tr th:only-of-type {\n",
       "        vertical-align: middle;\n",
       "    }\n",
       "\n",
       "    .dataframe tbody tr th {\n",
       "        vertical-align: top;\n",
       "    }\n",
       "\n",
       "    .dataframe thead th {\n",
       "        text-align: right;\n",
       "    }\n",
       "</style>\n",
       "<table border=\"1\" class=\"dataframe\">\n",
       "  <thead>\n",
       "    <tr style=\"text-align: right;\">\n",
       "      <th></th>\n",
       "      <th>equipment</th>\n",
       "      <th>useful life min</th>\n",
       "      <th>useful life max</th>\n",
       "      <th>prod E min</th>\n",
       "      <th>prod E max</th>\n",
       "      <th>yearly use E min</th>\n",
       "      <th>yearly use E max</th>\n",
       "    </tr>\n",
       "  </thead>\n",
       "  <tbody>\n",
       "    <tr>\n",
       "      <th>0</th>\n",
       "      <td>Home desktop</td>\n",
       "      <td>5</td>\n",
       "      <td>7</td>\n",
       "      <td>218</td>\n",
       "      <td>628</td>\n",
       "      <td>93.0</td>\n",
       "      <td>116.00</td>\n",
       "    </tr>\n",
       "    <tr>\n",
       "      <th>1</th>\n",
       "      <td>Office desktop</td>\n",
       "      <td>5</td>\n",
       "      <td>7</td>\n",
       "      <td>218</td>\n",
       "      <td>628</td>\n",
       "      <td>69.0</td>\n",
       "      <td>75.00</td>\n",
       "    </tr>\n",
       "    <tr>\n",
       "      <th>2</th>\n",
       "      <td>Home notebook</td>\n",
       "      <td>5</td>\n",
       "      <td>7</td>\n",
       "      <td>281</td>\n",
       "      <td>468</td>\n",
       "      <td>27.0</td>\n",
       "      <td>35.00</td>\n",
       "    </tr>\n",
       "    <tr>\n",
       "      <th>3</th>\n",
       "      <td>Office notebook</td>\n",
       "      <td>5</td>\n",
       "      <td>7</td>\n",
       "      <td>281</td>\n",
       "      <td>468</td>\n",
       "      <td>20.0</td>\n",
       "      <td>23.00</td>\n",
       "    </tr>\n",
       "    <tr>\n",
       "      <th>4</th>\n",
       "      <td>CRT display</td>\n",
       "      <td>5</td>\n",
       "      <td>7</td>\n",
       "      <td>200</td>\n",
       "      <td>200</td>\n",
       "      <td>51.0</td>\n",
       "      <td>95.00</td>\n",
       "    </tr>\n",
       "    <tr>\n",
       "      <th>5</th>\n",
       "      <td>LCD display</td>\n",
       "      <td>5</td>\n",
       "      <td>7</td>\n",
       "      <td>95</td>\n",
       "      <td>95</td>\n",
       "      <td>23.0</td>\n",
       "      <td>43.00</td>\n",
       "    </tr>\n",
       "    <tr>\n",
       "      <th>6</th>\n",
       "      <td>Tablet</td>\n",
       "      <td>3</td>\n",
       "      <td>8</td>\n",
       "      <td>80</td>\n",
       "      <td>116</td>\n",
       "      <td>4.5</td>\n",
       "      <td>5.25</td>\n",
       "    </tr>\n",
       "    <tr>\n",
       "      <th>7</th>\n",
       "      <td>Smart phones</td>\n",
       "      <td>2</td>\n",
       "      <td>2</td>\n",
       "      <td>40</td>\n",
       "      <td>80</td>\n",
       "      <td>4.5</td>\n",
       "      <td>5.25</td>\n",
       "    </tr>\n",
       "    <tr>\n",
       "      <th>8</th>\n",
       "      <td>Datacenter server</td>\n",
       "      <td>3</td>\n",
       "      <td>5</td>\n",
       "      <td>328</td>\n",
       "      <td>328</td>\n",
       "      <td>1314.0</td>\n",
       "      <td>3743.00</td>\n",
       "    </tr>\n",
       "  </tbody>\n",
       "</table>\n",
       "</div>"
      ],
      "text/plain": [
       "           equipment  useful life min  useful life max  prod E min   \n",
       "0       Home desktop                5                7         218  \\\n",
       "1     Office desktop                5                7         218   \n",
       "2      Home notebook                5                7         281   \n",
       "3    Office notebook                5                7         281   \n",
       "4        CRT display                5                7         200   \n",
       "5        LCD display                5                7          95   \n",
       "6             Tablet                3                8          80   \n",
       "7       Smart phones                2                2          40   \n",
       "8  Datacenter server                3                5         328   \n",
       "\n",
       "   prod E max  yearly use E min  yearly use E max  \n",
       "0         628              93.0            116.00  \n",
       "1         628              69.0             75.00  \n",
       "2         468              27.0             35.00  \n",
       "3         468              20.0             23.00  \n",
       "4         200              51.0             95.00  \n",
       "5          95              23.0             43.00  \n",
       "6         116               4.5              5.25  \n",
       "7          80               4.5              5.25  \n",
       "8         328            1314.0           3743.00  "
      ]
     },
     "execution_count": 2,
     "metadata": {},
     "output_type": "execute_result"
    }
   ],
   "source": [
    "eqem = pd.read_csv(\"belkhirAssessingICTGlobal2018/table9.csv\")\n",
    "eqem"
   ]
  },
  {
   "attachments": {},
   "cell_type": "markdown",
   "metadata": {},
   "source": [
    "Using the formulas above we compute the yearly production emissions and total footprint:"
   ]
  },
  {
   "cell_type": "code",
   "execution_count": 3,
   "metadata": {
    "tags": [
     "remove-input"
    ]
   },
   "outputs": [
    {
     "data": {
      "text/html": [
       "<div>\n",
       "<style scoped>\n",
       "    .dataframe tbody tr th:only-of-type {\n",
       "        vertical-align: middle;\n",
       "    }\n",
       "\n",
       "    .dataframe tbody tr th {\n",
       "        vertical-align: top;\n",
       "    }\n",
       "\n",
       "    .dataframe thead th {\n",
       "        text-align: right;\n",
       "    }\n",
       "</style>\n",
       "<table border=\"1\" class=\"dataframe\">\n",
       "  <thead>\n",
       "    <tr style=\"text-align: right;\">\n",
       "      <th></th>\n",
       "      <th>equipment</th>\n",
       "      <th>yearly total E opt</th>\n",
       "    </tr>\n",
       "  </thead>\n",
       "  <tbody>\n",
       "    <tr>\n",
       "      <th>0</th>\n",
       "      <td>Home desktop</td>\n",
       "      <td>124.142857</td>\n",
       "    </tr>\n",
       "    <tr>\n",
       "      <th>1</th>\n",
       "      <td>Office desktop</td>\n",
       "      <td>100.142857</td>\n",
       "    </tr>\n",
       "    <tr>\n",
       "      <th>2</th>\n",
       "      <td>Home notebook</td>\n",
       "      <td>67.142857</td>\n",
       "    </tr>\n",
       "    <tr>\n",
       "      <th>3</th>\n",
       "      <td>Office notebook</td>\n",
       "      <td>60.142857</td>\n",
       "    </tr>\n",
       "    <tr>\n",
       "      <th>4</th>\n",
       "      <td>CRT display</td>\n",
       "      <td>79.571429</td>\n",
       "    </tr>\n",
       "    <tr>\n",
       "      <th>5</th>\n",
       "      <td>LCD display</td>\n",
       "      <td>36.571429</td>\n",
       "    </tr>\n",
       "    <tr>\n",
       "      <th>6</th>\n",
       "      <td>Tablet</td>\n",
       "      <td>14.500000</td>\n",
       "    </tr>\n",
       "    <tr>\n",
       "      <th>7</th>\n",
       "      <td>Smart phones</td>\n",
       "      <td>24.500000</td>\n",
       "    </tr>\n",
       "    <tr>\n",
       "      <th>8</th>\n",
       "      <td>Datacenter server</td>\n",
       "      <td>1379.600000</td>\n",
       "    </tr>\n",
       "  </tbody>\n",
       "</table>\n",
       "</div>"
      ],
      "text/plain": [
       "           equipment  yearly total E opt\n",
       "0       Home desktop          124.142857\n",
       "1     Office desktop          100.142857\n",
       "2      Home notebook           67.142857\n",
       "3    Office notebook           60.142857\n",
       "4        CRT display           79.571429\n",
       "5        LCD display           36.571429\n",
       "6             Tablet           14.500000\n",
       "7       Smart phones           24.500000\n",
       "8  Datacenter server         1379.600000"
      ]
     },
     "execution_count": 3,
     "metadata": {},
     "output_type": "execute_result"
    }
   ],
   "source": [
    "eqem[\"yearly prod E opt\"] = eqem[\"prod E min\"]/eqem[\"useful life max\"]\n",
    "eqem[\"yearly total E opt\"] = eqem[\"yearly prod E opt\"]+eqem[\"yearly use E min\"]\n",
    "\n",
    "eqem[[\"equipment\",\"yearly total E opt\"]]"
   ]
  },
  {
   "attachments": {},
   "cell_type": "markdown",
   "metadata": {},
   "source": [
    "Take equipment quantity data of 2020 from {cite}`belkhirAssessingICTGlobal2018` table 10:"
   ]
  },
  {
   "cell_type": "code",
   "execution_count": 12,
   "metadata": {},
   "outputs": [
    {
     "data": {
      "text/html": [
       "<div>\n",
       "<style scoped>\n",
       "    .dataframe tbody tr th:only-of-type {\n",
       "        vertical-align: middle;\n",
       "    }\n",
       "\n",
       "    .dataframe tbody tr th {\n",
       "        vertical-align: top;\n",
       "    }\n",
       "\n",
       "    .dataframe thead th {\n",
       "        text-align: right;\n",
       "    }\n",
       "</style>\n",
       "<table border=\"1\" class=\"dataframe\">\n",
       "  <thead>\n",
       "    <tr style=\"text-align: right;\">\n",
       "      <th></th>\n",
       "      <th>Home desktop</th>\n",
       "      <th>Office desktop</th>\n",
       "      <th>Office notebook</th>\n",
       "      <th>Home notebook</th>\n",
       "      <th>CRT display</th>\n",
       "      <th>LCD display</th>\n",
       "      <th>Tablet</th>\n",
       "      <th>Smart phones</th>\n",
       "    </tr>\n",
       "    <tr>\n",
       "      <th>Year</th>\n",
       "      <th></th>\n",
       "      <th></th>\n",
       "      <th></th>\n",
       "      <th></th>\n",
       "      <th></th>\n",
       "      <th></th>\n",
       "      <th></th>\n",
       "      <th></th>\n",
       "    </tr>\n",
       "  </thead>\n",
       "  <tbody>\n",
       "    <tr>\n",
       "      <th>2007</th>\n",
       "      <td>276</td>\n",
       "      <td>414</td>\n",
       "      <td>130</td>\n",
       "      <td>195</td>\n",
       "      <td>459</td>\n",
       "      <td>594</td>\n",
       "      <td>NaN</td>\n",
       "      <td>200</td>\n",
       "    </tr>\n",
       "    <tr>\n",
       "      <th>2008</th>\n",
       "      <td>291</td>\n",
       "      <td>437</td>\n",
       "      <td>167</td>\n",
       "      <td>250</td>\n",
       "      <td>250</td>\n",
       "      <td>512</td>\n",
       "      <td>NaN</td>\n",
       "      <td>271</td>\n",
       "    </tr>\n",
       "    <tr>\n",
       "      <th>2009</th>\n",
       "      <td>301</td>\n",
       "      <td>451</td>\n",
       "      <td>207</td>\n",
       "      <td>311</td>\n",
       "      <td>233</td>\n",
       "      <td>631</td>\n",
       "      <td>NaN</td>\n",
       "      <td>342</td>\n",
       "    </tr>\n",
       "    <tr>\n",
       "      <th>2010</th>\n",
       "      <td>312</td>\n",
       "      <td>468</td>\n",
       "      <td>258</td>\n",
       "      <td>386</td>\n",
       "      <td>216</td>\n",
       "      <td>750</td>\n",
       "      <td>NaN</td>\n",
       "      <td>485</td>\n",
       "    </tr>\n",
       "    <tr>\n",
       "      <th>2011</th>\n",
       "      <td>315</td>\n",
       "      <td>472</td>\n",
       "      <td>310</td>\n",
       "      <td>464</td>\n",
       "      <td>199</td>\n",
       "      <td>870</td>\n",
       "      <td>NaN</td>\n",
       "      <td>771</td>\n",
       "    </tr>\n",
       "    <tr>\n",
       "      <th>2012</th>\n",
       "      <td>305</td>\n",
       "      <td>458</td>\n",
       "      <td>359</td>\n",
       "      <td>538</td>\n",
       "      <td>168</td>\n",
       "      <td>1482</td>\n",
       "      <td>NaN</td>\n",
       "      <td>1136</td>\n",
       "    </tr>\n",
       "    <tr>\n",
       "      <th>2013</th>\n",
       "      <td>308</td>\n",
       "      <td>462</td>\n",
       "      <td>376</td>\n",
       "      <td>564</td>\n",
       "      <td>166</td>\n",
       "      <td>1108</td>\n",
       "      <td>660.0</td>\n",
       "      <td>1580</td>\n",
       "    </tr>\n",
       "    <tr>\n",
       "      <th>2014</th>\n",
       "      <td>307</td>\n",
       "      <td>460</td>\n",
       "      <td>391</td>\n",
       "      <td>586</td>\n",
       "      <td>149</td>\n",
       "      <td>1227</td>\n",
       "      <td>860.0</td>\n",
       "      <td>1833</td>\n",
       "    </tr>\n",
       "    <tr>\n",
       "      <th>2015</th>\n",
       "      <td>300</td>\n",
       "      <td>449</td>\n",
       "      <td>397</td>\n",
       "      <td>596</td>\n",
       "      <td>132</td>\n",
       "      <td>1346</td>\n",
       "      <td>1000.0</td>\n",
       "      <td>2246</td>\n",
       "    </tr>\n",
       "    <tr>\n",
       "      <th>2016</th>\n",
       "      <td>289</td>\n",
       "      <td>434</td>\n",
       "      <td>399</td>\n",
       "      <td>599</td>\n",
       "      <td>115</td>\n",
       "      <td>1465</td>\n",
       "      <td>1120.0</td>\n",
       "      <td>2594</td>\n",
       "    </tr>\n",
       "    <tr>\n",
       "      <th>2017</th>\n",
       "      <td>280</td>\n",
       "      <td>420</td>\n",
       "      <td>403</td>\n",
       "      <td>605</td>\n",
       "      <td>98</td>\n",
       "      <td>1584</td>\n",
       "      <td>1230.0</td>\n",
       "      <td>2807</td>\n",
       "    </tr>\n",
       "    <tr>\n",
       "      <th>2018</th>\n",
       "      <td>273</td>\n",
       "      <td>409</td>\n",
       "      <td>409</td>\n",
       "      <td>613</td>\n",
       "      <td>82</td>\n",
       "      <td>1704</td>\n",
       "      <td>1320.0</td>\n",
       "      <td>2981</td>\n",
       "    </tr>\n",
       "    <tr>\n",
       "      <th>2019</th>\n",
       "      <td>266</td>\n",
       "      <td>399</td>\n",
       "      <td>416</td>\n",
       "      <td>623</td>\n",
       "      <td>65</td>\n",
       "      <td>1823</td>\n",
       "      <td>1400.0</td>\n",
       "      <td>3409</td>\n",
       "    </tr>\n",
       "    <tr>\n",
       "      <th>2020</th>\n",
       "      <td>255</td>\n",
       "      <td>383</td>\n",
       "      <td>417</td>\n",
       "      <td>625</td>\n",
       "      <td>48</td>\n",
       "      <td>1942</td>\n",
       "      <td>1460.0</td>\n",
       "      <td>3619</td>\n",
       "    </tr>\n",
       "  </tbody>\n",
       "</table>\n",
       "</div>"
      ],
      "text/plain": [
       "      Home desktop  Office desktop  Office notebook  Home notebook   \n",
       "Year                                                                 \n",
       "2007           276             414              130            195  \\\n",
       "2008           291             437              167            250   \n",
       "2009           301             451              207            311   \n",
       "2010           312             468              258            386   \n",
       "2011           315             472              310            464   \n",
       "2012           305             458              359            538   \n",
       "2013           308             462              376            564   \n",
       "2014           307             460              391            586   \n",
       "2015           300             449              397            596   \n",
       "2016           289             434              399            599   \n",
       "2017           280             420              403            605   \n",
       "2018           273             409              409            613   \n",
       "2019           266             399              416            623   \n",
       "2020           255             383              417            625   \n",
       "\n",
       "      CRT display  LCD display  Tablet  Smart phones  \n",
       "Year                                                  \n",
       "2007          459          594     NaN           200  \n",
       "2008          250          512     NaN           271  \n",
       "2009          233          631     NaN           342  \n",
       "2010          216          750     NaN           485  \n",
       "2011          199          870     NaN           771  \n",
       "2012          168         1482     NaN          1136  \n",
       "2013          166         1108   660.0          1580  \n",
       "2014          149         1227   860.0          1833  \n",
       "2015          132         1346  1000.0          2246  \n",
       "2016          115         1465  1120.0          2594  \n",
       "2017           98         1584  1230.0          2807  \n",
       "2018           82         1704  1320.0          2981  \n",
       "2019           65         1823  1400.0          3409  \n",
       "2020           48         1942  1460.0          3619  "
      ]
     },
     "execution_count": 12,
     "metadata": {},
     "output_type": "execute_result"
    }
   ],
   "source": [
    "qtn = pd.read_csv(\"belkhirAssessingICTGlobal2018/table10.csv\", index_col=\"Year\")\n",
    "qtn2020 = qtn.loc[[2020]]\n",
    "qtn"
   ]
  },
  {
   "attachments": {},
   "cell_type": "markdown",
   "metadata": {},
   "source": [
    "Compute the optimistic total emissions for 2020 using the quantity and equipment energy data"
   ]
  },
  {
   "cell_type": "code",
   "execution_count": 5,
   "metadata": {},
   "outputs": [
    {
     "data": {
      "text/html": [
       "<div>\n",
       "<style scoped>\n",
       "    .dataframe tbody tr th:only-of-type {\n",
       "        vertical-align: middle;\n",
       "    }\n",
       "\n",
       "    .dataframe tbody tr th {\n",
       "        vertical-align: top;\n",
       "    }\n",
       "\n",
       "    .dataframe thead th {\n",
       "        text-align: right;\n",
       "    }\n",
       "</style>\n",
       "<table border=\"1\" class=\"dataframe\">\n",
       "  <thead>\n",
       "    <tr style=\"text-align: right;\">\n",
       "      <th></th>\n",
       "      <th>equipment</th>\n",
       "      <th>yearly total E opt</th>\n",
       "      <th>yearly use E min</th>\n",
       "      <th>yearly prod E opt</th>\n",
       "      <th>quantity</th>\n",
       "    </tr>\n",
       "  </thead>\n",
       "  <tbody>\n",
       "    <tr>\n",
       "      <th>0</th>\n",
       "      <td>Home desktop</td>\n",
       "      <td>124.142857</td>\n",
       "      <td>93.0</td>\n",
       "      <td>31.142857</td>\n",
       "      <td>255.0</td>\n",
       "    </tr>\n",
       "    <tr>\n",
       "      <th>1</th>\n",
       "      <td>Office desktop</td>\n",
       "      <td>100.142857</td>\n",
       "      <td>69.0</td>\n",
       "      <td>31.142857</td>\n",
       "      <td>383.0</td>\n",
       "    </tr>\n",
       "    <tr>\n",
       "      <th>2</th>\n",
       "      <td>Home notebook</td>\n",
       "      <td>67.142857</td>\n",
       "      <td>27.0</td>\n",
       "      <td>40.142857</td>\n",
       "      <td>625.0</td>\n",
       "    </tr>\n",
       "    <tr>\n",
       "      <th>3</th>\n",
       "      <td>Office notebook</td>\n",
       "      <td>60.142857</td>\n",
       "      <td>20.0</td>\n",
       "      <td>40.142857</td>\n",
       "      <td>417.0</td>\n",
       "    </tr>\n",
       "    <tr>\n",
       "      <th>4</th>\n",
       "      <td>CRT display</td>\n",
       "      <td>79.571429</td>\n",
       "      <td>51.0</td>\n",
       "      <td>28.571429</td>\n",
       "      <td>48.0</td>\n",
       "    </tr>\n",
       "    <tr>\n",
       "      <th>5</th>\n",
       "      <td>LCD display</td>\n",
       "      <td>36.571429</td>\n",
       "      <td>23.0</td>\n",
       "      <td>13.571429</td>\n",
       "      <td>1942.0</td>\n",
       "    </tr>\n",
       "    <tr>\n",
       "      <th>6</th>\n",
       "      <td>Tablet</td>\n",
       "      <td>14.500000</td>\n",
       "      <td>4.5</td>\n",
       "      <td>10.000000</td>\n",
       "      <td>1460.0</td>\n",
       "    </tr>\n",
       "    <tr>\n",
       "      <th>7</th>\n",
       "      <td>Smart phones</td>\n",
       "      <td>24.500000</td>\n",
       "      <td>4.5</td>\n",
       "      <td>20.000000</td>\n",
       "      <td>3619.0</td>\n",
       "    </tr>\n",
       "    <tr>\n",
       "      <th>8</th>\n",
       "      <td>Datacenter server</td>\n",
       "      <td>1379.600000</td>\n",
       "      <td>1314.0</td>\n",
       "      <td>65.600000</td>\n",
       "      <td>NaN</td>\n",
       "    </tr>\n",
       "  </tbody>\n",
       "</table>\n",
       "</div>"
      ],
      "text/plain": [
       "           equipment  yearly total E opt  yearly use E min  yearly prod E opt   \n",
       "0       Home desktop          124.142857              93.0          31.142857  \\\n",
       "1     Office desktop          100.142857              69.0          31.142857   \n",
       "2      Home notebook           67.142857              27.0          40.142857   \n",
       "3    Office notebook           60.142857              20.0          40.142857   \n",
       "4        CRT display           79.571429              51.0          28.571429   \n",
       "5        LCD display           36.571429              23.0          13.571429   \n",
       "6             Tablet           14.500000               4.5          10.000000   \n",
       "7       Smart phones           24.500000               4.5          20.000000   \n",
       "8  Datacenter server         1379.600000            1314.0          65.600000   \n",
       "\n",
       "   quantity  \n",
       "0     255.0  \n",
       "1     383.0  \n",
       "2     625.0  \n",
       "3     417.0  \n",
       "4      48.0  \n",
       "5    1942.0  \n",
       "6    1460.0  \n",
       "7    3619.0  \n",
       "8       NaN  "
      ]
     },
     "execution_count": 5,
     "metadata": {},
     "output_type": "execute_result"
    }
   ],
   "source": [
    "eqem2020 = eqem[[\"equipment\", \"yearly total E opt\", \"yearly use E min\", \"yearly prod E opt\"]].join(qtn2020.T.rename(columns={2020: \"quantity\"}),on=\"equipment\")\n",
    "eqem2020"
   ]
  },
  {
   "cell_type": "code",
   "execution_count": 6,
   "metadata": {},
   "outputs": [
    {
     "data": {
      "text/html": [
       "<div>\n",
       "<style scoped>\n",
       "    .dataframe tbody tr th:only-of-type {\n",
       "        vertical-align: middle;\n",
       "    }\n",
       "\n",
       "    .dataframe tbody tr th {\n",
       "        vertical-align: top;\n",
       "    }\n",
       "\n",
       "    .dataframe thead th {\n",
       "        text-align: right;\n",
       "    }\n",
       "</style>\n",
       "<table border=\"1\" class=\"dataframe\">\n",
       "  <thead>\n",
       "    <tr style=\"text-align: right;\">\n",
       "      <th></th>\n",
       "      <th>equipment</th>\n",
       "      <th>yearly total E opt</th>\n",
       "      <th>yearly use E min</th>\n",
       "      <th>yearly prod E opt</th>\n",
       "      <th>quantity</th>\n",
       "      <th>total opt</th>\n",
       "      <th>total opt %</th>\n",
       "      <th>use opt</th>\n",
       "      <th>use opt %</th>\n",
       "      <th>prod opt</th>\n",
       "      <th>prod opt %</th>\n",
       "    </tr>\n",
       "  </thead>\n",
       "  <tbody>\n",
       "    <tr>\n",
       "      <th>0</th>\n",
       "      <td>Home desktop</td>\n",
       "      <td>124.142857</td>\n",
       "      <td>93.0</td>\n",
       "      <td>31.142857</td>\n",
       "      <td>255.0</td>\n",
       "      <td>31.656429</td>\n",
       "      <td>0.098394</td>\n",
       "      <td>23.7150</td>\n",
       "      <td>0.163184</td>\n",
       "      <td>7.941429</td>\n",
       "      <td>0.045018</td>\n",
       "    </tr>\n",
       "    <tr>\n",
       "      <th>1</th>\n",
       "      <td>Office desktop</td>\n",
       "      <td>100.142857</td>\n",
       "      <td>69.0</td>\n",
       "      <td>31.142857</td>\n",
       "      <td>383.0</td>\n",
       "      <td>38.354714</td>\n",
       "      <td>0.119213</td>\n",
       "      <td>26.4270</td>\n",
       "      <td>0.181846</td>\n",
       "      <td>11.927714</td>\n",
       "      <td>0.067615</td>\n",
       "    </tr>\n",
       "    <tr>\n",
       "      <th>2</th>\n",
       "      <td>Home notebook</td>\n",
       "      <td>67.142857</td>\n",
       "      <td>27.0</td>\n",
       "      <td>40.142857</td>\n",
       "      <td>625.0</td>\n",
       "      <td>41.964286</td>\n",
       "      <td>0.130433</td>\n",
       "      <td>16.8750</td>\n",
       "      <td>0.116118</td>\n",
       "      <td>25.089286</td>\n",
       "      <td>0.142225</td>\n",
       "    </tr>\n",
       "    <tr>\n",
       "      <th>3</th>\n",
       "      <td>Office notebook</td>\n",
       "      <td>60.142857</td>\n",
       "      <td>20.0</td>\n",
       "      <td>40.142857</td>\n",
       "      <td>417.0</td>\n",
       "      <td>25.079571</td>\n",
       "      <td>0.077952</td>\n",
       "      <td>8.3400</td>\n",
       "      <td>0.057388</td>\n",
       "      <td>16.739571</td>\n",
       "      <td>0.094893</td>\n",
       "    </tr>\n",
       "    <tr>\n",
       "      <th>4</th>\n",
       "      <td>CRT display</td>\n",
       "      <td>79.571429</td>\n",
       "      <td>51.0</td>\n",
       "      <td>28.571429</td>\n",
       "      <td>48.0</td>\n",
       "      <td>3.819429</td>\n",
       "      <td>0.011871</td>\n",
       "      <td>2.4480</td>\n",
       "      <td>0.016845</td>\n",
       "      <td>1.371429</td>\n",
       "      <td>0.007774</td>\n",
       "    </tr>\n",
       "    <tr>\n",
       "      <th>5</th>\n",
       "      <td>LCD display</td>\n",
       "      <td>36.571429</td>\n",
       "      <td>23.0</td>\n",
       "      <td>13.571429</td>\n",
       "      <td>1942.0</td>\n",
       "      <td>71.021714</td>\n",
       "      <td>0.220748</td>\n",
       "      <td>44.6660</td>\n",
       "      <td>0.307349</td>\n",
       "      <td>26.355714</td>\n",
       "      <td>0.149404</td>\n",
       "    </tr>\n",
       "    <tr>\n",
       "      <th>6</th>\n",
       "      <td>Tablet</td>\n",
       "      <td>14.500000</td>\n",
       "      <td>4.5</td>\n",
       "      <td>10.000000</td>\n",
       "      <td>1460.0</td>\n",
       "      <td>21.170000</td>\n",
       "      <td>0.065800</td>\n",
       "      <td>6.5700</td>\n",
       "      <td>0.045209</td>\n",
       "      <td>14.600000</td>\n",
       "      <td>0.082764</td>\n",
       "    </tr>\n",
       "    <tr>\n",
       "      <th>7</th>\n",
       "      <td>Smart phones</td>\n",
       "      <td>24.500000</td>\n",
       "      <td>4.5</td>\n",
       "      <td>20.000000</td>\n",
       "      <td>3619.0</td>\n",
       "      <td>88.665500</td>\n",
       "      <td>0.275588</td>\n",
       "      <td>16.2855</td>\n",
       "      <td>0.112061</td>\n",
       "      <td>72.380000</td>\n",
       "      <td>0.410305</td>\n",
       "    </tr>\n",
       "    <tr>\n",
       "      <th>8</th>\n",
       "      <td>Datacenter server</td>\n",
       "      <td>1379.600000</td>\n",
       "      <td>1314.0</td>\n",
       "      <td>65.600000</td>\n",
       "      <td>NaN</td>\n",
       "      <td>NaN</td>\n",
       "      <td>NaN</td>\n",
       "      <td>NaN</td>\n",
       "      <td>NaN</td>\n",
       "      <td>NaN</td>\n",
       "      <td>NaN</td>\n",
       "    </tr>\n",
       "  </tbody>\n",
       "</table>\n",
       "</div>"
      ],
      "text/plain": [
       "           equipment  yearly total E opt  yearly use E min  yearly prod E opt   \n",
       "0       Home desktop          124.142857              93.0          31.142857  \\\n",
       "1     Office desktop          100.142857              69.0          31.142857   \n",
       "2      Home notebook           67.142857              27.0          40.142857   \n",
       "3    Office notebook           60.142857              20.0          40.142857   \n",
       "4        CRT display           79.571429              51.0          28.571429   \n",
       "5        LCD display           36.571429              23.0          13.571429   \n",
       "6             Tablet           14.500000               4.5          10.000000   \n",
       "7       Smart phones           24.500000               4.5          20.000000   \n",
       "8  Datacenter server         1379.600000            1314.0          65.600000   \n",
       "\n",
       "   quantity  total opt  total opt %  use opt  use opt %   prod opt  prod opt %  \n",
       "0     255.0  31.656429     0.098394  23.7150   0.163184   7.941429    0.045018  \n",
       "1     383.0  38.354714     0.119213  26.4270   0.181846  11.927714    0.067615  \n",
       "2     625.0  41.964286     0.130433  16.8750   0.116118  25.089286    0.142225  \n",
       "3     417.0  25.079571     0.077952   8.3400   0.057388  16.739571    0.094893  \n",
       "4      48.0   3.819429     0.011871   2.4480   0.016845   1.371429    0.007774  \n",
       "5    1942.0  71.021714     0.220748  44.6660   0.307349  26.355714    0.149404  \n",
       "6    1460.0  21.170000     0.065800   6.5700   0.045209  14.600000    0.082764  \n",
       "7    3619.0  88.665500     0.275588  16.2855   0.112061  72.380000    0.410305  \n",
       "8       NaN        NaN          NaN      NaN        NaN        NaN         NaN  "
      ]
     },
     "execution_count": 6,
     "metadata": {},
     "output_type": "execute_result"
    }
   ],
   "source": [
    "eqem2020[\"total opt\"] = eqem2020[\"quantity\"]*eqem2020[\"yearly total E opt\"]/1000\n",
    "eqem2020[\"total opt %\"] = eqem2020[\"total opt\"]/eqem2020[\"total opt\"].sum()\n",
    "\n",
    "eqem2020[\"use opt\"] = eqem2020[\"quantity\"]*eqem2020[\"yearly use E min\"]/1000\n",
    "eqem2020[\"use opt %\"] = eqem2020[\"use opt\"]/eqem2020[\"use opt\"].sum()\n",
    "\n",
    "eqem2020[\"prod opt\"] = eqem2020[\"quantity\"]*eqem2020[\"yearly prod E opt\"]/1000\n",
    "eqem2020[\"prod opt %\"] = eqem2020[\"prod opt\"]/eqem2020[\"prod opt\"].sum()\n",
    "\n",
    "eqem2020"
   ]
  },
  {
   "attachments": {},
   "cell_type": "markdown",
   "metadata": {},
   "source": [
    "To get a complete picture of the emissions in ICT Belkhir and Elmeligi provide historical and projected emissions data for data center and networks in Mt-CO<sub>2</sub>eq in table 11 {cite}`belkhirAssessingICTGlobal2018`. The numbers lack production emissions, but the usage provides a better estimate than using the data for datacenter server. Belkhir and Elmeligi argue that the emissions of production of datacenter equipment is negligible compared to its usage, which might be true, but given production emissions for the other equipment is not that high, so in total the emissions contribution of datacenter equipment production might be higher than of some office equipment."
   ]
  },
  {
   "cell_type": "code",
   "execution_count": 7,
   "metadata": {},
   "outputs": [
    {
     "data": {
      "text/html": [
       "<div>\n",
       "<style scoped>\n",
       "    .dataframe tbody tr th:only-of-type {\n",
       "        vertical-align: middle;\n",
       "    }\n",
       "\n",
       "    .dataframe tbody tr th {\n",
       "        vertical-align: top;\n",
       "    }\n",
       "\n",
       "    .dataframe thead th {\n",
       "        text-align: right;\n",
       "    }\n",
       "</style>\n",
       "<table border=\"1\" class=\"dataframe\">\n",
       "  <thead>\n",
       "    <tr style=\"text-align: right;\">\n",
       "      <th></th>\n",
       "      <th>data center</th>\n",
       "      <th>networks</th>\n",
       "    </tr>\n",
       "    <tr>\n",
       "      <th>Year</th>\n",
       "      <th></th>\n",
       "      <th></th>\n",
       "    </tr>\n",
       "  </thead>\n",
       "  <tbody>\n",
       "    <tr>\n",
       "      <th>2007</th>\n",
       "      <td>113.4</td>\n",
       "      <td>101.5</td>\n",
       "    </tr>\n",
       "    <tr>\n",
       "      <th>2008</th>\n",
       "      <td>127.0</td>\n",
       "      <td>114.0</td>\n",
       "    </tr>\n",
       "    <tr>\n",
       "      <th>2009</th>\n",
       "      <td>142.3</td>\n",
       "      <td>127.0</td>\n",
       "    </tr>\n",
       "    <tr>\n",
       "      <th>2010</th>\n",
       "      <td>159.3</td>\n",
       "      <td>138.0</td>\n",
       "    </tr>\n",
       "    <tr>\n",
       "      <th>2011</th>\n",
       "      <td>178.5</td>\n",
       "      <td>152.0</td>\n",
       "    </tr>\n",
       "    <tr>\n",
       "      <th>2012</th>\n",
       "      <td>199.9</td>\n",
       "      <td>167.0</td>\n",
       "    </tr>\n",
       "    <tr>\n",
       "      <th>2013</th>\n",
       "      <td>223.9</td>\n",
       "      <td>178.6</td>\n",
       "    </tr>\n",
       "    <tr>\n",
       "      <th>2014</th>\n",
       "      <td>250.7</td>\n",
       "      <td>191.5</td>\n",
       "    </tr>\n",
       "    <tr>\n",
       "      <th>2015</th>\n",
       "      <td>280.8</td>\n",
       "      <td>204.4</td>\n",
       "    </tr>\n",
       "    <tr>\n",
       "      <th>2016</th>\n",
       "      <td>314.5</td>\n",
       "      <td>217.4</td>\n",
       "    </tr>\n",
       "    <tr>\n",
       "      <th>2017</th>\n",
       "      <td>352.2</td>\n",
       "      <td>230.3</td>\n",
       "    </tr>\n",
       "    <tr>\n",
       "      <th>2018</th>\n",
       "      <td>394.5</td>\n",
       "      <td>243.2</td>\n",
       "    </tr>\n",
       "    <tr>\n",
       "      <th>2019</th>\n",
       "      <td>441.8</td>\n",
       "      <td>256.1</td>\n",
       "    </tr>\n",
       "    <tr>\n",
       "      <th>2020</th>\n",
       "      <td>494.9</td>\n",
       "      <td>269.1</td>\n",
       "    </tr>\n",
       "  </tbody>\n",
       "</table>\n",
       "</div>"
      ],
      "text/plain": [
       "      data center  networks\n",
       "Year                       \n",
       "2007        113.4     101.5\n",
       "2008        127.0     114.0\n",
       "2009        142.3     127.0\n",
       "2010        159.3     138.0\n",
       "2011        178.5     152.0\n",
       "2012        199.9     167.0\n",
       "2013        223.9     178.6\n",
       "2014        250.7     191.5\n",
       "2015        280.8     204.4\n",
       "2016        314.5     217.4\n",
       "2017        352.2     230.3\n",
       "2018        394.5     243.2\n",
       "2019        441.8     256.1\n",
       "2020        494.9     269.1"
      ]
     },
     "execution_count": 7,
     "metadata": {},
     "output_type": "execute_result"
    }
   ],
   "source": [
    "clem = pd.read_csv(\"belkhirAssessingICTGlobal2018/table11.csv\", index_col=\"Year\")\n",
    "clem"
   ]
  },
  {
   "attachments": {},
   "cell_type": "markdown",
   "metadata": {},
   "source": [
    "We will construct a table with optimistic emission data on 2020 per equipment and life cycle stage (use or prod). This will give an indication on emission per equipment type and per life cycle stage."
   ]
  },
  {
   "cell_type": "code",
   "execution_count": 8,
   "metadata": {},
   "outputs": [
    {
     "data": {
      "text/html": [
       "<div>\n",
       "<style scoped>\n",
       "    .dataframe tbody tr th:only-of-type {\n",
       "        vertical-align: middle;\n",
       "    }\n",
       "\n",
       "    .dataframe tbody tr th {\n",
       "        vertical-align: top;\n",
       "    }\n",
       "\n",
       "    .dataframe thead th {\n",
       "        text-align: right;\n",
       "    }\n",
       "</style>\n",
       "<table border=\"1\" class=\"dataframe\">\n",
       "  <thead>\n",
       "    <tr style=\"text-align: right;\">\n",
       "      <th></th>\n",
       "      <th>equipment</th>\n",
       "      <th>life cycle</th>\n",
       "      <th>2020</th>\n",
       "    </tr>\n",
       "  </thead>\n",
       "  <tbody>\n",
       "    <tr>\n",
       "      <th>0</th>\n",
       "      <td>Home desktop</td>\n",
       "      <td>use</td>\n",
       "      <td>23.715000</td>\n",
       "    </tr>\n",
       "    <tr>\n",
       "      <th>1</th>\n",
       "      <td>Home desktop</td>\n",
       "      <td>prod</td>\n",
       "      <td>7.941429</td>\n",
       "    </tr>\n",
       "    <tr>\n",
       "      <th>2</th>\n",
       "      <td>Office desktop</td>\n",
       "      <td>use</td>\n",
       "      <td>26.427000</td>\n",
       "    </tr>\n",
       "    <tr>\n",
       "      <th>3</th>\n",
       "      <td>Office desktop</td>\n",
       "      <td>prod</td>\n",
       "      <td>11.927714</td>\n",
       "    </tr>\n",
       "    <tr>\n",
       "      <th>4</th>\n",
       "      <td>Home notebook</td>\n",
       "      <td>use</td>\n",
       "      <td>16.875000</td>\n",
       "    </tr>\n",
       "    <tr>\n",
       "      <th>5</th>\n",
       "      <td>Home notebook</td>\n",
       "      <td>prod</td>\n",
       "      <td>25.089286</td>\n",
       "    </tr>\n",
       "    <tr>\n",
       "      <th>6</th>\n",
       "      <td>Office notebook</td>\n",
       "      <td>use</td>\n",
       "      <td>8.340000</td>\n",
       "    </tr>\n",
       "    <tr>\n",
       "      <th>7</th>\n",
       "      <td>Office notebook</td>\n",
       "      <td>prod</td>\n",
       "      <td>16.739571</td>\n",
       "    </tr>\n",
       "    <tr>\n",
       "      <th>8</th>\n",
       "      <td>CRT display</td>\n",
       "      <td>use</td>\n",
       "      <td>2.448000</td>\n",
       "    </tr>\n",
       "    <tr>\n",
       "      <th>9</th>\n",
       "      <td>CRT display</td>\n",
       "      <td>prod</td>\n",
       "      <td>1.371429</td>\n",
       "    </tr>\n",
       "    <tr>\n",
       "      <th>10</th>\n",
       "      <td>LCD display</td>\n",
       "      <td>use</td>\n",
       "      <td>44.666000</td>\n",
       "    </tr>\n",
       "    <tr>\n",
       "      <th>11</th>\n",
       "      <td>LCD display</td>\n",
       "      <td>prod</td>\n",
       "      <td>26.355714</td>\n",
       "    </tr>\n",
       "    <tr>\n",
       "      <th>12</th>\n",
       "      <td>Tablet</td>\n",
       "      <td>use</td>\n",
       "      <td>6.570000</td>\n",
       "    </tr>\n",
       "    <tr>\n",
       "      <th>13</th>\n",
       "      <td>Tablet</td>\n",
       "      <td>prod</td>\n",
       "      <td>14.600000</td>\n",
       "    </tr>\n",
       "    <tr>\n",
       "      <th>14</th>\n",
       "      <td>Smart phones</td>\n",
       "      <td>use</td>\n",
       "      <td>16.285500</td>\n",
       "    </tr>\n",
       "    <tr>\n",
       "      <th>15</th>\n",
       "      <td>Smart phones</td>\n",
       "      <td>prod</td>\n",
       "      <td>72.380000</td>\n",
       "    </tr>\n",
       "  </tbody>\n",
       "</table>\n",
       "</div>"
      ],
      "text/plain": [
       "          equipment life cycle       2020\n",
       "0      Home desktop        use  23.715000\n",
       "1      Home desktop       prod   7.941429\n",
       "2    Office desktop        use  26.427000\n",
       "3    Office desktop       prod  11.927714\n",
       "4     Home notebook        use  16.875000\n",
       "5     Home notebook       prod  25.089286\n",
       "6   Office notebook        use   8.340000\n",
       "7   Office notebook       prod  16.739571\n",
       "8       CRT display        use   2.448000\n",
       "9       CRT display       prod   1.371429\n",
       "10      LCD display        use  44.666000\n",
       "11      LCD display       prod  26.355714\n",
       "12           Tablet        use   6.570000\n",
       "13           Tablet       prod  14.600000\n",
       "14     Smart phones        use  16.285500\n",
       "15     Smart phones       prod  72.380000"
      ]
     },
     "execution_count": 8,
     "metadata": {},
     "output_type": "execute_result"
    }
   ],
   "source": [
    "el2020 = (eqem2020[[\"equipment\",\"use opt\",\"prod opt\"]]\n",
    "          .dropna()\n",
    "          .set_index(\"equipment\")\n",
    "          .rename(columns={\n",
    "              \"use opt\": \"use\", \n",
    "              \"prod opt\": \"prod\"\n",
    "            })\n",
    "        )\n",
    "el2020 = el2020.stack().rename(2020).rename_axis(index={None:\"life cycle\"})\n",
    "el2020 = el2020.to_frame().reset_index()\n",
    "el2020"
   ]
  },
  {
   "attachments": {},
   "cell_type": "markdown",
   "metadata": {},
   "source": [
    "This table lacks datacenter and network data, so let's add those, giving us a table with optimistic emission data for 2020 in Mt CO<sub>2</sub>eq:"
   ]
  },
  {
   "cell_type": "code",
   "execution_count": 9,
   "metadata": {},
   "outputs": [
    {
     "data": {
      "text/html": [
       "<div>\n",
       "<style scoped>\n",
       "    .dataframe tbody tr th:only-of-type {\n",
       "        vertical-align: middle;\n",
       "    }\n",
       "\n",
       "    .dataframe tbody tr th {\n",
       "        vertical-align: top;\n",
       "    }\n",
       "\n",
       "    .dataframe thead th {\n",
       "        text-align: right;\n",
       "    }\n",
       "</style>\n",
       "<table border=\"1\" class=\"dataframe\">\n",
       "  <thead>\n",
       "    <tr style=\"text-align: right;\">\n",
       "      <th></th>\n",
       "      <th>equipment</th>\n",
       "      <th>life cycle</th>\n",
       "      <th>2020</th>\n",
       "    </tr>\n",
       "  </thead>\n",
       "  <tbody>\n",
       "    <tr>\n",
       "      <th>0</th>\n",
       "      <td>Home desktop</td>\n",
       "      <td>use</td>\n",
       "      <td>23.715000</td>\n",
       "    </tr>\n",
       "    <tr>\n",
       "      <th>1</th>\n",
       "      <td>Home desktop</td>\n",
       "      <td>prod</td>\n",
       "      <td>7.941429</td>\n",
       "    </tr>\n",
       "    <tr>\n",
       "      <th>2</th>\n",
       "      <td>Office desktop</td>\n",
       "      <td>use</td>\n",
       "      <td>26.427000</td>\n",
       "    </tr>\n",
       "    <tr>\n",
       "      <th>3</th>\n",
       "      <td>Office desktop</td>\n",
       "      <td>prod</td>\n",
       "      <td>11.927714</td>\n",
       "    </tr>\n",
       "    <tr>\n",
       "      <th>4</th>\n",
       "      <td>Home notebook</td>\n",
       "      <td>use</td>\n",
       "      <td>16.875000</td>\n",
       "    </tr>\n",
       "    <tr>\n",
       "      <th>5</th>\n",
       "      <td>Home notebook</td>\n",
       "      <td>prod</td>\n",
       "      <td>25.089286</td>\n",
       "    </tr>\n",
       "    <tr>\n",
       "      <th>6</th>\n",
       "      <td>Office notebook</td>\n",
       "      <td>use</td>\n",
       "      <td>8.340000</td>\n",
       "    </tr>\n",
       "    <tr>\n",
       "      <th>7</th>\n",
       "      <td>Office notebook</td>\n",
       "      <td>prod</td>\n",
       "      <td>16.739571</td>\n",
       "    </tr>\n",
       "    <tr>\n",
       "      <th>8</th>\n",
       "      <td>CRT display</td>\n",
       "      <td>use</td>\n",
       "      <td>2.448000</td>\n",
       "    </tr>\n",
       "    <tr>\n",
       "      <th>9</th>\n",
       "      <td>CRT display</td>\n",
       "      <td>prod</td>\n",
       "      <td>1.371429</td>\n",
       "    </tr>\n",
       "    <tr>\n",
       "      <th>10</th>\n",
       "      <td>LCD display</td>\n",
       "      <td>use</td>\n",
       "      <td>44.666000</td>\n",
       "    </tr>\n",
       "    <tr>\n",
       "      <th>11</th>\n",
       "      <td>LCD display</td>\n",
       "      <td>prod</td>\n",
       "      <td>26.355714</td>\n",
       "    </tr>\n",
       "    <tr>\n",
       "      <th>12</th>\n",
       "      <td>Tablet</td>\n",
       "      <td>use</td>\n",
       "      <td>6.570000</td>\n",
       "    </tr>\n",
       "    <tr>\n",
       "      <th>13</th>\n",
       "      <td>Tablet</td>\n",
       "      <td>prod</td>\n",
       "      <td>14.600000</td>\n",
       "    </tr>\n",
       "    <tr>\n",
       "      <th>14</th>\n",
       "      <td>Smart phones</td>\n",
       "      <td>use</td>\n",
       "      <td>16.285500</td>\n",
       "    </tr>\n",
       "    <tr>\n",
       "      <th>15</th>\n",
       "      <td>Smart phones</td>\n",
       "      <td>prod</td>\n",
       "      <td>72.380000</td>\n",
       "    </tr>\n",
       "    <tr>\n",
       "      <th>16</th>\n",
       "      <td>data center</td>\n",
       "      <td>use</td>\n",
       "      <td>494.900000</td>\n",
       "    </tr>\n",
       "    <tr>\n",
       "      <th>17</th>\n",
       "      <td>networks</td>\n",
       "      <td>use</td>\n",
       "      <td>269.100000</td>\n",
       "    </tr>\n",
       "  </tbody>\n",
       "</table>\n",
       "</div>"
      ],
      "text/plain": [
       "          equipment life cycle        2020\n",
       "0      Home desktop        use   23.715000\n",
       "1      Home desktop       prod    7.941429\n",
       "2    Office desktop        use   26.427000\n",
       "3    Office desktop       prod   11.927714\n",
       "4     Home notebook        use   16.875000\n",
       "5     Home notebook       prod   25.089286\n",
       "6   Office notebook        use    8.340000\n",
       "7   Office notebook       prod   16.739571\n",
       "8       CRT display        use    2.448000\n",
       "9       CRT display       prod    1.371429\n",
       "10      LCD display        use   44.666000\n",
       "11      LCD display       prod   26.355714\n",
       "12           Tablet        use    6.570000\n",
       "13           Tablet       prod   14.600000\n",
       "14     Smart phones        use   16.285500\n",
       "15     Smart phones       prod   72.380000\n",
       "16      data center        use  494.900000\n",
       "17         networks        use  269.100000"
      ]
     },
     "execution_count": 9,
     "metadata": {},
     "output_type": "execute_result"
    }
   ],
   "source": [
    "cl2020 = clem.T[[2020]]\n",
    "cl2020[\"life cycle\"]=\"use\"\n",
    "cl2020.index.name = \"equipment\"\n",
    "cl2020 = cl2020.reset_index()\n",
    "emissions2020 = el2020.merge(cl2020,how=\"outer\")\n",
    "emissions2020"
   ]
  },
  {
   "attachments": {},
   "cell_type": "markdown",
   "metadata": {},
   "source": [
    "Even lacking numbers for manufacturing emissions of data centers and networks, they clearly dominate the emissions landscape. The second figure better depicts the ration between emissions caused by manufacturing and usage. These numbers are a stark contradiction to those presented in {cite}`inrWeNR2021Release2021`."
   ]
  },
  {
   "cell_type": "code",
   "execution_count": 10,
   "metadata": {},
   "outputs": [
    {
     "data": {
      "application/vnd.plotly.v1+json": {
       "config": {
        "plotlyServerURL": "https://plot.ly"
       },
       "data": [
        {
         "branchvalues": "total",
         "domain": {
          "x": [
           0,
           1
          ],
          "y": [
           0,
           1
          ]
         },
         "hovertemplate": "labels=%{label}<br>2020=%{value}<br>parent=%{parent}<br>id=%{id}<extra></extra>",
         "ids": [
          "CRT display/prod",
          "Home desktop/prod",
          "Home notebook/prod",
          "LCD display/prod",
          "Office desktop/prod",
          "Office notebook/prod",
          "Smart phones/prod",
          "Tablet/prod",
          "CRT display/use",
          "Home desktop/use",
          "Home notebook/use",
          "LCD display/use",
          "Office desktop/use",
          "Office notebook/use",
          "Smart phones/use",
          "Tablet/use",
          "data center/use",
          "networks/use",
          "CRT display",
          "Home desktop",
          "Home notebook",
          "LCD display",
          "Office desktop",
          "Office notebook",
          "Smart phones",
          "Tablet",
          "data center",
          "networks"
         ],
         "labels": [
          "prod",
          "prod",
          "prod",
          "prod",
          "prod",
          "prod",
          "prod",
          "prod",
          "use",
          "use",
          "use",
          "use",
          "use",
          "use",
          "use",
          "use",
          "use",
          "use",
          "CRT display",
          "Home desktop",
          "Home notebook",
          "LCD display",
          "Office desktop",
          "Office notebook",
          "Smart phones",
          "Tablet",
          "data center",
          "networks"
         ],
         "name": "",
         "parents": [
          "CRT display",
          "Home desktop",
          "Home notebook",
          "LCD display",
          "Office desktop",
          "Office notebook",
          "Smart phones",
          "Tablet",
          "CRT display",
          "Home desktop",
          "Home notebook",
          "LCD display",
          "Office desktop",
          "Office notebook",
          "Smart phones",
          "Tablet",
          "data center",
          "networks",
          "",
          "",
          "",
          "",
          "",
          "",
          "",
          "",
          "",
          ""
         ],
         "textinfo": "label+percent root",
         "type": "sunburst",
         "values": [
          1.3714285714285717,
          7.941428571428571,
          25.08928571428572,
          26.355714285714285,
          11.927714285714286,
          16.73957142857143,
          72.38,
          14.6,
          2.448,
          23.715,
          16.875,
          44.666,
          26.427,
          8.34,
          16.2855,
          6.57,
          494.9,
          269.1,
          3.8194285714285714,
          31.65642857142857,
          41.96428571428572,
          71.02171428571428,
          38.35471428571429,
          25.07957142857143,
          88.6655,
          21.17,
          494.9,
          269.1
         ]
        }
       ],
       "layout": {
        "legend": {
         "tracegroupgap": 0
        },
        "margin": {
         "t": 60
        },
        "template": {
         "data": {
          "bar": [
           {
            "error_x": {
             "color": "#2a3f5f"
            },
            "error_y": {
             "color": "#2a3f5f"
            },
            "marker": {
             "line": {
              "color": "#E5ECF6",
              "width": 0.5
             },
             "pattern": {
              "fillmode": "overlay",
              "size": 10,
              "solidity": 0.2
             }
            },
            "type": "bar"
           }
          ],
          "barpolar": [
           {
            "marker": {
             "line": {
              "color": "#E5ECF6",
              "width": 0.5
             },
             "pattern": {
              "fillmode": "overlay",
              "size": 10,
              "solidity": 0.2
             }
            },
            "type": "barpolar"
           }
          ],
          "carpet": [
           {
            "aaxis": {
             "endlinecolor": "#2a3f5f",
             "gridcolor": "white",
             "linecolor": "white",
             "minorgridcolor": "white",
             "startlinecolor": "#2a3f5f"
            },
            "baxis": {
             "endlinecolor": "#2a3f5f",
             "gridcolor": "white",
             "linecolor": "white",
             "minorgridcolor": "white",
             "startlinecolor": "#2a3f5f"
            },
            "type": "carpet"
           }
          ],
          "choropleth": [
           {
            "colorbar": {
             "outlinewidth": 0,
             "ticks": ""
            },
            "type": "choropleth"
           }
          ],
          "contour": [
           {
            "colorbar": {
             "outlinewidth": 0,
             "ticks": ""
            },
            "colorscale": [
             [
              0,
              "#0d0887"
             ],
             [
              0.1111111111111111,
              "#46039f"
             ],
             [
              0.2222222222222222,
              "#7201a8"
             ],
             [
              0.3333333333333333,
              "#9c179e"
             ],
             [
              0.4444444444444444,
              "#bd3786"
             ],
             [
              0.5555555555555556,
              "#d8576b"
             ],
             [
              0.6666666666666666,
              "#ed7953"
             ],
             [
              0.7777777777777778,
              "#fb9f3a"
             ],
             [
              0.8888888888888888,
              "#fdca26"
             ],
             [
              1,
              "#f0f921"
             ]
            ],
            "type": "contour"
           }
          ],
          "contourcarpet": [
           {
            "colorbar": {
             "outlinewidth": 0,
             "ticks": ""
            },
            "type": "contourcarpet"
           }
          ],
          "heatmap": [
           {
            "colorbar": {
             "outlinewidth": 0,
             "ticks": ""
            },
            "colorscale": [
             [
              0,
              "#0d0887"
             ],
             [
              0.1111111111111111,
              "#46039f"
             ],
             [
              0.2222222222222222,
              "#7201a8"
             ],
             [
              0.3333333333333333,
              "#9c179e"
             ],
             [
              0.4444444444444444,
              "#bd3786"
             ],
             [
              0.5555555555555556,
              "#d8576b"
             ],
             [
              0.6666666666666666,
              "#ed7953"
             ],
             [
              0.7777777777777778,
              "#fb9f3a"
             ],
             [
              0.8888888888888888,
              "#fdca26"
             ],
             [
              1,
              "#f0f921"
             ]
            ],
            "type": "heatmap"
           }
          ],
          "heatmapgl": [
           {
            "colorbar": {
             "outlinewidth": 0,
             "ticks": ""
            },
            "colorscale": [
             [
              0,
              "#0d0887"
             ],
             [
              0.1111111111111111,
              "#46039f"
             ],
             [
              0.2222222222222222,
              "#7201a8"
             ],
             [
              0.3333333333333333,
              "#9c179e"
             ],
             [
              0.4444444444444444,
              "#bd3786"
             ],
             [
              0.5555555555555556,
              "#d8576b"
             ],
             [
              0.6666666666666666,
              "#ed7953"
             ],
             [
              0.7777777777777778,
              "#fb9f3a"
             ],
             [
              0.8888888888888888,
              "#fdca26"
             ],
             [
              1,
              "#f0f921"
             ]
            ],
            "type": "heatmapgl"
           }
          ],
          "histogram": [
           {
            "marker": {
             "pattern": {
              "fillmode": "overlay",
              "size": 10,
              "solidity": 0.2
             }
            },
            "type": "histogram"
           }
          ],
          "histogram2d": [
           {
            "colorbar": {
             "outlinewidth": 0,
             "ticks": ""
            },
            "colorscale": [
             [
              0,
              "#0d0887"
             ],
             [
              0.1111111111111111,
              "#46039f"
             ],
             [
              0.2222222222222222,
              "#7201a8"
             ],
             [
              0.3333333333333333,
              "#9c179e"
             ],
             [
              0.4444444444444444,
              "#bd3786"
             ],
             [
              0.5555555555555556,
              "#d8576b"
             ],
             [
              0.6666666666666666,
              "#ed7953"
             ],
             [
              0.7777777777777778,
              "#fb9f3a"
             ],
             [
              0.8888888888888888,
              "#fdca26"
             ],
             [
              1,
              "#f0f921"
             ]
            ],
            "type": "histogram2d"
           }
          ],
          "histogram2dcontour": [
           {
            "colorbar": {
             "outlinewidth": 0,
             "ticks": ""
            },
            "colorscale": [
             [
              0,
              "#0d0887"
             ],
             [
              0.1111111111111111,
              "#46039f"
             ],
             [
              0.2222222222222222,
              "#7201a8"
             ],
             [
              0.3333333333333333,
              "#9c179e"
             ],
             [
              0.4444444444444444,
              "#bd3786"
             ],
             [
              0.5555555555555556,
              "#d8576b"
             ],
             [
              0.6666666666666666,
              "#ed7953"
             ],
             [
              0.7777777777777778,
              "#fb9f3a"
             ],
             [
              0.8888888888888888,
              "#fdca26"
             ],
             [
              1,
              "#f0f921"
             ]
            ],
            "type": "histogram2dcontour"
           }
          ],
          "mesh3d": [
           {
            "colorbar": {
             "outlinewidth": 0,
             "ticks": ""
            },
            "type": "mesh3d"
           }
          ],
          "parcoords": [
           {
            "line": {
             "colorbar": {
              "outlinewidth": 0,
              "ticks": ""
             }
            },
            "type": "parcoords"
           }
          ],
          "pie": [
           {
            "automargin": true,
            "type": "pie"
           }
          ],
          "scatter": [
           {
            "fillpattern": {
             "fillmode": "overlay",
             "size": 10,
             "solidity": 0.2
            },
            "type": "scatter"
           }
          ],
          "scatter3d": [
           {
            "line": {
             "colorbar": {
              "outlinewidth": 0,
              "ticks": ""
             }
            },
            "marker": {
             "colorbar": {
              "outlinewidth": 0,
              "ticks": ""
             }
            },
            "type": "scatter3d"
           }
          ],
          "scattercarpet": [
           {
            "marker": {
             "colorbar": {
              "outlinewidth": 0,
              "ticks": ""
             }
            },
            "type": "scattercarpet"
           }
          ],
          "scattergeo": [
           {
            "marker": {
             "colorbar": {
              "outlinewidth": 0,
              "ticks": ""
             }
            },
            "type": "scattergeo"
           }
          ],
          "scattergl": [
           {
            "marker": {
             "colorbar": {
              "outlinewidth": 0,
              "ticks": ""
             }
            },
            "type": "scattergl"
           }
          ],
          "scattermapbox": [
           {
            "marker": {
             "colorbar": {
              "outlinewidth": 0,
              "ticks": ""
             }
            },
            "type": "scattermapbox"
           }
          ],
          "scatterpolar": [
           {
            "marker": {
             "colorbar": {
              "outlinewidth": 0,
              "ticks": ""
             }
            },
            "type": "scatterpolar"
           }
          ],
          "scatterpolargl": [
           {
            "marker": {
             "colorbar": {
              "outlinewidth": 0,
              "ticks": ""
             }
            },
            "type": "scatterpolargl"
           }
          ],
          "scatterternary": [
           {
            "marker": {
             "colorbar": {
              "outlinewidth": 0,
              "ticks": ""
             }
            },
            "type": "scatterternary"
           }
          ],
          "surface": [
           {
            "colorbar": {
             "outlinewidth": 0,
             "ticks": ""
            },
            "colorscale": [
             [
              0,
              "#0d0887"
             ],
             [
              0.1111111111111111,
              "#46039f"
             ],
             [
              0.2222222222222222,
              "#7201a8"
             ],
             [
              0.3333333333333333,
              "#9c179e"
             ],
             [
              0.4444444444444444,
              "#bd3786"
             ],
             [
              0.5555555555555556,
              "#d8576b"
             ],
             [
              0.6666666666666666,
              "#ed7953"
             ],
             [
              0.7777777777777778,
              "#fb9f3a"
             ],
             [
              0.8888888888888888,
              "#fdca26"
             ],
             [
              1,
              "#f0f921"
             ]
            ],
            "type": "surface"
           }
          ],
          "table": [
           {
            "cells": {
             "fill": {
              "color": "#EBF0F8"
             },
             "line": {
              "color": "white"
             }
            },
            "header": {
             "fill": {
              "color": "#C8D4E3"
             },
             "line": {
              "color": "white"
             }
            },
            "type": "table"
           }
          ]
         },
         "layout": {
          "annotationdefaults": {
           "arrowcolor": "#2a3f5f",
           "arrowhead": 0,
           "arrowwidth": 1
          },
          "autotypenumbers": "strict",
          "coloraxis": {
           "colorbar": {
            "outlinewidth": 0,
            "ticks": ""
           }
          },
          "colorscale": {
           "diverging": [
            [
             0,
             "#8e0152"
            ],
            [
             0.1,
             "#c51b7d"
            ],
            [
             0.2,
             "#de77ae"
            ],
            [
             0.3,
             "#f1b6da"
            ],
            [
             0.4,
             "#fde0ef"
            ],
            [
             0.5,
             "#f7f7f7"
            ],
            [
             0.6,
             "#e6f5d0"
            ],
            [
             0.7,
             "#b8e186"
            ],
            [
             0.8,
             "#7fbc41"
            ],
            [
             0.9,
             "#4d9221"
            ],
            [
             1,
             "#276419"
            ]
           ],
           "sequential": [
            [
             0,
             "#0d0887"
            ],
            [
             0.1111111111111111,
             "#46039f"
            ],
            [
             0.2222222222222222,
             "#7201a8"
            ],
            [
             0.3333333333333333,
             "#9c179e"
            ],
            [
             0.4444444444444444,
             "#bd3786"
            ],
            [
             0.5555555555555556,
             "#d8576b"
            ],
            [
             0.6666666666666666,
             "#ed7953"
            ],
            [
             0.7777777777777778,
             "#fb9f3a"
            ],
            [
             0.8888888888888888,
             "#fdca26"
            ],
            [
             1,
             "#f0f921"
            ]
           ],
           "sequentialminus": [
            [
             0,
             "#0d0887"
            ],
            [
             0.1111111111111111,
             "#46039f"
            ],
            [
             0.2222222222222222,
             "#7201a8"
            ],
            [
             0.3333333333333333,
             "#9c179e"
            ],
            [
             0.4444444444444444,
             "#bd3786"
            ],
            [
             0.5555555555555556,
             "#d8576b"
            ],
            [
             0.6666666666666666,
             "#ed7953"
            ],
            [
             0.7777777777777778,
             "#fb9f3a"
            ],
            [
             0.8888888888888888,
             "#fdca26"
            ],
            [
             1,
             "#f0f921"
            ]
           ]
          },
          "colorway": [
           "#636efa",
           "#EF553B",
           "#00cc96",
           "#ab63fa",
           "#FFA15A",
           "#19d3f3",
           "#FF6692",
           "#B6E880",
           "#FF97FF",
           "#FECB52"
          ],
          "font": {
           "color": "#2a3f5f"
          },
          "geo": {
           "bgcolor": "white",
           "lakecolor": "white",
           "landcolor": "#E5ECF6",
           "showlakes": true,
           "showland": true,
           "subunitcolor": "white"
          },
          "hoverlabel": {
           "align": "left"
          },
          "hovermode": "closest",
          "mapbox": {
           "style": "light"
          },
          "paper_bgcolor": "white",
          "plot_bgcolor": "#E5ECF6",
          "polar": {
           "angularaxis": {
            "gridcolor": "white",
            "linecolor": "white",
            "ticks": ""
           },
           "bgcolor": "#E5ECF6",
           "radialaxis": {
            "gridcolor": "white",
            "linecolor": "white",
            "ticks": ""
           }
          },
          "scene": {
           "xaxis": {
            "backgroundcolor": "#E5ECF6",
            "gridcolor": "white",
            "gridwidth": 2,
            "linecolor": "white",
            "showbackground": true,
            "ticks": "",
            "zerolinecolor": "white"
           },
           "yaxis": {
            "backgroundcolor": "#E5ECF6",
            "gridcolor": "white",
            "gridwidth": 2,
            "linecolor": "white",
            "showbackground": true,
            "ticks": "",
            "zerolinecolor": "white"
           },
           "zaxis": {
            "backgroundcolor": "#E5ECF6",
            "gridcolor": "white",
            "gridwidth": 2,
            "linecolor": "white",
            "showbackground": true,
            "ticks": "",
            "zerolinecolor": "white"
           }
          },
          "shapedefaults": {
           "line": {
            "color": "#2a3f5f"
           }
          },
          "ternary": {
           "aaxis": {
            "gridcolor": "white",
            "linecolor": "white",
            "ticks": ""
           },
           "baxis": {
            "gridcolor": "white",
            "linecolor": "white",
            "ticks": ""
           },
           "bgcolor": "#E5ECF6",
           "caxis": {
            "gridcolor": "white",
            "linecolor": "white",
            "ticks": ""
           }
          },
          "title": {
           "x": 0.05
          },
          "xaxis": {
           "automargin": true,
           "gridcolor": "white",
           "linecolor": "white",
           "ticks": "",
           "title": {
            "standoff": 15
           },
           "zerolinecolor": "white",
           "zerolinewidth": 2
          },
          "yaxis": {
           "automargin": true,
           "gridcolor": "white",
           "linecolor": "white",
           "ticks": "",
           "title": {
            "standoff": 15
           },
           "zerolinecolor": "white",
           "zerolinewidth": 2
          }
         }
        }
       }
      }
     },
     "metadata": {},
     "output_type": "display_data"
    }
   ],
   "source": [
    "import plotly.express as px\n",
    "\n",
    "fig = px.sunburst(emissions2020, path=[\"equipment\", \"life cycle\"], values=2020)\n",
    "fig.update_traces(textinfo=\"label+percent root\")\n",
    "fig.show()"
   ]
  },
  {
   "cell_type": "code",
   "execution_count": 11,
   "metadata": {},
   "outputs": [
    {
     "data": {
      "application/vnd.plotly.v1+json": {
       "config": {
        "plotlyServerURL": "https://plot.ly"
       },
       "data": [
        {
         "branchvalues": "total",
         "domain": {
          "x": [
           0,
           1
          ],
          "y": [
           0,
           1
          ]
         },
         "hovertemplate": "labels=%{label}<br>2020=%{value}<br>parent=%{parent}<br>id=%{id}<extra></extra>",
         "ids": [
          "prod/CRT display",
          "use/CRT display",
          "prod/Home desktop",
          "use/Home desktop",
          "prod/Home notebook",
          "use/Home notebook",
          "prod/LCD display",
          "use/LCD display",
          "prod/Office desktop",
          "use/Office desktop",
          "prod/Office notebook",
          "use/Office notebook",
          "prod/Smart phones",
          "use/Smart phones",
          "prod/Tablet",
          "use/Tablet",
          "use/data center",
          "use/networks",
          "prod",
          "use"
         ],
         "labels": [
          "CRT display",
          "CRT display",
          "Home desktop",
          "Home desktop",
          "Home notebook",
          "Home notebook",
          "LCD display",
          "LCD display",
          "Office desktop",
          "Office desktop",
          "Office notebook",
          "Office notebook",
          "Smart phones",
          "Smart phones",
          "Tablet",
          "Tablet",
          "data center",
          "networks",
          "prod",
          "use"
         ],
         "name": "",
         "parents": [
          "prod",
          "use",
          "prod",
          "use",
          "prod",
          "use",
          "prod",
          "use",
          "prod",
          "use",
          "prod",
          "use",
          "prod",
          "use",
          "prod",
          "use",
          "use",
          "use",
          "",
          ""
         ],
         "textinfo": "label+percent root",
         "type": "sunburst",
         "values": [
          1.3714285714285717,
          2.448,
          7.941428571428571,
          23.715,
          25.08928571428572,
          16.875,
          26.355714285714285,
          44.666,
          11.927714285714286,
          26.427,
          16.73957142857143,
          8.34,
          72.38,
          16.2855,
          14.6,
          6.57,
          494.9,
          269.1,
          176.40514285714283,
          909.3265
         ]
        }
       ],
       "layout": {
        "legend": {
         "tracegroupgap": 0
        },
        "margin": {
         "t": 60
        },
        "template": {
         "data": {
          "bar": [
           {
            "error_x": {
             "color": "#2a3f5f"
            },
            "error_y": {
             "color": "#2a3f5f"
            },
            "marker": {
             "line": {
              "color": "#E5ECF6",
              "width": 0.5
             },
             "pattern": {
              "fillmode": "overlay",
              "size": 10,
              "solidity": 0.2
             }
            },
            "type": "bar"
           }
          ],
          "barpolar": [
           {
            "marker": {
             "line": {
              "color": "#E5ECF6",
              "width": 0.5
             },
             "pattern": {
              "fillmode": "overlay",
              "size": 10,
              "solidity": 0.2
             }
            },
            "type": "barpolar"
           }
          ],
          "carpet": [
           {
            "aaxis": {
             "endlinecolor": "#2a3f5f",
             "gridcolor": "white",
             "linecolor": "white",
             "minorgridcolor": "white",
             "startlinecolor": "#2a3f5f"
            },
            "baxis": {
             "endlinecolor": "#2a3f5f",
             "gridcolor": "white",
             "linecolor": "white",
             "minorgridcolor": "white",
             "startlinecolor": "#2a3f5f"
            },
            "type": "carpet"
           }
          ],
          "choropleth": [
           {
            "colorbar": {
             "outlinewidth": 0,
             "ticks": ""
            },
            "type": "choropleth"
           }
          ],
          "contour": [
           {
            "colorbar": {
             "outlinewidth": 0,
             "ticks": ""
            },
            "colorscale": [
             [
              0,
              "#0d0887"
             ],
             [
              0.1111111111111111,
              "#46039f"
             ],
             [
              0.2222222222222222,
              "#7201a8"
             ],
             [
              0.3333333333333333,
              "#9c179e"
             ],
             [
              0.4444444444444444,
              "#bd3786"
             ],
             [
              0.5555555555555556,
              "#d8576b"
             ],
             [
              0.6666666666666666,
              "#ed7953"
             ],
             [
              0.7777777777777778,
              "#fb9f3a"
             ],
             [
              0.8888888888888888,
              "#fdca26"
             ],
             [
              1,
              "#f0f921"
             ]
            ],
            "type": "contour"
           }
          ],
          "contourcarpet": [
           {
            "colorbar": {
             "outlinewidth": 0,
             "ticks": ""
            },
            "type": "contourcarpet"
           }
          ],
          "heatmap": [
           {
            "colorbar": {
             "outlinewidth": 0,
             "ticks": ""
            },
            "colorscale": [
             [
              0,
              "#0d0887"
             ],
             [
              0.1111111111111111,
              "#46039f"
             ],
             [
              0.2222222222222222,
              "#7201a8"
             ],
             [
              0.3333333333333333,
              "#9c179e"
             ],
             [
              0.4444444444444444,
              "#bd3786"
             ],
             [
              0.5555555555555556,
              "#d8576b"
             ],
             [
              0.6666666666666666,
              "#ed7953"
             ],
             [
              0.7777777777777778,
              "#fb9f3a"
             ],
             [
              0.8888888888888888,
              "#fdca26"
             ],
             [
              1,
              "#f0f921"
             ]
            ],
            "type": "heatmap"
           }
          ],
          "heatmapgl": [
           {
            "colorbar": {
             "outlinewidth": 0,
             "ticks": ""
            },
            "colorscale": [
             [
              0,
              "#0d0887"
             ],
             [
              0.1111111111111111,
              "#46039f"
             ],
             [
              0.2222222222222222,
              "#7201a8"
             ],
             [
              0.3333333333333333,
              "#9c179e"
             ],
             [
              0.4444444444444444,
              "#bd3786"
             ],
             [
              0.5555555555555556,
              "#d8576b"
             ],
             [
              0.6666666666666666,
              "#ed7953"
             ],
             [
              0.7777777777777778,
              "#fb9f3a"
             ],
             [
              0.8888888888888888,
              "#fdca26"
             ],
             [
              1,
              "#f0f921"
             ]
            ],
            "type": "heatmapgl"
           }
          ],
          "histogram": [
           {
            "marker": {
             "pattern": {
              "fillmode": "overlay",
              "size": 10,
              "solidity": 0.2
             }
            },
            "type": "histogram"
           }
          ],
          "histogram2d": [
           {
            "colorbar": {
             "outlinewidth": 0,
             "ticks": ""
            },
            "colorscale": [
             [
              0,
              "#0d0887"
             ],
             [
              0.1111111111111111,
              "#46039f"
             ],
             [
              0.2222222222222222,
              "#7201a8"
             ],
             [
              0.3333333333333333,
              "#9c179e"
             ],
             [
              0.4444444444444444,
              "#bd3786"
             ],
             [
              0.5555555555555556,
              "#d8576b"
             ],
             [
              0.6666666666666666,
              "#ed7953"
             ],
             [
              0.7777777777777778,
              "#fb9f3a"
             ],
             [
              0.8888888888888888,
              "#fdca26"
             ],
             [
              1,
              "#f0f921"
             ]
            ],
            "type": "histogram2d"
           }
          ],
          "histogram2dcontour": [
           {
            "colorbar": {
             "outlinewidth": 0,
             "ticks": ""
            },
            "colorscale": [
             [
              0,
              "#0d0887"
             ],
             [
              0.1111111111111111,
              "#46039f"
             ],
             [
              0.2222222222222222,
              "#7201a8"
             ],
             [
              0.3333333333333333,
              "#9c179e"
             ],
             [
              0.4444444444444444,
              "#bd3786"
             ],
             [
              0.5555555555555556,
              "#d8576b"
             ],
             [
              0.6666666666666666,
              "#ed7953"
             ],
             [
              0.7777777777777778,
              "#fb9f3a"
             ],
             [
              0.8888888888888888,
              "#fdca26"
             ],
             [
              1,
              "#f0f921"
             ]
            ],
            "type": "histogram2dcontour"
           }
          ],
          "mesh3d": [
           {
            "colorbar": {
             "outlinewidth": 0,
             "ticks": ""
            },
            "type": "mesh3d"
           }
          ],
          "parcoords": [
           {
            "line": {
             "colorbar": {
              "outlinewidth": 0,
              "ticks": ""
             }
            },
            "type": "parcoords"
           }
          ],
          "pie": [
           {
            "automargin": true,
            "type": "pie"
           }
          ],
          "scatter": [
           {
            "fillpattern": {
             "fillmode": "overlay",
             "size": 10,
             "solidity": 0.2
            },
            "type": "scatter"
           }
          ],
          "scatter3d": [
           {
            "line": {
             "colorbar": {
              "outlinewidth": 0,
              "ticks": ""
             }
            },
            "marker": {
             "colorbar": {
              "outlinewidth": 0,
              "ticks": ""
             }
            },
            "type": "scatter3d"
           }
          ],
          "scattercarpet": [
           {
            "marker": {
             "colorbar": {
              "outlinewidth": 0,
              "ticks": ""
             }
            },
            "type": "scattercarpet"
           }
          ],
          "scattergeo": [
           {
            "marker": {
             "colorbar": {
              "outlinewidth": 0,
              "ticks": ""
             }
            },
            "type": "scattergeo"
           }
          ],
          "scattergl": [
           {
            "marker": {
             "colorbar": {
              "outlinewidth": 0,
              "ticks": ""
             }
            },
            "type": "scattergl"
           }
          ],
          "scattermapbox": [
           {
            "marker": {
             "colorbar": {
              "outlinewidth": 0,
              "ticks": ""
             }
            },
            "type": "scattermapbox"
           }
          ],
          "scatterpolar": [
           {
            "marker": {
             "colorbar": {
              "outlinewidth": 0,
              "ticks": ""
             }
            },
            "type": "scatterpolar"
           }
          ],
          "scatterpolargl": [
           {
            "marker": {
             "colorbar": {
              "outlinewidth": 0,
              "ticks": ""
             }
            },
            "type": "scatterpolargl"
           }
          ],
          "scatterternary": [
           {
            "marker": {
             "colorbar": {
              "outlinewidth": 0,
              "ticks": ""
             }
            },
            "type": "scatterternary"
           }
          ],
          "surface": [
           {
            "colorbar": {
             "outlinewidth": 0,
             "ticks": ""
            },
            "colorscale": [
             [
              0,
              "#0d0887"
             ],
             [
              0.1111111111111111,
              "#46039f"
             ],
             [
              0.2222222222222222,
              "#7201a8"
             ],
             [
              0.3333333333333333,
              "#9c179e"
             ],
             [
              0.4444444444444444,
              "#bd3786"
             ],
             [
              0.5555555555555556,
              "#d8576b"
             ],
             [
              0.6666666666666666,
              "#ed7953"
             ],
             [
              0.7777777777777778,
              "#fb9f3a"
             ],
             [
              0.8888888888888888,
              "#fdca26"
             ],
             [
              1,
              "#f0f921"
             ]
            ],
            "type": "surface"
           }
          ],
          "table": [
           {
            "cells": {
             "fill": {
              "color": "#EBF0F8"
             },
             "line": {
              "color": "white"
             }
            },
            "header": {
             "fill": {
              "color": "#C8D4E3"
             },
             "line": {
              "color": "white"
             }
            },
            "type": "table"
           }
          ]
         },
         "layout": {
          "annotationdefaults": {
           "arrowcolor": "#2a3f5f",
           "arrowhead": 0,
           "arrowwidth": 1
          },
          "autotypenumbers": "strict",
          "coloraxis": {
           "colorbar": {
            "outlinewidth": 0,
            "ticks": ""
           }
          },
          "colorscale": {
           "diverging": [
            [
             0,
             "#8e0152"
            ],
            [
             0.1,
             "#c51b7d"
            ],
            [
             0.2,
             "#de77ae"
            ],
            [
             0.3,
             "#f1b6da"
            ],
            [
             0.4,
             "#fde0ef"
            ],
            [
             0.5,
             "#f7f7f7"
            ],
            [
             0.6,
             "#e6f5d0"
            ],
            [
             0.7,
             "#b8e186"
            ],
            [
             0.8,
             "#7fbc41"
            ],
            [
             0.9,
             "#4d9221"
            ],
            [
             1,
             "#276419"
            ]
           ],
           "sequential": [
            [
             0,
             "#0d0887"
            ],
            [
             0.1111111111111111,
             "#46039f"
            ],
            [
             0.2222222222222222,
             "#7201a8"
            ],
            [
             0.3333333333333333,
             "#9c179e"
            ],
            [
             0.4444444444444444,
             "#bd3786"
            ],
            [
             0.5555555555555556,
             "#d8576b"
            ],
            [
             0.6666666666666666,
             "#ed7953"
            ],
            [
             0.7777777777777778,
             "#fb9f3a"
            ],
            [
             0.8888888888888888,
             "#fdca26"
            ],
            [
             1,
             "#f0f921"
            ]
           ],
           "sequentialminus": [
            [
             0,
             "#0d0887"
            ],
            [
             0.1111111111111111,
             "#46039f"
            ],
            [
             0.2222222222222222,
             "#7201a8"
            ],
            [
             0.3333333333333333,
             "#9c179e"
            ],
            [
             0.4444444444444444,
             "#bd3786"
            ],
            [
             0.5555555555555556,
             "#d8576b"
            ],
            [
             0.6666666666666666,
             "#ed7953"
            ],
            [
             0.7777777777777778,
             "#fb9f3a"
            ],
            [
             0.8888888888888888,
             "#fdca26"
            ],
            [
             1,
             "#f0f921"
            ]
           ]
          },
          "colorway": [
           "#636efa",
           "#EF553B",
           "#00cc96",
           "#ab63fa",
           "#FFA15A",
           "#19d3f3",
           "#FF6692",
           "#B6E880",
           "#FF97FF",
           "#FECB52"
          ],
          "font": {
           "color": "#2a3f5f"
          },
          "geo": {
           "bgcolor": "white",
           "lakecolor": "white",
           "landcolor": "#E5ECF6",
           "showlakes": true,
           "showland": true,
           "subunitcolor": "white"
          },
          "hoverlabel": {
           "align": "left"
          },
          "hovermode": "closest",
          "mapbox": {
           "style": "light"
          },
          "paper_bgcolor": "white",
          "plot_bgcolor": "#E5ECF6",
          "polar": {
           "angularaxis": {
            "gridcolor": "white",
            "linecolor": "white",
            "ticks": ""
           },
           "bgcolor": "#E5ECF6",
           "radialaxis": {
            "gridcolor": "white",
            "linecolor": "white",
            "ticks": ""
           }
          },
          "scene": {
           "xaxis": {
            "backgroundcolor": "#E5ECF6",
            "gridcolor": "white",
            "gridwidth": 2,
            "linecolor": "white",
            "showbackground": true,
            "ticks": "",
            "zerolinecolor": "white"
           },
           "yaxis": {
            "backgroundcolor": "#E5ECF6",
            "gridcolor": "white",
            "gridwidth": 2,
            "linecolor": "white",
            "showbackground": true,
            "ticks": "",
            "zerolinecolor": "white"
           },
           "zaxis": {
            "backgroundcolor": "#E5ECF6",
            "gridcolor": "white",
            "gridwidth": 2,
            "linecolor": "white",
            "showbackground": true,
            "ticks": "",
            "zerolinecolor": "white"
           }
          },
          "shapedefaults": {
           "line": {
            "color": "#2a3f5f"
           }
          },
          "ternary": {
           "aaxis": {
            "gridcolor": "white",
            "linecolor": "white",
            "ticks": ""
           },
           "baxis": {
            "gridcolor": "white",
            "linecolor": "white",
            "ticks": ""
           },
           "bgcolor": "#E5ECF6",
           "caxis": {
            "gridcolor": "white",
            "linecolor": "white",
            "ticks": ""
           }
          },
          "title": {
           "x": 0.05
          },
          "xaxis": {
           "automargin": true,
           "gridcolor": "white",
           "linecolor": "white",
           "ticks": "",
           "title": {
            "standoff": 15
           },
           "zerolinecolor": "white",
           "zerolinewidth": 2
          },
          "yaxis": {
           "automargin": true,
           "gridcolor": "white",
           "linecolor": "white",
           "ticks": "",
           "title": {
            "standoff": 15
           },
           "zerolinecolor": "white",
           "zerolinewidth": 2
          }
         }
        }
       }
      }
     },
     "metadata": {},
     "output_type": "display_data"
    }
   ],
   "source": [
    "fig2 = px.sunburst(emissions2020, path=[\"life cycle\", \"equipment\"], values=2020)\n",
    "fig2.update_traces(textinfo=\"label+percent root\")\n",
    "fig2.show()"
   ]
  },
  {
   "cell_type": "code",
   "execution_count": null,
   "metadata": {},
   "outputs": [],
   "source": []
  }
 ],
 "metadata": {
  "kernelspec": {
   "display_name": "Python 3",
   "language": "python",
   "name": "python3"
  },
  "language_info": {
   "codemirror_mode": {
    "name": "ipython",
    "version": 3
   },
   "file_extension": ".py",
   "mimetype": "text/x-python",
   "name": "python",
   "nbconvert_exporter": "python",
   "pygments_lexer": "ipython3",
   "version": "3.10.5"
  },
  "orig_nbformat": 4
 },
 "nbformat": 4,
 "nbformat_minor": 2
}
