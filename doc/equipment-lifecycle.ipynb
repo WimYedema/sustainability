{
 "cells": [
  {
   "cell_type": "markdown",
   "metadata": {},
   "source": [
    "# Analysis of IOT equipment life-cycle"
   ]
  },
  {
   "cell_type": "code",
   "execution_count": 1,
   "metadata": {
    "tags": [
     "remove-cell"
    ]
   },
   "outputs": [],
   "source": [
    "import pandas as pd"
   ]
  },
  {
   "cell_type": "markdown",
   "metadata": {},
   "source": [
    "In this section we will analyse the consequences of the environmental footprint\n",
    "of the lifecycle of typical IOT equipment. We will use the devices listed below, where *Power draw* is in Watts, *Power use* is in kWh/year, *Use emissions* is in kgCO{sub}`2`e/year, *Manufacturing emissions* is in kgCO{sub}`2`e, and *Lifespan* is in years."
   ]
  },
  {
   "cell_type": "code",
   "execution_count": 2,
   "metadata": {
    "tags": [
     "remove-input"
    ]
   },
   "outputs": [
    {
     "data": {
      "text/html": [
       "<div>\n",
       "<style scoped>\n",
       "    .dataframe tbody tr th:only-of-type {\n",
       "        vertical-align: middle;\n",
       "    }\n",
       "\n",
       "    .dataframe tbody tr th {\n",
       "        vertical-align: top;\n",
       "    }\n",
       "\n",
       "    .dataframe thead th {\n",
       "        text-align: right;\n",
       "    }\n",
       "</style>\n",
       "<table border=\"1\" class=\"dataframe\">\n",
       "  <thead>\n",
       "    <tr style=\"text-align: right;\">\n",
       "      <th></th>\n",
       "      <th>Power draw</th>\n",
       "      <th>Power use</th>\n",
       "      <th>Use emissions</th>\n",
       "      <th>Manufacturing emissions</th>\n",
       "      <th>Lifespan</th>\n",
       "    </tr>\n",
       "    <tr>\n",
       "      <th>Name</th>\n",
       "      <th></th>\n",
       "      <th></th>\n",
       "      <th></th>\n",
       "      <th></th>\n",
       "      <th></th>\n",
       "    </tr>\n",
       "  </thead>\n",
       "  <tbody>\n",
       "    <tr>\n",
       "      <th>Sensor 1</th>\n",
       "      <td>1.0</td>\n",
       "      <td>8.76</td>\n",
       "      <td>4.21356</td>\n",
       "      <td>10</td>\n",
       "      <td>10</td>\n",
       "    </tr>\n",
       "    <tr>\n",
       "      <th>Sensor 2</th>\n",
       "      <td>0.5</td>\n",
       "      <td>4.38</td>\n",
       "      <td>2.10678</td>\n",
       "      <td>20</td>\n",
       "      <td>10</td>\n",
       "    </tr>\n",
       "    <tr>\n",
       "      <th>Disposal</th>\n",
       "      <td>0.0</td>\n",
       "      <td>0.00</td>\n",
       "      <td>0.00000</td>\n",
       "      <td>3</td>\n",
       "      <td>1</td>\n",
       "    </tr>\n",
       "    <tr>\n",
       "      <th>Camera 1</th>\n",
       "      <td>10.0</td>\n",
       "      <td>87.60</td>\n",
       "      <td>42.13560</td>\n",
       "      <td>20</td>\n",
       "      <td>4</td>\n",
       "    </tr>\n",
       "    <tr>\n",
       "      <th>Camera 2</th>\n",
       "      <td>7.0</td>\n",
       "      <td>61.32</td>\n",
       "      <td>29.49492</td>\n",
       "      <td>30</td>\n",
       "      <td>5</td>\n",
       "    </tr>\n",
       "  </tbody>\n",
       "</table>\n",
       "</div>"
      ],
      "text/plain": [
       "          Power draw  Power use  Use emissions  Manufacturing emissions  \\\n",
       "Name                                                                      \n",
       "Sensor 1         1.0       8.76        4.21356                       10   \n",
       "Sensor 2         0.5       4.38        2.10678                       20   \n",
       "Disposal         0.0       0.00        0.00000                        3   \n",
       "Camera 1        10.0      87.60       42.13560                       20   \n",
       "Camera 2         7.0      61.32       29.49492                       30   \n",
       "\n",
       "          Lifespan  \n",
       "Name                \n",
       "Sensor 1        10  \n",
       "Sensor 2        10  \n",
       "Disposal         1  \n",
       "Camera 1         4  \n",
       "Camera 2         5  "
      ]
     },
     "execution_count": 2,
     "metadata": {},
     "output_type": "execute_result"
    }
   ],
   "source": [
    "fd = pd.read_csv(\"fictional-devices.csv\", index_col=\"Name\")\n",
    "fd"
   ]
  },
  {
   "cell_type": "markdown",
   "metadata": {},
   "source": [
    "From these devices we will make the following combinations:"
   ]
  },
  {
   "cell_type": "code",
   "execution_count": 3,
   "metadata": {
    "tags": [
     "remove-input"
    ]
   },
   "outputs": [
    {
     "data": {
      "text/html": [
       "<div>\n",
       "<style scoped>\n",
       "    .dataframe tbody tr th:only-of-type {\n",
       "        vertical-align: middle;\n",
       "    }\n",
       "\n",
       "    .dataframe tbody tr th {\n",
       "        vertical-align: top;\n",
       "    }\n",
       "\n",
       "    .dataframe thead th {\n",
       "        text-align: right;\n",
       "    }\n",
       "</style>\n",
       "<table border=\"1\" class=\"dataframe\">\n",
       "  <thead>\n",
       "    <tr style=\"text-align: right;\">\n",
       "      <th></th>\n",
       "      <th>Name</th>\n",
       "      <th>Old device</th>\n",
       "      <th>New device</th>\n",
       "    </tr>\n",
       "  </thead>\n",
       "  <tbody>\n",
       "    <tr>\n",
       "      <th>0</th>\n",
       "      <td>S1 - S2</td>\n",
       "      <td>Sensor 1</td>\n",
       "      <td>Sensor 2</td>\n",
       "    </tr>\n",
       "    <tr>\n",
       "      <th>1</th>\n",
       "      <td>S1 - Disposal</td>\n",
       "      <td>Sensor 1</td>\n",
       "      <td>Disposal</td>\n",
       "    </tr>\n",
       "    <tr>\n",
       "      <th>2</th>\n",
       "      <td>C1 - C2</td>\n",
       "      <td>Camera 1</td>\n",
       "      <td>Camera 2</td>\n",
       "    </tr>\n",
       "  </tbody>\n",
       "</table>\n",
       "</div>"
      ],
      "text/plain": [
       "            Name Old device New device\n",
       "0        S1 - S2   Sensor 1   Sensor 2\n",
       "1  S1 - Disposal   Sensor 1   Disposal\n",
       "2        C1 - C2   Camera 1   Camera 2"
      ]
     },
     "execution_count": 3,
     "metadata": {},
     "output_type": "execute_result"
    }
   ],
   "source": [
    "fe = pd.read_csv(\"fictional-examples.csv\")\n",
    "fe"
   ]
  },
  {
   "cell_type": "markdown",
   "metadata": {},
   "source": [
    "On these we compute the break-even point in years, and in % of the life-span of the old device:"
   ]
  },
  {
   "cell_type": "code",
   "execution_count": 6,
   "metadata": {
    "tags": [
     "remove-input"
    ]
   },
   "outputs": [
    {
     "data": {
      "text/html": [
       "<div>\n",
       "<style scoped>\n",
       "    .dataframe tbody tr th:only-of-type {\n",
       "        vertical-align: middle;\n",
       "    }\n",
       "\n",
       "    .dataframe tbody tr th {\n",
       "        vertical-align: top;\n",
       "    }\n",
       "\n",
       "    .dataframe thead th {\n",
       "        text-align: right;\n",
       "    }\n",
       "</style>\n",
       "<table border=\"1\" class=\"dataframe\">\n",
       "  <thead>\n",
       "    <tr style=\"text-align: right;\">\n",
       "      <th></th>\n",
       "      <th>Old device</th>\n",
       "      <th>New device</th>\n",
       "      <th>Break-even</th>\n",
       "      <th>Break-even % lifespan</th>\n",
       "    </tr>\n",
       "  </thead>\n",
       "  <tbody>\n",
       "    <tr>\n",
       "      <th>0</th>\n",
       "      <td>Sensor 1</td>\n",
       "      <td>Sensor 2</td>\n",
       "      <td>9.493160</td>\n",
       "      <td>0.949316</td>\n",
       "    </tr>\n",
       "    <tr>\n",
       "      <th>1</th>\n",
       "      <td>Sensor 1</td>\n",
       "      <td>Disposal</td>\n",
       "      <td>0.711987</td>\n",
       "      <td>0.071199</td>\n",
       "    </tr>\n",
       "    <tr>\n",
       "      <th>2</th>\n",
       "      <td>Camera 1</td>\n",
       "      <td>Camera 2</td>\n",
       "      <td>2.373290</td>\n",
       "      <td>0.593323</td>\n",
       "    </tr>\n",
       "  </tbody>\n",
       "</table>\n",
       "</div>"
      ],
      "text/plain": [
       "  Old device New device  Break-even  Break-even % lifespan\n",
       "0   Sensor 1   Sensor 2    9.493160               0.949316\n",
       "1   Sensor 1   Disposal    0.711987               0.071199\n",
       "2   Camera 1   Camera 2    2.373290               0.593323"
      ]
     },
     "execution_count": 6,
     "metadata": {},
     "output_type": "execute_result"
    }
   ],
   "source": [
    "w_old = fe.join(fd[[\"Use emissions\", \"Lifespan\"]], on=\"Old device\", rsuffix=\" old\")\n",
    "w_new = w_old.join(fd[[\"Use emissions\", \"Manufacturing emissions\"]], on=\"New device\", rsuffix=\" new\")\n",
    "complete = w_new\n",
    "complete[\"Break-even years\"] = complete[\"Manufacturing emissions\"] / (complete[\"Use emissions\"] - complete[\"Use emissions new\"])\n",
    "complete[\"Break-even % lifespan\"] = complete[\"Break-even years\"]/complete[\"Lifespan\"]\n",
    "complete[[\"Old device\", \"New device\", \"Break-even years\", \"Break-even % lifespan\"]]"
   ]
  }
 ],
 "metadata": {
  "kernelspec": {
   "display_name": "sustainability-5SB2DSaF",
   "language": "python",
   "name": "python3"
  },
  "language_info": {
   "codemirror_mode": {
    "name": "ipython",
    "version": 3
   },
   "file_extension": ".py",
   "mimetype": "text/x-python",
   "name": "python",
   "nbconvert_exporter": "python",
   "pygments_lexer": "ipython3",
   "version": "3.11.2"
  },
  "orig_nbformat": 4
 },
 "nbformat": 4,
 "nbformat_minor": 2
}
